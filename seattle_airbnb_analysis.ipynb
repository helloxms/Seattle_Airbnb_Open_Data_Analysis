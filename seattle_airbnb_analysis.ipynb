{
 "cells": [
  {
   "cell_type": "markdown",
   "metadata": {},
   "source": [
    "# Seattle Airbnb Open Data Analys\n",
    "\n",
    "\n",
    "\n",
    "\n",
    "\n",
    "## Data Description：\n",
    "since 2008,guests and hosts have used Airbnb to travel in a more unique, personalized way. As part of the Airbnb Inside initiative, this dataset describes the listing activity of homestays in Seattle, WA.\n"
   ]
  },
  {
   "cell_type": "markdown",
   "metadata": {},
   "source": [
    "## 1. Get Data:\n",
    "The following Airbnb activity is included in this Seattle dataset:\n",
    "Listings, including full descriptions and average review score\n",
    "Reviews, including unique id for each reviewer and detailed comments\n",
    "Calendar, including listing id and the price and availability for that day"
   ]
  },
  {
   "cell_type": "code",
   "execution_count": 1,
   "metadata": {
    "scrolled": true
   },
   "outputs": [],
   "source": [
    "import numpy as np\n",
    "import pandas as pd\n",
    "import matplotlib.pyplot as plt\n",
    "%matplotlib inline"
   ]
  },
  {
   "cell_type": "code",
   "execution_count": 2,
   "metadata": {
    "scrolled": true
   },
   "outputs": [],
   "source": [
    "%matplotlib inline\n",
    "\n",
    "listings = pd.read_csv('listings.csv')\n",
    "calendar = pd.read_csv('calendar.csv')\n",
    "reviews = pd.read_csv('reviews.csv')"
   ]
  },
  {
   "cell_type": "code",
   "execution_count": 3,
   "metadata": {
    "scrolled": true
   },
   "outputs": [
    {
     "data": {
      "text/html": [
       "<div>\n",
       "<style scoped>\n",
       "    .dataframe tbody tr th:only-of-type {\n",
       "        vertical-align: middle;\n",
       "    }\n",
       "\n",
       "    .dataframe tbody tr th {\n",
       "        vertical-align: top;\n",
       "    }\n",
       "\n",
       "    .dataframe thead th {\n",
       "        text-align: right;\n",
       "    }\n",
       "</style>\n",
       "<table border=\"1\" class=\"dataframe\">\n",
       "  <thead>\n",
       "    <tr style=\"text-align: right;\">\n",
       "      <th></th>\n",
       "      <th>id</th>\n",
       "      <th>listing_url</th>\n",
       "      <th>scrape_id</th>\n",
       "      <th>last_scraped</th>\n",
       "      <th>name</th>\n",
       "      <th>summary</th>\n",
       "      <th>space</th>\n",
       "      <th>description</th>\n",
       "      <th>experiences_offered</th>\n",
       "      <th>neighborhood_overview</th>\n",
       "      <th>...</th>\n",
       "      <th>review_scores_value</th>\n",
       "      <th>requires_license</th>\n",
       "      <th>license</th>\n",
       "      <th>jurisdiction_names</th>\n",
       "      <th>instant_bookable</th>\n",
       "      <th>cancellation_policy</th>\n",
       "      <th>require_guest_profile_picture</th>\n",
       "      <th>require_guest_phone_verification</th>\n",
       "      <th>calculated_host_listings_count</th>\n",
       "      <th>reviews_per_month</th>\n",
       "    </tr>\n",
       "  </thead>\n",
       "  <tbody>\n",
       "    <tr>\n",
       "      <td>2562</td>\n",
       "      <td>8505940</td>\n",
       "      <td>https://www.airbnb.com/rooms/8505940</td>\n",
       "      <td>20160104002432</td>\n",
       "      <td>2016-01-04</td>\n",
       "      <td>Cozy room near UW</td>\n",
       "      <td>This 1918 house in the Montlake district is lo...</td>\n",
       "      <td>This beautiful 1918 home in the Montlake distr...</td>\n",
       "      <td>This 1918 house in the Montlake district is lo...</td>\n",
       "      <td>none</td>\n",
       "      <td>Montlake is a fashionable residential neighbor...</td>\n",
       "      <td>...</td>\n",
       "      <td>10.0</td>\n",
       "      <td>f</td>\n",
       "      <td>NaN</td>\n",
       "      <td>WASHINGTON</td>\n",
       "      <td>f</td>\n",
       "      <td>moderate</td>\n",
       "      <td>f</td>\n",
       "      <td>f</td>\n",
       "      <td>2</td>\n",
       "      <td>4.20</td>\n",
       "    </tr>\n",
       "    <tr>\n",
       "      <td>1425</td>\n",
       "      <td>5270886</td>\n",
       "      <td>https://www.airbnb.com/rooms/5270886</td>\n",
       "      <td>20160104002432</td>\n",
       "      <td>2016-01-04</td>\n",
       "      <td>Walk To Space Needle, Pike Place S7</td>\n",
       "      <td>Experience Seattle's ultimate urban condo livi...</td>\n",
       "      <td>NaN</td>\n",
       "      <td>Experience Seattle's ultimate urban condo livi...</td>\n",
       "      <td>none</td>\n",
       "      <td>Close to everything including:  * The Space Ne...</td>\n",
       "      <td>...</td>\n",
       "      <td>9.0</td>\n",
       "      <td>f</td>\n",
       "      <td>NaN</td>\n",
       "      <td>WASHINGTON</td>\n",
       "      <td>f</td>\n",
       "      <td>strict</td>\n",
       "      <td>f</td>\n",
       "      <td>t</td>\n",
       "      <td>3</td>\n",
       "      <td>1.53</td>\n",
       "    </tr>\n",
       "  </tbody>\n",
       "</table>\n",
       "<p>2 rows × 92 columns</p>\n",
       "</div>"
      ],
      "text/plain": [
       "           id                           listing_url       scrape_id  \\\n",
       "2562  8505940  https://www.airbnb.com/rooms/8505940  20160104002432   \n",
       "1425  5270886  https://www.airbnb.com/rooms/5270886  20160104002432   \n",
       "\n",
       "     last_scraped                                 name  \\\n",
       "2562   2016-01-04                    Cozy room near UW   \n",
       "1425   2016-01-04  Walk To Space Needle, Pike Place S7   \n",
       "\n",
       "                                                summary  \\\n",
       "2562  This 1918 house in the Montlake district is lo...   \n",
       "1425  Experience Seattle's ultimate urban condo livi...   \n",
       "\n",
       "                                                  space  \\\n",
       "2562  This beautiful 1918 home in the Montlake distr...   \n",
       "1425                                                NaN   \n",
       "\n",
       "                                            description experiences_offered  \\\n",
       "2562  This 1918 house in the Montlake district is lo...                none   \n",
       "1425  Experience Seattle's ultimate urban condo livi...                none   \n",
       "\n",
       "                                  neighborhood_overview  ...  \\\n",
       "2562  Montlake is a fashionable residential neighbor...  ...   \n",
       "1425  Close to everything including:  * The Space Ne...  ...   \n",
       "\n",
       "     review_scores_value requires_license license jurisdiction_names  \\\n",
       "2562                10.0                f     NaN         WASHINGTON   \n",
       "1425                 9.0                f     NaN         WASHINGTON   \n",
       "\n",
       "     instant_bookable cancellation_policy  require_guest_profile_picture  \\\n",
       "2562                f            moderate                              f   \n",
       "1425                f              strict                              f   \n",
       "\n",
       "     require_guest_phone_verification calculated_host_listings_count  \\\n",
       "2562                                f                              2   \n",
       "1425                                t                              3   \n",
       "\n",
       "     reviews_per_month  \n",
       "2562              4.20  \n",
       "1425              1.53  \n",
       "\n",
       "[2 rows x 92 columns]"
      ]
     },
     "execution_count": 3,
     "metadata": {},
     "output_type": "execute_result"
    }
   ],
   "source": [
    "listings.sample(2,random_state=42)"
   ]
  },
  {
   "cell_type": "code",
   "execution_count": 4,
   "metadata": {
    "scrolled": true
   },
   "outputs": [
    {
     "name": "stdout",
     "output_type": "stream",
     "text": [
      "listings columns:\n",
      "Index(['id', 'listing_url', 'scrape_id', 'last_scraped', 'name', 'summary',\n",
      "       'space', 'description', 'experiences_offered', 'neighborhood_overview',\n",
      "       'notes', 'transit', 'thumbnail_url', 'medium_url', 'picture_url',\n",
      "       'xl_picture_url', 'host_id', 'host_url', 'host_name', 'host_since',\n",
      "       'host_location', 'host_about', 'host_response_time',\n",
      "       'host_response_rate', 'host_acceptance_rate', 'host_is_superhost',\n",
      "       'host_thumbnail_url', 'host_picture_url', 'host_neighbourhood',\n",
      "       'host_listings_count', 'host_total_listings_count',\n",
      "       'host_verifications', 'host_has_profile_pic', 'host_identity_verified',\n",
      "       'street', 'neighbourhood', 'neighbourhood_cleansed',\n",
      "       'neighbourhood_group_cleansed', 'city', 'state', 'zipcode', 'market',\n",
      "       'smart_location', 'country_code', 'country', 'latitude', 'longitude',\n",
      "       'is_location_exact', 'property_type', 'room_type', 'accommodates',\n",
      "       'bathrooms', 'bedrooms', 'beds', 'bed_type', 'amenities', 'square_feet',\n",
      "       'price', 'weekly_price', 'monthly_price', 'security_deposit',\n",
      "       'cleaning_fee', 'guests_included', 'extra_people', 'minimum_nights',\n",
      "       'maximum_nights', 'calendar_updated', 'has_availability',\n",
      "       'availability_30', 'availability_60', 'availability_90',\n",
      "       'availability_365', 'calendar_last_scraped', 'number_of_reviews',\n",
      "       'first_review', 'last_review', 'review_scores_rating',\n",
      "       'review_scores_accuracy', 'review_scores_cleanliness',\n",
      "       'review_scores_checkin', 'review_scores_communication',\n",
      "       'review_scores_location', 'review_scores_value', 'requires_license',\n",
      "       'license', 'jurisdiction_names', 'instant_bookable',\n",
      "       'cancellation_policy', 'require_guest_profile_picture',\n",
      "       'require_guest_phone_verification', 'calculated_host_listings_count',\n",
      "       'reviews_per_month'],\n",
      "      dtype='object')\n",
      "(3818, 92)\n",
      "calendar columns:\n",
      "Index(['listing_id', 'date', 'available', 'price'], dtype='object')\n",
      "(1393570, 4)\n",
      "reviews columns:\n",
      "Index(['listing_id', 'id', 'date', 'reviewer_id', 'reviewer_name', 'comments'], dtype='object')\n",
      "(84849, 6)\n"
     ]
    }
   ],
   "source": [
    "print(\"listings columns:\")\n",
    "print(listings.columns)\n",
    "print(listings.shape)\n",
    "print(\"calendar columns:\")\n",
    "print(calendar.columns)\n",
    "print(calendar.shape)\n",
    "print(\"reviews columns:\")\n",
    "print(reviews.columns)\n",
    "print(reviews.shape)"
   ]
  },
  {
   "cell_type": "markdown",
   "metadata": {},
   "source": [
    "###### listings columns:\n",
    "\n",
    "['id', 'listing_url', 'scrape_id', 'last_scraped', 'name', 'summary',\n",
    "       'space', 'description', 'experiences_offered', 'neighborhood_overview',\n",
    "       'notes', 'transit', 'thumbnail_url', 'medium_url', 'picture_url',\n",
    "       'xl_picture_url', 'host_id', 'host_url', 'host_name', 'host_since',\n",
    "       'host_location', 'host_about', 'host_response_time',\n",
    "       'host_response_rate', 'host_acceptance_rate', 'host_is_superhost',\n",
    "       'host_thumbnail_url', 'host_picture_url', 'host_neighbourhood',\n",
    "       'host_listings_count', 'host_total_listings_count',\n",
    "       'host_verifications', 'host_has_profile_pic', 'host_identity_verified',\n",
    "       'street', 'neighbourhood', 'neighbourhood_cleansed',\n",
    "       'neighbourhood_group_cleansed', 'city', 'state', 'zipcode', 'market',\n",
    "       'smart_location', 'country_code', 'country', 'latitude', 'longitude',\n",
    "       'is_location_exact', 'property_type', 'room_type', 'accommodates',\n",
    "       'bathrooms', 'bedrooms', 'beds', 'bed_type', 'amenities', 'square_feet',\n",
    "       'price', 'weekly_price', 'monthly_price', 'security_deposit',\n",
    "       'cleaning_fee', 'guests_included', 'extra_people', 'minimum_nights',\n",
    "       'maximum_nights', 'calendar_updated', 'has_availability',\n",
    "       'availability_30', 'availability_60', 'availability_90',\n",
    "       'availability_365', 'calendar_last_scraped', 'number_of_reviews',\n",
    "       'first_review', 'last_review', 'review_scores_rating',\n",
    "       'review_scores_accuracy', 'review_scores_cleanliness',\n",
    "       'review_scores_checkin', 'review_scores_communication',\n",
    "       'review_scores_location', 'review_scores_value', 'requires_license',\n",
    "       'license', 'jurisdiction_names', 'instant_bookable',\n",
    "       'cancellation_policy', 'require_guest_profile_picture',\n",
    "       'require_guest_phone_verification', 'calculated_host_listings_count',\n",
    "       'reviews_per_month']s\n",
    "       \n",
    "(3818, 92)\n",
    "\n",
    "\n",
    "###### calendar columns:\n",
    "['listing_id', 'date', 'available', 'price']\n",
    "(1393570, 4)\n",
    "\n",
    "\n",
    "###### reviews columns:\n",
    "['listing_id', 'id', 'date', 'reviewer_id', 'reviewer_name', 'comments']\n",
    "(84849, 6)"
   ]
  },
  {
   "cell_type": "code",
   "execution_count": 5,
   "metadata": {
    "scrolled": false
   },
   "outputs": [
    {
     "name": "stdout",
     "output_type": "stream",
     "text": [
      "Index(['listing_id', 'date', 'available', 'price'], dtype='object')\n",
      "(1393570, 4)\n",
      "listing_id     int64\n",
      "date          object\n",
      "available     object\n",
      "price         object\n",
      "dtype: object\n",
      "0     $85.00\n",
      "1     $85.00\n",
      "2        NaN\n",
      "3        NaN\n",
      "4        NaN\n",
      "       ...  \n",
      "95    $85.00\n",
      "96    $85.00\n",
      "97    $85.00\n",
      "98    $85.00\n",
      "99    $85.00\n",
      "Name: price, Length: 100, dtype: object\n"
     ]
    }
   ],
   "source": [
    "print(calendar.columns)\n",
    "print(calendar.shape)\n",
    "print(calendar.dtypes)\n",
    "print(calendar['price'].head(100))"
   ]
  },
  {
   "cell_type": "markdown",
   "metadata": {},
   "source": [
    "###### transfer calendar's price,available params's data type to numeric type"
   ]
  },
  {
   "cell_type": "code",
   "execution_count": 6,
   "metadata": {},
   "outputs": [],
   "source": [
    "def str_obj_to_number( str_obj):\n",
    "    if len(str(str_obj))>0:\n",
    "        str_obj = str(str_obj).replace(',', '').split('$')[-1]\n",
    "        number = float(str_obj )\n",
    "    else:\n",
    "        print(str_obj)\n",
    "        number = None\n",
    "    return number\n",
    "\n",
    "def booleans_to_number( s):\n",
    "    if s == 'f':\n",
    "        return 0\n",
    "    elif s == 't':\n",
    "        return 1\n",
    "    return None"
   ]
  },
  {
   "cell_type": "code",
   "execution_count": 7,
   "metadata": {
    "scrolled": true
   },
   "outputs": [
    {
     "name": "stdout",
     "output_type": "stream",
     "text": [
      "calendar.price dtype is :object\n",
      "calendar.available dtype is :object\n",
      "calendar.price dtype is :float64\n",
      "calendar.available dtype is :int64\n",
      "calendar:shape: (1393570, 4)\n"
     ]
    }
   ],
   "source": [
    "print(\"calendar.price dtype is :{}\".format(calendar['price'].dtype))\n",
    "print(\"calendar.available dtype is :{}\".format(calendar['available'].dtype))\n",
    "calendar['price'] = calendar['price'].apply(str_obj_to_number)\n",
    "calendar['available'] = calendar['available'].apply(booleans_to_number)\n",
    "print(\"calendar.price dtype is :{}\".format(calendar['price'].dtype))\n",
    "print(\"calendar.available dtype is :{}\".format(calendar['available'].dtype))\n",
    "#calendar[calendar['listing_id'] == 8666707 & calendar['price'].notnull() ]\n",
    "print(\"calendar:shape: {}\".format(calendar.shape))\n",
    "\n"
   ]
  },
  {
   "cell_type": "code",
   "execution_count": 8,
   "metadata": {
    "scrolled": true
   },
   "outputs": [
    {
     "name": "stdout",
     "output_type": "stream",
     "text": [
      "(3818,)\n",
      "count    3818.0\n",
      "mean      365.0\n",
      "std         0.0\n",
      "min       365.0\n",
      "25%       365.0\n",
      "50%       365.0\n",
      "75%       365.0\n",
      "max       365.0\n",
      "Name: listing_id, dtype: float64\n"
     ]
    }
   ],
   "source": [
    "calendar_listing_id_list = calendar['listing_id'].value_counts()\n",
    "print(calendar_listing_id_list.shape)\n",
    "print(calendar_listing_id_list.describe())"
   ]
  },
  {
   "cell_type": "markdown",
   "metadata": {},
   "source": [
    "###### we can get some info from calendar data :\n",
    "- there are 3818 listing ids in Calendar data\n",
    "- every listing ids have 365 days's record\n",
    "- some listing ids are NOT available all year，some are available all year"
   ]
  },
  {
   "cell_type": "code",
   "execution_count": 9,
   "metadata": {},
   "outputs": [],
   "source": [
    "available_days = {}\n",
    "available_days['listing_id'] = []\n",
    "available_days['days'] = []"
   ]
  },
  {
   "cell_type": "code",
   "execution_count": 10,
   "metadata": {},
   "outputs": [],
   "source": [
    "for i in range(0, calendar_listing_id_list.shape[0]):\n",
    "    sample = calendar.loc[calendar['listing_id'] == calendar_listing_id_list.index[i] ]\n",
    "    available_days['listing_id'].append(calendar_listing_id_list.index[i])\n",
    "    available_days['days'].append(sample['price'].notnull().sum())\n",
    "    "
   ]
  },
  {
   "cell_type": "code",
   "execution_count": 11,
   "metadata": {},
   "outputs": [
    {
     "name": "stdout",
     "output_type": "stream",
     "text": [
      "244.7726558407543\n"
     ]
    }
   ],
   "source": [
    "df1 = pd.DataFrame(available_days )\n",
    "df1 = df1.sort_values('days',axis = 0,ascending = True)\n",
    "data = df1['days']\n",
    "mean_days = df1['days'].mean()\n",
    "print(mean_days)"
   ]
  },
  {
   "cell_type": "markdown",
   "metadata": {},
   "source": [
    "###### About available days\n",
    "There are about 245 days available for rent, about 120 days are rented.\n"
   ]
  },
  {
   "cell_type": "code",
   "execution_count": 13,
   "metadata": {},
   "outputs": [
    {
     "data": {
      "image/png": "[encoded data removed]",
      "text/plain": [
       "<Figure size 432x288 with 1 Axes>"
      ]
     },
     "metadata": {
      "needs_background": "light"
     },
     "output_type": "display_data"
    }
   ],
   "source": [
    "plt.bar(range(len(data)), data)\n",
    "plt.title(\"available days, 3818hoster\")\n",
    "y=mean_days\n",
    "plt.hlines(y, 0, 3800)\n",
    "plt.show()"
   ]
  },
  {
   "cell_type": "code",
   "execution_count": 14,
   "metadata": {
    "scrolled": true
   },
   "outputs": [
    {
     "name": "stdout",
     "output_type": "stream",
     "text": [
      "Index(['listing_id', 'id', 'date', 'reviewer_id', 'reviewer_name', 'comments'], dtype='object')\n",
      "(84849, 6)\n",
      "listing_id        int64\n",
      "id                int64\n",
      "date             object\n",
      "reviewer_id       int64\n",
      "reviewer_name    object\n",
      "comments         object\n",
      "dtype: object\n"
     ]
    }
   ],
   "source": [
    "print(reviews.columns)\n",
    "print(reviews.shape)\n",
    "print(reviews.dtypes)"
   ]
  },
  {
   "cell_type": "code",
   "execution_count": 15,
   "metadata": {
    "scrolled": true
   },
   "outputs": [
    {
     "name": "stdout",
     "output_type": "stream",
     "text": [
      "True\n",
      "3191\n"
     ]
    }
   ],
   "source": [
    "\n",
    "def find_listing_id_in_calendars( raw ):\n",
    "    if raw.listing_id in calendar_listing_id_list.index:\n",
    "        return True\n",
    "    else:\n",
    "        return False\n",
    "    \n",
    "finding_list = reviews.apply(find_listing_id_in_calendars, axis = 1)\n",
    "\n",
    "reviewer_count = reviews.listing_id.unique()\n",
    "print( finding_list.value_counts().sum() == reviews.shape[0])\n",
    "print( len(reviewer_count))"
   ]
  },
  {
   "cell_type": "markdown",
   "metadata": {},
   "source": [
    "##### Are all reviews data's listing ids in calendar data's listing ids? Answer is : True\n",
    "all reviews data's listing_id is in calendar\n",
    "\n",
    "reviewer dataframe's listing id size is 3191"
   ]
  },
  {
   "cell_type": "code",
   "execution_count": 16,
   "metadata": {},
   "outputs": [
    {
     "name": "stdout",
     "output_type": "stream",
     "text": [
      "3818\n"
     ]
    }
   ],
   "source": [
    "listing_data_id_list = listings['id'].unique()\n",
    "print(len(listing_data_id_list))"
   ]
  },
  {
   "cell_type": "code",
   "execution_count": 17,
   "metadata": {},
   "outputs": [
    {
     "name": "stdout",
     "output_type": "stream",
     "text": [
      "0.8357778941854374\n"
     ]
    }
   ],
   "source": [
    "\n",
    "reviews_listing_id_list = reviews['listing_id'].value_counts()\n",
    "def find_listing_id_2( raw ):\n",
    "    if raw.id in reviews_listing_id_list.index:\n",
    "        return True\n",
    "    else:\n",
    "        return False\n",
    "finding_list = listings.apply(find_listing_id_2, axis = 1)\n",
    "finding_list.describe()\n",
    "finding_list.value_counts()\n",
    "percentage_of_review = 3191*1.0/3818\n",
    "print(percentage_of_review)"
   ]
  },
  {
   "cell_type": "code",
   "execution_count": 18,
   "metadata": {},
   "outputs": [
    {
     "name": "stdout",
     "output_type": "stream",
     "text": [
      "   listing_id  days\n",
      "0    10310373   290\n",
      "1     9280767   144\n",
      "2     9910189   365\n",
      "3     8989807   352\n",
      "4     9497431   351\n"
     ]
    }
   ],
   "source": [
    "reviews_listing_id_list = reviews['listing_id'].value_counts()\n",
    "missed_listing_id_list = list()\n",
    "for i in range(0,calendar_listing_id_list.shape[0] ):\n",
    "    if calendar_listing_id_list.index[i] not in reviews_listing_id_list.index:\n",
    "        missed_listing_id_list.append(calendar_listing_id_list.index[i] )\n",
    "\n",
    "missed_listing_id_df = pd.DataFrame({\"listing_id\":missed_listing_id_list} ,columns=['listing_id'], dtype=np.int64)\n",
    "\n",
    "missed_listing_id_df['days'] = [0 for i in range(len(missed_listing_id_df))]\n",
    "\n",
    "for i in range(0,missed_listing_id_df.shape[0]):\n",
    "    x = missed_listing_id_df['listing_id'][i]\n",
    "    missed_listing_id_df['days'][i] = available_days['days'][i]\n",
    "    \n",
    "print(missed_listing_id_df.head())"
   ]
  },
  {
   "cell_type": "code",
   "execution_count": 19,
   "metadata": {},
   "outputs": [
    {
     "name": "stdout",
     "output_type": "stream",
     "text": [
      "246.23923444976077\n"
     ]
    },
    {
     "data": {
      "image/png": "[encoded data removed]",
      "text/plain": [
       "<Figure size 432x288 with 1 Axes>"
      ]
     },
     "metadata": {
      "needs_background": "light"
     },
     "output_type": "display_data"
    }
   ],
   "source": [
    "\n",
    "missed_listing_id_df = missed_listing_id_df.sort_values('days',axis = 0,ascending = True)\n",
    "data = missed_listing_id_df['days']\n",
    "mean_days = missed_listing_id_df['days'].mean()\n",
    "print(mean_days)\n",
    "plt.bar(range(len(data)), data)\n",
    "plt.title(\"available days\")\n",
    "y=mean_days\n",
    "plt.hlines(y, 0, len(missed_listing_id_df))\n",
    "plt.show()"
   ]
  },
  {
   "cell_type": "markdown",
   "metadata": {},
   "source": [
    "###### Conclusion\n",
    "We get 627 listing ids in calendar data and NOT listed in reviews data\n",
    "\n",
    "We can see, the available days data distribution above are similar to the reviews data.\n",
    "\n",
    "the tenants reviewed on the rental are no specific reason."
   ]
  },
  {
   "cell_type": "markdown",
   "metadata": {
    "scrolled": true
   },
   "source": [
    "## 2: Clean Data  \n",
    "\n",
    "###### 2.1 Deal with null value\n",
    "\n",
    "find the most missing columns"
   ]
  },
  {
   "cell_type": "code",
   "execution_count": 20,
   "metadata": {},
   "outputs": [
    {
     "data": {
      "text/plain": [
       "<matplotlib.axes._subplots.AxesSubplot at 0x1660dca3dc8>"
      ]
     },
     "execution_count": 20,
     "metadata": {},
     "output_type": "execute_result"
    },
    {
     "data": {
      "image/png": "[encoded data removed]",
      "text/plain": [
       "<Figure size 432x288 with 1 Axes>"
      ]
     },
     "metadata": {
      "needs_background": "light"
     },
     "output_type": "display_data"
    }
   ],
   "source": [
    "#find percentage of missing values for each column\n",
    "listings_missing_percent = listings.isnull().mean()*100\n",
    "\n",
    "#filter out only columns, which have missing values\n",
    "listings_mis_columns = listings_missing_percent[listings_missing_percent > 20].sort_values(ascending=False)\n",
    "\n",
    "#plot the results\n",
    "listings_mis_columns.plot.bar(title='Missing values per column, 10%-100%')"
   ]
  },
  {
   "cell_type": "code",
   "execution_count": 21,
   "metadata": {
    "scrolled": true
   },
   "outputs": [
    {
     "data": {
      "text/plain": [
       "license                  1.000000\n",
       "square_feet              0.974594\n",
       "monthly_price            0.602672\n",
       "security_deposit         0.511262\n",
       "weekly_price             0.473808\n",
       "notes                    0.420639\n",
       "neighborhood_overview    0.270299\n",
       "cleaning_fee             0.269775\n",
       "transit                  0.244631\n",
       "host_about               0.224987\n",
       "host_acceptance_rate     0.202462\n",
       "dtype: float64"
      ]
     },
     "execution_count": 21,
     "metadata": {},
     "output_type": "execute_result"
    }
   ],
   "source": [
    "(listings[['weekly_price', 'transit', 'square_feet', 'security_deposit', 'notes',\n",
    "       'neighborhood_overview', 'monthly_price', 'license',\n",
    "       'host_acceptance_rate', 'host_about', 'cleaning_fee']].isnull().sum()/len(listings)).sort_values(ascending=False)"
   ]
  },
  {
   "cell_type": "markdown",
   "metadata": {},
   "source": [
    "**These params's missing value is bigger than 20%:**\n",
    "\n",
    "'license','square_feet', 'monthly_price', 'security_deposit','weekly_price',\n",
    " 'notes','neighborhood_overview', 'cleaning_fee', 'transit', \n",
    " 'host_about', 'host_acceptance_rate',"
   ]
  },
  {
   "cell_type": "markdown",
   "metadata": {
    "scrolled": true
   },
   "source": [
    "\n",
    "2.1.1 drop 'license','monthly_price','weekly_price'\n",
    "\n",
    "we drop the license column,for it is unrelated to the rent price,\n",
    "monthly_price,weekly_price are similar to the price, and they missed value too much, so we can drop them too.\n",
    "\n",
    "2.1.2 fill 'security_deposit' columns\n",
    "\n",
    "we can assume 'security_deposit' is default 0\n",
    "\n",
    "2.1.3 drop 'square_feet','nots', their missing rate are bigger than 40%\n",
    "\n"
   ]
  },
  {
   "cell_type": "code",
   "execution_count": 22,
   "metadata": {},
   "outputs": [
    {
     "data": {
      "text/plain": [
       "0"
      ]
     },
     "execution_count": 22,
     "metadata": {},
     "output_type": "execute_result"
    }
   ],
   "source": [
    "listings['price'].isnull().sum()"
   ]
  },
  {
   "cell_type": "code",
   "execution_count": 23,
   "metadata": {},
   "outputs": [],
   "source": [
    "listings['price']= listings['price'].apply(str_obj_to_number)\n",
    "listings['security_deposit'] = listings['security_deposit'].apply(str_obj_to_number)\n",
    "listings['security_deposit'] = listings['security_deposit'].fillna(0)\n",
    "listings['cleaning_fee'] = listings['cleaning_fee'].apply(str_obj_to_number)\n",
    "listings['cleaning_fee'] = listings['cleaning_fee'].fillna(0)\n"
   ]
  },
  {
   "cell_type": "code",
   "execution_count": 24,
   "metadata": {},
   "outputs": [],
   "source": [
    "#drop license\n",
    "listings.drop(columns=['license'],inplace=True)\n",
    "#drop weekly_price, monthly_price columns\n",
    "listings.drop(columns=['weekly_price','monthly_price'],inplace=True)\n",
    "\n",
    "#fill security_deposit, cleaning_fee columns is default 0\n",
    "listings['security_deposit']=listings['security_deposit'].fillna(0)\n",
    "listings['cleaning_fee']=listings['cleaning_fee'].fillna(0)\n",
    "#missing value rate are bigger than 40%\n",
    "listings.drop(columns=['square_feet','notes'],inplace=True)"
   ]
  },
  {
   "cell_type": "markdown",
   "metadata": {},
   "source": [
    "2.1.4 drop one unique value columns\n",
    "\n",
    "they can not help us predict rent price，they have no change factors.\n",
    "\n",
    "2.1.5 drop some string type data\n",
    "\n",
    "If they cann't transfer to numeric, such as url address, host description etc.\n",
    "\n",
    "2.1.5 drop some columns are unrelated to the rent price\n",
    "\n",
    "such as host_col,other_col_1,other_col_2 listed below etc.\n"
   ]
  },
  {
   "cell_type": "code",
   "execution_count": 25,
   "metadata": {},
   "outputs": [
    {
     "name": "stdout",
     "output_type": "stream",
     "text": [
      "['scrape_id', 'last_scraped', 'experiences_offered', 'market', 'country_code', 'country', 'has_availability', 'calendar_last_scraped', 'requires_license', 'jurisdiction_names']\n",
      "['listing_url', 'thumbnail_url', 'medium_url', 'picture_url', 'xl_picture_url', 'host_url', 'host_thumbnail_url', 'host_picture_url']\n",
      "['host_id', 'host_name', 'host_since', 'host_location', 'host_about', 'host_verifications']\n"
     ]
    }
   ],
   "source": [
    "#one  unique columns\n",
    "one_unique=[col for col in listings.columns.values if listings[col].nunique()==1]\n",
    "print( one_unique)\n",
    "\n",
    "#find columns containing 'url' in the name\n",
    "url_col=[col for col in listings.columns.values if 'url' in col]\n",
    "print(url_col)\n",
    "#host description\n",
    "host_col = ['host_id', 'host_name', 'host_since', 'host_location', 'host_about', 'host_verifications']\n",
    "print(host_col)"
   ]
  },
  {
   "cell_type": "code",
   "execution_count": 26,
   "metadata": {},
   "outputs": [],
   "source": [
    "\n",
    "one_unique = ['scrape_id', 'last_scraped', 'experiences_offered', 'market',\n",
    "               'country_code', 'country', 'has_availability', 'calendar_last_scraped', 'requires_license', 'jurisdiction_names']\n",
    "\n",
    "url_col = ['listing_url', 'thumbnail_url', 'medium_url', 'picture_url', 'xl_picture_url', 'host_url',\n",
    "           'host_thumbnail_url', 'host_picture_url']\n",
    "\n",
    "host_col = ['host_id', 'host_name', 'host_since', 'host_location', 'host_about', 'host_verifications']\n",
    "\n",
    "other_col_1 = ['city','state','first_review','last_review','street',\n",
    "           'zipcode','smart_location','calendar_updated',\n",
    "           'cleaning_fee','extra_people']\n",
    "\n",
    "other_col_2 = ['id', 'latitude', 'longitude']\n"
   ]
  },
  {
   "cell_type": "code",
   "execution_count": 27,
   "metadata": {},
   "outputs": [],
   "source": [
    "#drop columns from dataset\n",
    "listings.drop(columns=one_unique,inplace=True)\n",
    "listings.drop(columns=url_col,inplace=True)\n",
    "listings.drop(columns=host_col, inplace=True)\n",
    "listings.drop(columns=other_col_1, inplace=True)\n",
    "listings.drop(columns=other_col_2, inplace=True)"
   ]
  },
  {
   "cell_type": "code",
   "execution_count": 28,
   "metadata": {},
   "outputs": [],
   "source": [
    "listings['host_response_rate'] = listings['host_response_rate'].str.rstrip('%').astype('float') / 100.0\n",
    "listings['host_response_rate'] = listings['host_response_rate'].fillna(listings['host_response_rate'].mean())\n",
    "listings['host_acceptance_rate'] = listings['host_acceptance_rate'].str.rstrip('%').astype('float') / 100.0\n",
    "listings['host_acceptance_rate'] = listings['host_acceptance_rate'].fillna(listings['host_acceptance_rate'].mean())"
   ]
  },
  {
   "cell_type": "code",
   "execution_count": 31,
   "metadata": {},
   "outputs": [
    {
     "data": {
      "text/html": [
       "<div>\n",
       "<style scoped>\n",
       "    .dataframe tbody tr th:only-of-type {\n",
       "        vertical-align: middle;\n",
       "    }\n",
       "\n",
       "    .dataframe tbody tr th {\n",
       "        vertical-align: top;\n",
       "    }\n",
       "\n",
       "    .dataframe thead th {\n",
       "        text-align: right;\n",
       "    }\n",
       "</style>\n",
       "<table border=\"1\" class=\"dataframe\">\n",
       "  <thead>\n",
       "    <tr style=\"text-align: right;\">\n",
       "      <th></th>\n",
       "      <th>host_response_rate</th>\n",
       "      <th>host_acceptance_rate</th>\n",
       "      <th>host_listings_count</th>\n",
       "      <th>host_total_listings_count</th>\n",
       "      <th>accommodates</th>\n",
       "      <th>bathrooms</th>\n",
       "      <th>bedrooms</th>\n",
       "      <th>beds</th>\n",
       "      <th>price</th>\n",
       "      <th>security_deposit</th>\n",
       "      <th>...</th>\n",
       "      <th>number_of_reviews</th>\n",
       "      <th>review_scores_rating</th>\n",
       "      <th>review_scores_accuracy</th>\n",
       "      <th>review_scores_cleanliness</th>\n",
       "      <th>review_scores_checkin</th>\n",
       "      <th>review_scores_communication</th>\n",
       "      <th>review_scores_location</th>\n",
       "      <th>review_scores_value</th>\n",
       "      <th>calculated_host_listings_count</th>\n",
       "      <th>reviews_per_month</th>\n",
       "    </tr>\n",
       "  </thead>\n",
       "  <tbody>\n",
       "    <tr>\n",
       "      <td>count</td>\n",
       "      <td>3818.000000</td>\n",
       "      <td>3818.000000</td>\n",
       "      <td>3818.000000</td>\n",
       "      <td>3818.000000</td>\n",
       "      <td>3818.000000</td>\n",
       "      <td>3818.000000</td>\n",
       "      <td>3818.000000</td>\n",
       "      <td>3818.000000</td>\n",
       "      <td>3818.000000</td>\n",
       "      <td>3818.000000</td>\n",
       "      <td>...</td>\n",
       "      <td>3818.000000</td>\n",
       "      <td>3818.000000</td>\n",
       "      <td>3818.000000</td>\n",
       "      <td>3818.000000</td>\n",
       "      <td>3818.000000</td>\n",
       "      <td>3818.000000</td>\n",
       "      <td>3818.000000</td>\n",
       "      <td>3818.000000</td>\n",
       "      <td>3818.000000</td>\n",
       "      <td>3818.000000</td>\n",
       "    </tr>\n",
       "    <tr>\n",
       "      <td>mean</td>\n",
       "      <td>0.948868</td>\n",
       "      <td>0.999672</td>\n",
       "      <td>7.157757</td>\n",
       "      <td>7.157757</td>\n",
       "      <td>3.349398</td>\n",
       "      <td>1.259469</td>\n",
       "      <td>1.307712</td>\n",
       "      <td>1.735394</td>\n",
       "      <td>127.976166</td>\n",
       "      <td>140.566003</td>\n",
       "      <td>...</td>\n",
       "      <td>22.223415</td>\n",
       "      <td>94.539262</td>\n",
       "      <td>9.636392</td>\n",
       "      <td>9.556398</td>\n",
       "      <td>9.786709</td>\n",
       "      <td>9.809599</td>\n",
       "      <td>9.608916</td>\n",
       "      <td>9.452245</td>\n",
       "      <td>2.946307</td>\n",
       "      <td>2.078919</td>\n",
       "    </tr>\n",
       "    <tr>\n",
       "      <td>std</td>\n",
       "      <td>0.110238</td>\n",
       "      <td>0.016183</td>\n",
       "      <td>28.620648</td>\n",
       "      <td>28.620648</td>\n",
       "      <td>1.977599</td>\n",
       "      <td>0.589130</td>\n",
       "      <td>0.882700</td>\n",
       "      <td>1.139330</td>\n",
       "      <td>90.250022</td>\n",
       "      <td>237.387534</td>\n",
       "      <td>...</td>\n",
       "      <td>37.730892</td>\n",
       "      <td>6.020223</td>\n",
       "      <td>0.635022</td>\n",
       "      <td>0.725880</td>\n",
       "      <td>0.541745</td>\n",
       "      <td>0.517493</td>\n",
       "      <td>0.572542</td>\n",
       "      <td>0.682751</td>\n",
       "      <td>5.893029</td>\n",
       "      <td>1.665964</td>\n",
       "    </tr>\n",
       "    <tr>\n",
       "      <td>min</td>\n",
       "      <td>0.170000</td>\n",
       "      <td>0.000000</td>\n",
       "      <td>1.000000</td>\n",
       "      <td>1.000000</td>\n",
       "      <td>1.000000</td>\n",
       "      <td>0.000000</td>\n",
       "      <td>0.000000</td>\n",
       "      <td>1.000000</td>\n",
       "      <td>20.000000</td>\n",
       "      <td>0.000000</td>\n",
       "      <td>...</td>\n",
       "      <td>0.000000</td>\n",
       "      <td>20.000000</td>\n",
       "      <td>2.000000</td>\n",
       "      <td>3.000000</td>\n",
       "      <td>2.000000</td>\n",
       "      <td>2.000000</td>\n",
       "      <td>4.000000</td>\n",
       "      <td>2.000000</td>\n",
       "      <td>1.000000</td>\n",
       "      <td>0.020000</td>\n",
       "    </tr>\n",
       "    <tr>\n",
       "      <td>25%</td>\n",
       "      <td>0.948868</td>\n",
       "      <td>1.000000</td>\n",
       "      <td>1.000000</td>\n",
       "      <td>1.000000</td>\n",
       "      <td>2.000000</td>\n",
       "      <td>1.000000</td>\n",
       "      <td>1.000000</td>\n",
       "      <td>1.000000</td>\n",
       "      <td>75.000000</td>\n",
       "      <td>0.000000</td>\n",
       "      <td>...</td>\n",
       "      <td>2.000000</td>\n",
       "      <td>94.000000</td>\n",
       "      <td>9.636392</td>\n",
       "      <td>9.000000</td>\n",
       "      <td>9.786709</td>\n",
       "      <td>9.809599</td>\n",
       "      <td>9.000000</td>\n",
       "      <td>9.000000</td>\n",
       "      <td>1.000000</td>\n",
       "      <td>0.830000</td>\n",
       "    </tr>\n",
       "    <tr>\n",
       "      <td>50%</td>\n",
       "      <td>1.000000</td>\n",
       "      <td>1.000000</td>\n",
       "      <td>1.000000</td>\n",
       "      <td>1.000000</td>\n",
       "      <td>3.000000</td>\n",
       "      <td>1.000000</td>\n",
       "      <td>1.000000</td>\n",
       "      <td>1.000000</td>\n",
       "      <td>100.000000</td>\n",
       "      <td>0.000000</td>\n",
       "      <td>...</td>\n",
       "      <td>9.000000</td>\n",
       "      <td>95.000000</td>\n",
       "      <td>10.000000</td>\n",
       "      <td>10.000000</td>\n",
       "      <td>10.000000</td>\n",
       "      <td>10.000000</td>\n",
       "      <td>10.000000</td>\n",
       "      <td>9.452245</td>\n",
       "      <td>1.000000</td>\n",
       "      <td>2.000000</td>\n",
       "    </tr>\n",
       "    <tr>\n",
       "      <td>75%</td>\n",
       "      <td>1.000000</td>\n",
       "      <td>1.000000</td>\n",
       "      <td>3.000000</td>\n",
       "      <td>3.000000</td>\n",
       "      <td>4.000000</td>\n",
       "      <td>1.000000</td>\n",
       "      <td>2.000000</td>\n",
       "      <td>2.000000</td>\n",
       "      <td>150.000000</td>\n",
       "      <td>200.000000</td>\n",
       "      <td>...</td>\n",
       "      <td>26.000000</td>\n",
       "      <td>98.000000</td>\n",
       "      <td>10.000000</td>\n",
       "      <td>10.000000</td>\n",
       "      <td>10.000000</td>\n",
       "      <td>10.000000</td>\n",
       "      <td>10.000000</td>\n",
       "      <td>10.000000</td>\n",
       "      <td>2.000000</td>\n",
       "      <td>2.660000</td>\n",
       "    </tr>\n",
       "    <tr>\n",
       "      <td>max</td>\n",
       "      <td>1.000000</td>\n",
       "      <td>1.000000</td>\n",
       "      <td>502.000000</td>\n",
       "      <td>502.000000</td>\n",
       "      <td>16.000000</td>\n",
       "      <td>8.000000</td>\n",
       "      <td>7.000000</td>\n",
       "      <td>15.000000</td>\n",
       "      <td>1000.000000</td>\n",
       "      <td>5000.000000</td>\n",
       "      <td>...</td>\n",
       "      <td>474.000000</td>\n",
       "      <td>100.000000</td>\n",
       "      <td>10.000000</td>\n",
       "      <td>10.000000</td>\n",
       "      <td>10.000000</td>\n",
       "      <td>10.000000</td>\n",
       "      <td>10.000000</td>\n",
       "      <td>10.000000</td>\n",
       "      <td>37.000000</td>\n",
       "      <td>12.150000</td>\n",
       "    </tr>\n",
       "  </tbody>\n",
       "</table>\n",
       "<p>8 rows × 27 columns</p>\n",
       "</div>"
      ],
      "text/plain": [
       "       host_response_rate  host_acceptance_rate  host_listings_count  \\\n",
       "count         3818.000000           3818.000000          3818.000000   \n",
       "mean             0.948868              0.999672             7.157757   \n",
       "std              0.110238              0.016183            28.620648   \n",
       "min              0.170000              0.000000             1.000000   \n",
       "25%              0.948868              1.000000             1.000000   \n",
       "50%              1.000000              1.000000             1.000000   \n",
       "75%              1.000000              1.000000             3.000000   \n",
       "max              1.000000              1.000000           502.000000   \n",
       "\n",
       "       host_total_listings_count  accommodates    bathrooms     bedrooms  \\\n",
       "count                3818.000000   3818.000000  3818.000000  3818.000000   \n",
       "mean                    7.157757      3.349398     1.259469     1.307712   \n",
       "std                    28.620648      1.977599     0.589130     0.882700   \n",
       "min                     1.000000      1.000000     0.000000     0.000000   \n",
       "25%                     1.000000      2.000000     1.000000     1.000000   \n",
       "50%                     1.000000      3.000000     1.000000     1.000000   \n",
       "75%                     3.000000      4.000000     1.000000     2.000000   \n",
       "max                   502.000000     16.000000     8.000000     7.000000   \n",
       "\n",
       "              beds        price  security_deposit  ...  number_of_reviews  \\\n",
       "count  3818.000000  3818.000000       3818.000000  ...        3818.000000   \n",
       "mean      1.735394   127.976166        140.566003  ...          22.223415   \n",
       "std       1.139330    90.250022        237.387534  ...          37.730892   \n",
       "min       1.000000    20.000000          0.000000  ...           0.000000   \n",
       "25%       1.000000    75.000000          0.000000  ...           2.000000   \n",
       "50%       1.000000   100.000000          0.000000  ...           9.000000   \n",
       "75%       2.000000   150.000000        200.000000  ...          26.000000   \n",
       "max      15.000000  1000.000000       5000.000000  ...         474.000000   \n",
       "\n",
       "       review_scores_rating  review_scores_accuracy  \\\n",
       "count           3818.000000             3818.000000   \n",
       "mean              94.539262                9.636392   \n",
       "std                6.020223                0.635022   \n",
       "min               20.000000                2.000000   \n",
       "25%               94.000000                9.636392   \n",
       "50%               95.000000               10.000000   \n",
       "75%               98.000000               10.000000   \n",
       "max              100.000000               10.000000   \n",
       "\n",
       "       review_scores_cleanliness  review_scores_checkin  \\\n",
       "count                3818.000000            3818.000000   \n",
       "mean                    9.556398               9.786709   \n",
       "std                     0.725880               0.541745   \n",
       "min                     3.000000               2.000000   \n",
       "25%                     9.000000               9.786709   \n",
       "50%                    10.000000              10.000000   \n",
       "75%                    10.000000              10.000000   \n",
       "max                    10.000000              10.000000   \n",
       "\n",
       "       review_scores_communication  review_scores_location  \\\n",
       "count                  3818.000000             3818.000000   \n",
       "mean                      9.809599                9.608916   \n",
       "std                       0.517493                0.572542   \n",
       "min                       2.000000                4.000000   \n",
       "25%                       9.809599                9.000000   \n",
       "50%                      10.000000               10.000000   \n",
       "75%                      10.000000               10.000000   \n",
       "max                      10.000000               10.000000   \n",
       "\n",
       "       review_scores_value  calculated_host_listings_count  reviews_per_month  \n",
       "count          3818.000000                     3818.000000        3818.000000  \n",
       "mean              9.452245                        2.946307           2.078919  \n",
       "std               0.682751                        5.893029           1.665964  \n",
       "min               2.000000                        1.000000           0.020000  \n",
       "25%               9.000000                        1.000000           0.830000  \n",
       "50%               9.452245                        1.000000           2.000000  \n",
       "75%              10.000000                        2.000000           2.660000  \n",
       "max              10.000000                       37.000000          12.150000  \n",
       "\n",
       "[8 rows x 27 columns]"
      ]
     },
     "execution_count": 31,
     "metadata": {},
     "output_type": "execute_result"
    }
   ],
   "source": [
    "numerics = ['int16', 'int32', 'int64', 'float16', 'float32', 'float64']\n",
    "numlist = listings.select_dtypes(include=numerics)\n",
    "numlist_ = numlist.fillna(numlist.mean())\n",
    "numlist_.describe()\n"
   ]
  },
  {
   "cell_type": "code",
   "execution_count": 32,
   "metadata": {},
   "outputs": [
    {
     "data": {
      "text/html": [
       "<div>\n",
       "<style scoped>\n",
       "    .dataframe tbody tr th:only-of-type {\n",
       "        vertical-align: middle;\n",
       "    }\n",
       "\n",
       "    .dataframe tbody tr th {\n",
       "        vertical-align: top;\n",
       "    }\n",
       "\n",
       "    .dataframe thead th {\n",
       "        text-align: right;\n",
       "    }\n",
       "</style>\n",
       "<table border=\"1\" class=\"dataframe\">\n",
       "  <thead>\n",
       "    <tr style=\"text-align: right;\">\n",
       "      <th></th>\n",
       "      <th>name</th>\n",
       "      <th>summary</th>\n",
       "      <th>space</th>\n",
       "      <th>description</th>\n",
       "      <th>neighborhood_overview</th>\n",
       "      <th>transit</th>\n",
       "      <th>host_response_time</th>\n",
       "      <th>host_is_superhost</th>\n",
       "      <th>host_neighbourhood</th>\n",
       "      <th>host_has_profile_pic</th>\n",
       "      <th>...</th>\n",
       "      <th>neighbourhood_group_cleansed</th>\n",
       "      <th>is_location_exact</th>\n",
       "      <th>property_type</th>\n",
       "      <th>room_type</th>\n",
       "      <th>bed_type</th>\n",
       "      <th>amenities</th>\n",
       "      <th>instant_bookable</th>\n",
       "      <th>cancellation_policy</th>\n",
       "      <th>require_guest_profile_picture</th>\n",
       "      <th>require_guest_phone_verification</th>\n",
       "    </tr>\n",
       "  </thead>\n",
       "  <tbody>\n",
       "    <tr>\n",
       "      <td>count</td>\n",
       "      <td>3818</td>\n",
       "      <td>3641</td>\n",
       "      <td>3249</td>\n",
       "      <td>3818</td>\n",
       "      <td>2786</td>\n",
       "      <td>2884</td>\n",
       "      <td>3295</td>\n",
       "      <td>3816</td>\n",
       "      <td>3518</td>\n",
       "      <td>3816</td>\n",
       "      <td>...</td>\n",
       "      <td>3818</td>\n",
       "      <td>3818</td>\n",
       "      <td>3817</td>\n",
       "      <td>3818</td>\n",
       "      <td>3818</td>\n",
       "      <td>3818</td>\n",
       "      <td>3818</td>\n",
       "      <td>3818</td>\n",
       "      <td>3818</td>\n",
       "      <td>3818</td>\n",
       "    </tr>\n",
       "    <tr>\n",
       "      <td>unique</td>\n",
       "      <td>3792</td>\n",
       "      <td>3478</td>\n",
       "      <td>3119</td>\n",
       "      <td>3742</td>\n",
       "      <td>2506</td>\n",
       "      <td>2574</td>\n",
       "      <td>4</td>\n",
       "      <td>2</td>\n",
       "      <td>102</td>\n",
       "      <td>2</td>\n",
       "      <td>...</td>\n",
       "      <td>17</td>\n",
       "      <td>2</td>\n",
       "      <td>16</td>\n",
       "      <td>3</td>\n",
       "      <td>5</td>\n",
       "      <td>3284</td>\n",
       "      <td>2</td>\n",
       "      <td>3</td>\n",
       "      <td>2</td>\n",
       "      <td>2</td>\n",
       "    </tr>\n",
       "    <tr>\n",
       "      <td>top</td>\n",
       "      <td>Capitol Hill Apartment</td>\n",
       "      <td>This is a modern fully-furnished studio apartm...</td>\n",
       "      <td>*Note: This fall, there will be major renovati...</td>\n",
       "      <td>Our space is a mix of a hostel and a home. We ...</td>\n",
       "      <td>Wallingford is a mostly-residential neighborho...</td>\n",
       "      <td>Convenient public transportation. The location...</td>\n",
       "      <td>within an hour</td>\n",
       "      <td>f</td>\n",
       "      <td>Capitol Hill</td>\n",
       "      <td>t</td>\n",
       "      <td>...</td>\n",
       "      <td>Other neighborhoods</td>\n",
       "      <td>t</td>\n",
       "      <td>House</td>\n",
       "      <td>Entire home/apt</td>\n",
       "      <td>Real Bed</td>\n",
       "      <td>{}</td>\n",
       "      <td>f</td>\n",
       "      <td>strict</td>\n",
       "      <td>f</td>\n",
       "      <td>f</td>\n",
       "    </tr>\n",
       "    <tr>\n",
       "      <td>freq</td>\n",
       "      <td>3</td>\n",
       "      <td>15</td>\n",
       "      <td>14</td>\n",
       "      <td>10</td>\n",
       "      <td>17</td>\n",
       "      <td>32</td>\n",
       "      <td>1692</td>\n",
       "      <td>3038</td>\n",
       "      <td>405</td>\n",
       "      <td>3809</td>\n",
       "      <td>...</td>\n",
       "      <td>794</td>\n",
       "      <td>3412</td>\n",
       "      <td>1733</td>\n",
       "      <td>2541</td>\n",
       "      <td>3657</td>\n",
       "      <td>45</td>\n",
       "      <td>3227</td>\n",
       "      <td>1417</td>\n",
       "      <td>3497</td>\n",
       "      <td>3443</td>\n",
       "    </tr>\n",
       "  </tbody>\n",
       "</table>\n",
       "<p>4 rows × 23 columns</p>\n",
       "</div>"
      ],
      "text/plain": [
       "                          name  \\\n",
       "count                     3818   \n",
       "unique                    3792   \n",
       "top     Capitol Hill Apartment   \n",
       "freq                         3   \n",
       "\n",
       "                                                  summary  \\\n",
       "count                                                3641   \n",
       "unique                                               3478   \n",
       "top     This is a modern fully-furnished studio apartm...   \n",
       "freq                                                   15   \n",
       "\n",
       "                                                    space  \\\n",
       "count                                                3249   \n",
       "unique                                               3119   \n",
       "top     *Note: This fall, there will be major renovati...   \n",
       "freq                                                   14   \n",
       "\n",
       "                                              description  \\\n",
       "count                                                3818   \n",
       "unique                                               3742   \n",
       "top     Our space is a mix of a hostel and a home. We ...   \n",
       "freq                                                   10   \n",
       "\n",
       "                                    neighborhood_overview  \\\n",
       "count                                                2786   \n",
       "unique                                               2506   \n",
       "top     Wallingford is a mostly-residential neighborho...   \n",
       "freq                                                   17   \n",
       "\n",
       "                                                  transit host_response_time  \\\n",
       "count                                                2884               3295   \n",
       "unique                                               2574                  4   \n",
       "top     Convenient public transportation. The location...     within an hour   \n",
       "freq                                                   32               1692   \n",
       "\n",
       "       host_is_superhost host_neighbourhood host_has_profile_pic  ...  \\\n",
       "count               3816               3518                 3816  ...   \n",
       "unique                 2                102                    2  ...   \n",
       "top                    f       Capitol Hill                    t  ...   \n",
       "freq                3038                405                 3809  ...   \n",
       "\n",
       "       neighbourhood_group_cleansed is_location_exact property_type  \\\n",
       "count                          3818              3818          3817   \n",
       "unique                           17                 2            16   \n",
       "top             Other neighborhoods                 t         House   \n",
       "freq                            794              3412          1733   \n",
       "\n",
       "              room_type  bed_type amenities instant_bookable  \\\n",
       "count              3818      3818      3818             3818   \n",
       "unique                3         5      3284                2   \n",
       "top     Entire home/apt  Real Bed        {}                f   \n",
       "freq               2541      3657        45             3227   \n",
       "\n",
       "       cancellation_policy require_guest_profile_picture  \\\n",
       "count                 3818                          3818   \n",
       "unique                   3                             2   \n",
       "top                 strict                             f   \n",
       "freq                  1417                          3497   \n",
       "\n",
       "       require_guest_phone_verification  \n",
       "count                              3818  \n",
       "unique                                2  \n",
       "top                                   f  \n",
       "freq                               3443  \n",
       "\n",
       "[4 rows x 23 columns]"
      ]
     },
     "execution_count": 32,
     "metadata": {},
     "output_type": "execute_result"
    }
   ],
   "source": [
    "obj_type = ['object']\n",
    "catlist = listings.select_dtypes(include=obj_type)\n",
    "catlist.describe()\n"
   ]
  },
  {
   "cell_type": "code",
   "execution_count": 33,
   "metadata": {},
   "outputs": [
    {
     "name": "stdout",
     "output_type": "stream",
     "text": [
      "column: name \t have unique value size:3792\n",
      "column: summary \t have unique value size:3479\n",
      "column: space \t have unique value size:3120\n",
      "column: description \t have unique value size:3742\n",
      "column: neighborhood_overview \t have unique value size:2507\n",
      "column: transit \t have unique value size:2575\n",
      "column: host_response_time \t have unique value size:5\n",
      "column: host_is_superhost \t have unique value size:3\n",
      "column: host_neighbourhood \t have unique value size:103\n",
      "column: host_has_profile_pic \t have unique value size:3\n",
      "column: host_identity_verified \t have unique value size:3\n",
      "column: neighbourhood \t have unique value size:82\n",
      "column: neighbourhood_cleansed \t have unique value size:87\n",
      "column: neighbourhood_group_cleansed \t have unique value size:17\n",
      "column: is_location_exact \t have unique value size:2\n",
      "column: property_type \t have unique value size:17\n",
      "column: room_type \t have unique value size:3\n",
      "column: bed_type \t have unique value size:5\n",
      "column: amenities \t have unique value size:3284\n",
      "column: instant_bookable \t have unique value size:2\n",
      "column: cancellation_policy \t have unique value size:3\n",
      "column: require_guest_profile_picture \t have unique value size:2\n",
      "column: require_guest_phone_verification \t have unique value size:2\n"
     ]
    }
   ],
   "source": [
    "for column in catlist.columns:\n",
    "    print(\"column: {} \\t have unique value size:{}\".format(column, len(catlist[column].unique()) ))\n",
    "          "
   ]
  },
  {
   "cell_type": "markdown",
   "metadata": {},
   "source": [
    "###### 2.2 Categorical Data\n",
    "\n",
    "2.2.1 remove redundant object type columns\n",
    "\n",
    "such as  'name','summary','space','description','neighborhood_overview', 'transit', 'host_neighbourhood', \n",
    "'neighbourhood', 'neighbourhood_cleansed'\n",
    "\n",
    "their unique value count are too much.\n",
    "\n",
    "\n",
    "\n"
   ]
  },
  {
   "cell_type": "code",
   "execution_count": 34,
   "metadata": {},
   "outputs": [],
   "source": [
    "other_col_3 = ['name', 'summary', 'space', 'description','neighborhood_overview', 'transit', \n",
    "              'host_neighbourhood','neighbourhood', 'neighbourhood_cleansed' ]\n",
    "listings.drop(columns=other_col_3, inplace=True)\n",
    "\n"
   ]
  },
  {
   "cell_type": "code",
   "execution_count": 35,
   "metadata": {},
   "outputs": [
    {
     "data": {
      "text/html": [
       "<div>\n",
       "<style scoped>\n",
       "    .dataframe tbody tr th:only-of-type {\n",
       "        vertical-align: middle;\n",
       "    }\n",
       "\n",
       "    .dataframe tbody tr th {\n",
       "        vertical-align: top;\n",
       "    }\n",
       "\n",
       "    .dataframe thead th {\n",
       "        text-align: right;\n",
       "    }\n",
       "</style>\n",
       "<table border=\"1\" class=\"dataframe\">\n",
       "  <thead>\n",
       "    <tr style=\"text-align: right;\">\n",
       "      <th></th>\n",
       "      <th>host_response_time</th>\n",
       "      <th>host_is_superhost</th>\n",
       "      <th>host_has_profile_pic</th>\n",
       "      <th>host_identity_verified</th>\n",
       "      <th>neighbourhood_group_cleansed</th>\n",
       "      <th>is_location_exact</th>\n",
       "      <th>property_type</th>\n",
       "      <th>room_type</th>\n",
       "      <th>bed_type</th>\n",
       "      <th>amenities</th>\n",
       "      <th>instant_bookable</th>\n",
       "      <th>cancellation_policy</th>\n",
       "      <th>require_guest_profile_picture</th>\n",
       "      <th>require_guest_phone_verification</th>\n",
       "    </tr>\n",
       "  </thead>\n",
       "  <tbody>\n",
       "    <tr>\n",
       "      <td>count</td>\n",
       "      <td>3295</td>\n",
       "      <td>3816</td>\n",
       "      <td>3816</td>\n",
       "      <td>3816</td>\n",
       "      <td>3818</td>\n",
       "      <td>3818</td>\n",
       "      <td>3817</td>\n",
       "      <td>3818</td>\n",
       "      <td>3818</td>\n",
       "      <td>3818</td>\n",
       "      <td>3818</td>\n",
       "      <td>3818</td>\n",
       "      <td>3818</td>\n",
       "      <td>3818</td>\n",
       "    </tr>\n",
       "    <tr>\n",
       "      <td>unique</td>\n",
       "      <td>4</td>\n",
       "      <td>2</td>\n",
       "      <td>2</td>\n",
       "      <td>2</td>\n",
       "      <td>17</td>\n",
       "      <td>2</td>\n",
       "      <td>16</td>\n",
       "      <td>3</td>\n",
       "      <td>5</td>\n",
       "      <td>3284</td>\n",
       "      <td>2</td>\n",
       "      <td>3</td>\n",
       "      <td>2</td>\n",
       "      <td>2</td>\n",
       "    </tr>\n",
       "    <tr>\n",
       "      <td>top</td>\n",
       "      <td>within an hour</td>\n",
       "      <td>f</td>\n",
       "      <td>t</td>\n",
       "      <td>t</td>\n",
       "      <td>Other neighborhoods</td>\n",
       "      <td>t</td>\n",
       "      <td>House</td>\n",
       "      <td>Entire home/apt</td>\n",
       "      <td>Real Bed</td>\n",
       "      <td>{}</td>\n",
       "      <td>f</td>\n",
       "      <td>strict</td>\n",
       "      <td>f</td>\n",
       "      <td>f</td>\n",
       "    </tr>\n",
       "    <tr>\n",
       "      <td>freq</td>\n",
       "      <td>1692</td>\n",
       "      <td>3038</td>\n",
       "      <td>3809</td>\n",
       "      <td>2997</td>\n",
       "      <td>794</td>\n",
       "      <td>3412</td>\n",
       "      <td>1733</td>\n",
       "      <td>2541</td>\n",
       "      <td>3657</td>\n",
       "      <td>45</td>\n",
       "      <td>3227</td>\n",
       "      <td>1417</td>\n",
       "      <td>3497</td>\n",
       "      <td>3443</td>\n",
       "    </tr>\n",
       "  </tbody>\n",
       "</table>\n",
       "</div>"
      ],
      "text/plain": [
       "       host_response_time host_is_superhost host_has_profile_pic  \\\n",
       "count                3295              3816                 3816   \n",
       "unique                  4                 2                    2   \n",
       "top        within an hour                 f                    t   \n",
       "freq                 1692              3038                 3809   \n",
       "\n",
       "       host_identity_verified neighbourhood_group_cleansed is_location_exact  \\\n",
       "count                    3816                         3818              3818   \n",
       "unique                      2                           17                 2   \n",
       "top                         t          Other neighborhoods                 t   \n",
       "freq                     2997                          794              3412   \n",
       "\n",
       "       property_type        room_type  bed_type amenities instant_bookable  \\\n",
       "count           3817             3818      3818      3818             3818   \n",
       "unique            16                3         5      3284                2   \n",
       "top            House  Entire home/apt  Real Bed        {}                f   \n",
       "freq            1733             2541      3657        45             3227   \n",
       "\n",
       "       cancellation_policy require_guest_profile_picture  \\\n",
       "count                 3818                          3818   \n",
       "unique                   3                             2   \n",
       "top                 strict                             f   \n",
       "freq                  1417                          3497   \n",
       "\n",
       "       require_guest_phone_verification  \n",
       "count                              3818  \n",
       "unique                                2  \n",
       "top                                   f  \n",
       "freq                               3443  "
      ]
     },
     "execution_count": 35,
     "metadata": {},
     "output_type": "execute_result"
    }
   ],
   "source": [
    "category = ['object']\n",
    "catlist = listings.select_dtypes(include=category)\n",
    "catlist.describe()"
   ]
  },
  {
   "cell_type": "code",
   "execution_count": 36,
   "metadata": {},
   "outputs": [
    {
     "name": "stderr",
     "output_type": "stream",
     "text": [
      "D:\\ProgramData\\Anaconda3\\lib\\site-packages\\ipykernel_launcher.py:4: SettingWithCopyWarning: \n",
      "A value is trying to be set on a copy of a slice from a DataFrame.\n",
      "Try using .loc[row_indexer,col_indexer] = value instead\n",
      "\n",
      "See the caveats in the documentation: http://pandas.pydata.org/pandas-docs/stable/user_guide/indexing.html#returning-a-view-versus-a-copy\n",
      "  after removing the cwd from sys.path.\n",
      "D:\\ProgramData\\Anaconda3\\lib\\site-packages\\pandas\\core\\frame.py:3498: SettingWithCopyWarning: \n",
      "A value is trying to be set on a copy of a slice from a DataFrame\n",
      "\n",
      "See the caveats in the documentation: http://pandas.pydata.org/pandas-docs/stable/user_guide/indexing.html#returning-a-view-versus-a-copy\n",
      "  self.loc._setitem_with_indexer((slice(None), indexer), value)\n",
      "D:\\ProgramData\\Anaconda3\\lib\\site-packages\\pandas\\core\\frame.py:3469: SettingWithCopyWarning: \n",
      "A value is trying to be set on a copy of a slice from a DataFrame\n",
      "\n",
      "See the caveats in the documentation: http://pandas.pydata.org/pandas-docs/stable/user_guide/indexing.html#returning-a-view-versus-a-copy\n",
      "  self._setitem_array(key, value)\n"
     ]
    }
   ],
   "source": [
    "#encode categorical variables\n",
    "binary_cols = ['host_is_superhost','host_has_profile_pic','host_identity_verified','is_location_exact',\n",
    "             'instant_bookable', 'require_guest_profile_picture','require_guest_phone_verification']\n",
    "catlist[binary_cols] = np.where(catlist[binary_cols]=='t', 1, 0)\n",
    "\n",
    "encode_cols = ['host_response_time','neighbourhood_group_cleansed',\n",
    "             'property_type','room_type','bed_type','cancellation_policy']\n",
    "\n",
    "catlist = pd.get_dummies(data=catlist, columns=encode_cols,drop_first=True)"
   ]
  },
  {
   "cell_type": "markdown",
   "metadata": {},
   "source": [
    " 2.2.2 about amenities\n",
    "\n",
    "split all the amenites into key words, and remove the punctuation;\n",
    "create key words columns list;"
   ]
  },
  {
   "cell_type": "code",
   "execution_count": 37,
   "metadata": {},
   "outputs": [
    {
     "name": "stdout",
     "output_type": "stream",
     "text": [
      "41 ['TV', '\"Cable TV\"', 'Internet', '\"Wireless Internet\"', '\"Air Conditioning\"', 'Kitchen', 'Heating', '\"Family/Kid Friendly\"', 'Washer', 'Dryer', '\"Free Parking on Premises\"', '\"Buzzer/Wireless Intercom\"', '\"Smoke Detector\"', '\"Carbon Monoxide Detector\"', '\"First Aid Kit\"', '\"Safety Card\"', '\"Fire Extinguisher\"', 'Essentials', '\"Pets Allowed\"', '\"Pets live on this property\"', 'Dog(s)', 'Cat(s)', '\"Hot Tub\"', '\"Indoor Fireplace\"', 'Shampoo', 'Breakfast', '\"24-Hour Check-in\"', 'Hangers', '\"Hair Dryer\"', 'Iron', '\"Laptop Friendly Workspace\"', '\"Suitable for Events\"', '\"Elevator in Building\"', '\"Lock on Bedroom Door\"', '\"Wheelchair Accessible\"', 'Gym', 'Pool', '\"Smoking Allowed\"', '\"Other pet(s)\"', 'Doorman', '\"Washer / Dryer\"']\n"
     ]
    }
   ],
   "source": [
    "def str_to_key_words( str_obj):\n",
    "    result = str(str_obj).replace(\"{\", '')\n",
    "    result = str(result ).replace(\"}\", '')\n",
    "    result = result.split(',')\n",
    "    return result\n",
    "\n",
    "amenities_df = catlist['amenities']\n",
    "\n",
    "amenities_array=catlist['amenities'].apply(str_to_key_words)\n",
    "amenities_df.head()\n",
    "\n",
    "amenities_key_words = []\n",
    "for i in range(0, len(amenities_array)):\n",
    "    for j in range(len(amenities_array[i])):\n",
    "        if amenities_array[i][j] not in amenities_key_words:\n",
    "            amenities_key_words.append(amenities_array[i][j])\n",
    "            \n",
    "\n",
    "amenities_key_words.remove('')\n",
    "print(len(amenities_key_words),amenities_key_words)\n"
   ]
  },
  {
   "cell_type": "code",
   "execution_count": 38,
   "metadata": {
    "scrolled": true
   },
   "outputs": [
    {
     "name": "stdout",
     "output_type": "stream",
     "text": [
      "TV 2741\n",
      "\"Cable TV\" 1446\n",
      "Internet 3692\n",
      "\"Wireless Internet\" 3667\n",
      "\"Air Conditioning\" 677\n",
      "Kitchen 3423\n",
      "Heating 3627\n",
      "\"Family/Kid Friendly\" 1963\n",
      "Washer 2992\n",
      "Dryer 3114\n",
      "\"Free Parking on Premises\" 2167\n",
      "\"Buzzer/Wireless Intercom\" 538\n",
      "\"Smoke Detector\" 3281\n",
      "\"Carbon Monoxide Detector\" 2485\n",
      "\"First Aid Kit\" 1680\n",
      "\"Safety Card\" 727\n",
      "\"Fire Extinguisher\" 2196\n",
      "Essentials 3237\n",
      "\"Pets Allowed\" 472\n",
      "\"Pets live on this property\" 883\n",
      "Dog(s) 509\n",
      "Cat(s) 382\n",
      "\"Hot Tub\" 303\n",
      "\"Indoor Fireplace\" 886\n",
      "Shampoo 2670\n",
      "Breakfast 291\n",
      "\"24-Hour Check-in\" 616\n",
      "Hangers 846\n",
      "\"Hair Dryer\" 774\n",
      "Iron 742\n",
      "\"Laptop Friendly Workspace\" 745\n",
      "\"Suitable for Events\" 209\n",
      "\"Elevator in Building\" 785\n",
      "\"Lock on Bedroom Door\" 100\n",
      "\"Wheelchair Accessible\" 300\n",
      "Gym 442\n",
      "Pool 159\n",
      "\"Smoking Allowed\" 82\n",
      "\"Other pet(s)\" 51\n",
      "Doorman 85\n",
      "\"Washer / Dryer\" 2\n"
     ]
    }
   ],
   "source": [
    "amenities_dic = {}\n",
    "for i in range(len(amenities_key_words)):\n",
    "    amenities_dic[amenities_key_words[i]] = []\n",
    "    for j in range(len(amenities_df)):\n",
    "        if amenities_key_words[i] in amenities_df[j]:\n",
    "            amenities_dic[amenities_key_words[i]] .append(1)\n",
    "        else:\n",
    "            amenities_dic[amenities_key_words[i]] .append(0)\n",
    "    print(amenities_key_words[i],sum(amenities_dic[amenities_key_words[i]]))\n",
    "    "
   ]
  },
  {
   "cell_type": "code",
   "execution_count": 39,
   "metadata": {},
   "outputs": [
    {
     "data": {
      "text/html": [
       "<div>\n",
       "<style scoped>\n",
       "    .dataframe tbody tr th:only-of-type {\n",
       "        vertical-align: middle;\n",
       "    }\n",
       "\n",
       "    .dataframe tbody tr th {\n",
       "        vertical-align: top;\n",
       "    }\n",
       "\n",
       "    .dataframe thead th {\n",
       "        text-align: right;\n",
       "    }\n",
       "</style>\n",
       "<table border=\"1\" class=\"dataframe\">\n",
       "  <thead>\n",
       "    <tr style=\"text-align: right;\">\n",
       "      <th></th>\n",
       "      <th>TV</th>\n",
       "      <th>\"Cable TV\"</th>\n",
       "      <th>Internet</th>\n",
       "      <th>\"Wireless Internet\"</th>\n",
       "      <th>\"Air Conditioning\"</th>\n",
       "      <th>Kitchen</th>\n",
       "      <th>Heating</th>\n",
       "      <th>\"Family/Kid Friendly\"</th>\n",
       "      <th>Washer</th>\n",
       "      <th>Dryer</th>\n",
       "      <th>...</th>\n",
       "      <th>\"Suitable for Events\"</th>\n",
       "      <th>\"Elevator in Building\"</th>\n",
       "      <th>\"Lock on Bedroom Door\"</th>\n",
       "      <th>\"Wheelchair Accessible\"</th>\n",
       "      <th>Gym</th>\n",
       "      <th>Pool</th>\n",
       "      <th>\"Smoking Allowed\"</th>\n",
       "      <th>\"Other pet(s)\"</th>\n",
       "      <th>Doorman</th>\n",
       "      <th>\"Washer / Dryer\"</th>\n",
       "    </tr>\n",
       "  </thead>\n",
       "  <tbody>\n",
       "    <tr>\n",
       "      <td>0</td>\n",
       "      <td>1</td>\n",
       "      <td>1</td>\n",
       "      <td>1</td>\n",
       "      <td>1</td>\n",
       "      <td>1</td>\n",
       "      <td>1</td>\n",
       "      <td>1</td>\n",
       "      <td>1</td>\n",
       "      <td>1</td>\n",
       "      <td>1</td>\n",
       "      <td>...</td>\n",
       "      <td>0</td>\n",
       "      <td>0</td>\n",
       "      <td>0</td>\n",
       "      <td>0</td>\n",
       "      <td>0</td>\n",
       "      <td>0</td>\n",
       "      <td>0</td>\n",
       "      <td>0</td>\n",
       "      <td>0</td>\n",
       "      <td>0</td>\n",
       "    </tr>\n",
       "    <tr>\n",
       "      <td>1</td>\n",
       "      <td>1</td>\n",
       "      <td>0</td>\n",
       "      <td>1</td>\n",
       "      <td>1</td>\n",
       "      <td>0</td>\n",
       "      <td>1</td>\n",
       "      <td>1</td>\n",
       "      <td>1</td>\n",
       "      <td>1</td>\n",
       "      <td>1</td>\n",
       "      <td>...</td>\n",
       "      <td>0</td>\n",
       "      <td>0</td>\n",
       "      <td>0</td>\n",
       "      <td>0</td>\n",
       "      <td>0</td>\n",
       "      <td>0</td>\n",
       "      <td>0</td>\n",
       "      <td>0</td>\n",
       "      <td>0</td>\n",
       "      <td>0</td>\n",
       "    </tr>\n",
       "    <tr>\n",
       "      <td>2</td>\n",
       "      <td>1</td>\n",
       "      <td>1</td>\n",
       "      <td>1</td>\n",
       "      <td>1</td>\n",
       "      <td>1</td>\n",
       "      <td>1</td>\n",
       "      <td>1</td>\n",
       "      <td>1</td>\n",
       "      <td>1</td>\n",
       "      <td>1</td>\n",
       "      <td>...</td>\n",
       "      <td>0</td>\n",
       "      <td>0</td>\n",
       "      <td>0</td>\n",
       "      <td>0</td>\n",
       "      <td>0</td>\n",
       "      <td>0</td>\n",
       "      <td>0</td>\n",
       "      <td>0</td>\n",
       "      <td>0</td>\n",
       "      <td>0</td>\n",
       "    </tr>\n",
       "    <tr>\n",
       "      <td>3</td>\n",
       "      <td>0</td>\n",
       "      <td>0</td>\n",
       "      <td>1</td>\n",
       "      <td>1</td>\n",
       "      <td>0</td>\n",
       "      <td>1</td>\n",
       "      <td>1</td>\n",
       "      <td>1</td>\n",
       "      <td>1</td>\n",
       "      <td>1</td>\n",
       "      <td>...</td>\n",
       "      <td>0</td>\n",
       "      <td>0</td>\n",
       "      <td>0</td>\n",
       "      <td>0</td>\n",
       "      <td>0</td>\n",
       "      <td>0</td>\n",
       "      <td>0</td>\n",
       "      <td>0</td>\n",
       "      <td>0</td>\n",
       "      <td>0</td>\n",
       "    </tr>\n",
       "    <tr>\n",
       "      <td>4</td>\n",
       "      <td>1</td>\n",
       "      <td>1</td>\n",
       "      <td>1</td>\n",
       "      <td>1</td>\n",
       "      <td>0</td>\n",
       "      <td>1</td>\n",
       "      <td>1</td>\n",
       "      <td>1</td>\n",
       "      <td>0</td>\n",
       "      <td>0</td>\n",
       "      <td>...</td>\n",
       "      <td>0</td>\n",
       "      <td>0</td>\n",
       "      <td>0</td>\n",
       "      <td>0</td>\n",
       "      <td>0</td>\n",
       "      <td>0</td>\n",
       "      <td>0</td>\n",
       "      <td>0</td>\n",
       "      <td>0</td>\n",
       "      <td>0</td>\n",
       "    </tr>\n",
       "  </tbody>\n",
       "</table>\n",
       "<p>5 rows × 41 columns</p>\n",
       "</div>"
      ],
      "text/plain": [
       "   TV  \"Cable TV\"  Internet  \"Wireless Internet\"  \"Air Conditioning\"  Kitchen  \\\n",
       "0   1           1         1                    1                   1        1   \n",
       "1   1           0         1                    1                   0        1   \n",
       "2   1           1         1                    1                   1        1   \n",
       "3   0           0         1                    1                   0        1   \n",
       "4   1           1         1                    1                   0        1   \n",
       "\n",
       "   Heating  \"Family/Kid Friendly\"  Washer  Dryer  ...  \"Suitable for Events\"  \\\n",
       "0        1                      1       1      1  ...                      0   \n",
       "1        1                      1       1      1  ...                      0   \n",
       "2        1                      1       1      1  ...                      0   \n",
       "3        1                      1       1      1  ...                      0   \n",
       "4        1                      1       0      0  ...                      0   \n",
       "\n",
       "   \"Elevator in Building\"  \"Lock on Bedroom Door\"  \"Wheelchair Accessible\"  \\\n",
       "0                       0                       0                        0   \n",
       "1                       0                       0                        0   \n",
       "2                       0                       0                        0   \n",
       "3                       0                       0                        0   \n",
       "4                       0                       0                        0   \n",
       "\n",
       "   Gym  Pool  \"Smoking Allowed\"  \"Other pet(s)\"  Doorman  \"Washer / Dryer\"  \n",
       "0    0     0                  0               0        0                 0  \n",
       "1    0     0                  0               0        0                 0  \n",
       "2    0     0                  0               0        0                 0  \n",
       "3    0     0                  0               0        0                 0  \n",
       "4    0     0                  0               0        0                 0  \n",
       "\n",
       "[5 rows x 41 columns]"
      ]
     },
     "execution_count": 39,
     "metadata": {},
     "output_type": "execute_result"
    }
   ],
   "source": [
    "amenities_dummies = pd.DataFrame(amenities_dic)\n",
    "amenities_dummies.head()"
   ]
  },
  {
   "cell_type": "code",
   "execution_count": 40,
   "metadata": {},
   "outputs": [
    {
     "data": {
      "text/plain": [
       "Index(['host_response_rate', 'host_acceptance_rate', 'host_listings_count',\n",
       "       'host_total_listings_count', 'accommodates', 'bathrooms', 'bedrooms',\n",
       "       'beds', 'price', 'security_deposit',\n",
       "       ...\n",
       "       '\"Suitable for Events\"', '\"Elevator in Building\"',\n",
       "       '\"Lock on Bedroom Door\"', '\"Wheelchair Accessible\"', 'Gym', 'Pool',\n",
       "       '\"Smoking Allowed\"', '\"Other pet(s)\"', 'Doorman', '\"Washer / Dryer\"'],\n",
       "      dtype='object', length=118)"
      ]
     },
     "execution_count": 40,
     "metadata": {},
     "output_type": "execute_result"
    }
   ],
   "source": [
    "catlist = catlist.join(amenities_dummies, how='left')\n",
    "listings_clean = pd.concat([numlist_, catlist], axis=1)\n",
    "listings_clean.columns"
   ]
  },
  {
   "cell_type": "markdown",
   "metadata": {},
   "source": [
    "## Question1\n",
    "\n",
    "Can you describe the vibe of each Seattle neighborhood using listing descriptions?"
   ]
  },
  {
   "cell_type": "code",
   "execution_count": 183,
   "metadata": {},
   "outputs": [
    {
     "name": "stderr",
     "output_type": "stream",
     "text": [
      "[nltk_data] Downloading package stopwords to\n",
      "[nltk_data]     C:\\Users\\xumingsheng\\AppData\\Roaming\\nltk_data...\n",
      "[nltk_data]   Unzipping corpora\\stopwords.zip.\n"
     ]
    }
   ],
   "source": [
    "from collections import Counter\n",
    "import nltk\n",
    "nltk.download('stopwords')\n",
    "from nltk import FreqDist\n",
    "from nltk.corpus import stopwords\n",
    "\n",
    "listings_ = pd.read_csv('listings.csv')\n",
    "listings_n = listings_[['neighbourhood_group_cleansed', 'neighborhood_overview'] ]"
   ]
  },
  {
   "cell_type": "raw",
   "metadata": {},
   "source": [
    "neighborhood_array = listings_['neighbourhood_group_cleansed'].unique()\n",
    "print(listings_['neighbourhood_group_cleansed'].unique())\n"
   ]
  },
  {
   "cell_type": "code",
   "execution_count": 197,
   "metadata": {},
   "outputs": [
    {
     "name": "stdout",
     "output_type": "stream",
     "text": [
      "Queen Anne ['queen', 'anne', 'downtown', 'walk', 'restaurants', 'center', 'hill', 'shops', 'space', 'needle', 'park', 'coffee', 'views', 'blocks', 'lower', 'close', 'market', 'place', 'walking', 'within', 'fremont', 'lake', 'minutes', 'bus', 'bars', 'museum', 'best', 'kerry', 'union', 'stores', 'city', 'drive', 'distance', 'quiet', 'south', 'beautiful', 'easy', 'access', 'top', 'home']\n",
      "Ballard ['ballard', 'restaurants', 'walk', 'downtown', 'market', 'golden', 'bars', 'gardens', 'locks', 'shops', 'park', 'blocks', 'within', 'beach', 'walking', 'coffee', 'minutes', 'home', 'best', 'close', 'bus', 'farmers', 'street', 'parks', 'distance', 'city', 'music', 'quiet', 'neighborhoods', 'sunday', 'easy', 'area', 'drive', 'amazing', 'bike', 'food', 'grocery', 'fremont', 'local', 'old']\n",
      "Other neighborhoods ['restaurants', 'park', 'fremont', 'lake', 'walk', 'downtown', 'shops', 'walking', 'blocks', 'university', 'coffee', 'within', 'green', 'bars', 'wallingford', 'ballard', 'close', 'distance', 'greenlake', 'quiet', 'street', 'bus', 'zoo', 'minutes', 'trail', 'grocery', 'woodland', 'washington', 'mile', 'area', 'home', 'market', 'shopping', 'miles', 'easy', 'north', 'neighborhoods', 'house', 'center', 'city']\n",
      "Cascade ['lake', 'union', 'restaurants', 'eastlake', 'downtown', 'south', 'walk', 'blocks', 'easy', 'walking', 'hill', 'distance', 'location', 'coffee', 'access', 'within', 'capitol', 'bars', 'city', 'place', 'shops', 'fun', 'park', 'university', 'minutes', 'get', 'right', 'apartment', 'best', 'like', 'grocery', 'well', 'district', 'space', 'central', 'fremont', 'market', 'quiet', 'amazon', 'home']\n",
      "Central Area ['hill', 'restaurants', 'walk', 'capitol', 'downtown', 'blocks', 'park', 'walking', 'lake', 'madison', 'central', 'shops', 'washington', 'district', 'coffee', 'within', 'quiet', 'close', 'madrona', 'parks', 'food', 'house', 'easy', 'home', 'distance', 'bars', 'place', 'local', 'shop', 'access', 'bus', 'center', 'market', 'area', 'minutes', 'valley', 'city', 'university', 'best', 'nearby']\n",
      "University District ['university', 'district', 'walk', 'restaurants', 'shops', 'washington', 'walking', 'diverse', 'access', 'activities', 'score', 'array', 'amazing', 'bustling', 'vibrant', 'uw', 'distance', 'location', 'public', 'trail', 'downtown', 'blocks', 'rare', 'local', '100', 'area', 'within', 'lake', 'close', 'park', 'people', 'campus', '2', 'five', 'coffee', 'easy', 'shopping', 'neighborhoods', '98', 'quiet']\n",
      "Downtown ['place', 'downtown', 'blocks', 'pike', 'center', 'walk', 'miles', 'restaurants', 'market', 'art', 'belltown', 'mile', 'hill', 'bars', 'needle', 'walking', 'music', 'space', 'museum', 'waterfront', 'heart', 'convention', 'street', 'shopping', 'science', 'distance', 'shops', 'within', 'capitol', '2', 'nearby', 'area', 'everything', 'location', 'block', '13', 'district', 'best', 'square', 'city']\n",
      "Magnolia ['magnolia', 'park', 'downtown', 'minutes', 'discovery', 'walk', 'ballard', 'within', 'quiet', 'views', 'city', 'village', 'restaurants', 'sound', 'close', 'puget', 'queen', 'walking', 'center', 'place', 'fremont', 'feel', 'anne', 'coffee', 'part', 'best', 'parks', 'shops', 'beautiful', 'trails', 'street', 'peaceful', 'locks', 'blocks', 'shopping', 'get', 'mins', 'easy', 'miles', 'house']\n",
      "West Seattle ['beach', 'west', 'alki', 'restaurants', 'downtown', 'walk', 'park', 'walking', 'shops', 'quiet', 'junction', 'minutes', 'blocks', 'close', 'coffee', 'street', 'bus', 'distance', 'block', 'lincoln', 'grocery', 'market', 'water', 'views', 'within', 'drive', 'bars', 'easy', 'access', 'ferry', 'best', 'home', 'shopping', 'area', 'mile', 'like', 'sound', 'ride', 'hill', 'summer']\n",
      "Interbay ['magnolia', 'drive', 'mi', 'shops', 'restaurants', 'views', 'ballard', 'downtown', 'store', 'whole', 'foods', 'coffee', 'puget', 'sound', 'queen', 'anne', 'walking', 'hill', 'safe', 'home', 'area', 'find', 'several', 'grocery', 'drug', 'boutiques', 'chinese', 'park', 'trail', 'beach', 'interbay', 'short', 'location', 'port', 'fremont', 'walk', 'distance', 'subway', 'magic', 'go']\n",
      "Beacon Hill ['beacon', 'hill', 'park', 'coffee', 'downtown', 'restaurants', 'walk', 'blocks', 'within', 'city', 'shops', 'jefferson', 'light', 'rail', 'walking', 'ave', 'north', 'golf', 'home', 'grocery', 'station', 'close', 'diverse', 'bakery', 'residential', 'mile', 'distance', 'quiet', 'food', 'library', 'georgetown', 'easy', 'course', 'area', 'minutes', 'safe', 'oak', 'parks', 'baja', 'bistro']\n",
      "Rainier Valley ['city', 'columbia', 'lake', 'park', 'washington', 'walk', 'restaurants', 'downtown', 'walking', 'within', 'blocks', 'seward', 'light', 'coffee', 'shops', 'rail', 'diverse', 'distance', 'parks', 'minutes', 'short', 'house', 'miles', 'mile', 'bakery', 'close', 'market', 'theater', 'music', 'quiet', 'street', 'block', 'mt', 'easy', 'two', 'live', 'bars', 'south', 'baker', 'local']\n",
      "Delridge ['west', 'downtown', 'park', 'beach', 'minutes', 'restaurants', 'alki', 'quiet', 'street', 'walk', 'walking', 'center', 'within', 'junction', 'miles', 'close', 'hidden)', 'bus', 'house', 'shopping', 'lincoln', 'blocks', 'nearby', 'shops', 'grocery', 'drive', 'area', 'airport', 'home', '15', 'place', 'long', 'views', 'food', 'plenty', 'trails', 'distance', 'people', 'parks', 'coffee']\n",
      "Seward Park ['park', 'city', 'seward', 'columbia', 'lake', 'walk', 'restaurants', 'washington', 'mile', 'miles', 'walking', 'blocks', 'house', 'short', 'rail', 'downtown', 'light', 'trails', 'within', 'shops', 'quiet', 'along', 'rainier', 'live', 'forest', '15', 'bus', 'minutes', 'beautiful', 'coffee', 'store', 'area', 'food', 'drive', 'grocery', 'community', 'best', 'district', 'hill', 'old']\n",
      "Northgate ['downtown', 'minutes', 'quiet', 'restaurants', 'mall', 'northgate', 'park', 'close', 'maple', 'leaf', 'north', 'city', 'walking', 'coffee', 'shops', 'walk', 'lots', 'location', 'street', 'shopping', 'lake', 'distance', 'easy', 'area', 'blocks', 'safe', 'access', 'i-5', 'university', 'grocery', 'within', 'etc', 'several', 'nearby', 'greenlake', 'house', 'bus', 'small', 'center', 'get']\n",
      "Capitol Hill ['hill', 'capitol', 'restaurants', 'walk', 'park', 'bars', 'downtown', 'blocks', 'walking', 'coffee', 'shops', 'within', 'best', 'area', 'street', 'volunteer', 'close', 'place', 'parks', 'distance', 'broadway', 'nightlife', 'grocery', 'local', 'quiet', 'city', 'market', 'minutes', 'bus', 'art', 'home', 'block', 'stores', 'center', 'lake', 'food', 'easy', 'washington', 'nearby', 'neighborhoods']\n",
      "Lake City ['lake', 'city', 'quiet', 'park', 'close', 'restaurants', 'washington', 'parks', 'bus', 'downtown', 'beach', 'walk', 'walking', 'lots', 'grocery', 'north', 'access', 'trail', 'northgate', 'within', 'easy', 'area', 'way', 'university', 'coffee', 'minutes', 'residential', 'local', 'miles', 'ne', 'friendly', 'nearby', 'center', 'beautiful', 'safe', 'people', 'community', 'bike', 'peaceful', 'distance']\n"
     ]
    },
    {
     "data": {
      "text/plain": [
       "'\\nQueen Anne: space,hill,center,needle,kerry,fremont\\nBallard :\\n'"
      ]
     },
     "execution_count": 197,
     "metadata": {},
     "output_type": "execute_result"
    }
   ],
   "source": [
    "\n",
    "neighborhood_dict = {}\n",
    "for i in range(len(neighborhood_array)):\n",
    "    neighborhood_dict[neighborhood_array[i]] = \"\"\n",
    "        \n",
    "for i in range(len(listings_n)):\n",
    "        area_name = listings_n['neighbourhood_group_cleansed'][i]\n",
    "        text = listings_n['neighborhood_overview'][i]\n",
    "        text_ = str(text).lower()\n",
    "        text_ = str(text_).replace(',', '')\n",
    "        text_ = str(text_).replace('.', '')\n",
    "        neighborhood_dict[area_name] += \" \"\n",
    "        neighborhood_dict[area_name] += text_\n",
    "        \n",
    "        \n",
    "filt_array =['nan', 'neighborhood', 'seattle', 'one', 'great', 'also', '-','&', \"seattle's\",'10','-seattle','away','•',\n",
    "             '5','*', 'many', 'around', 'minute','located']\n",
    "\n",
    "\n",
    "for i in range(len(neighborhood_array)):  \n",
    "    area_name = neighborhood_array[i]\n",
    "    words = neighborhood_dict[area_name]\n",
    "    tokens = [t for t in words.split()]\n",
    "    \n",
    "    clean_tokens = tokens[:]\n",
    "    sr = stopwords.words('english')\n",
    "    for token in tokens:\n",
    "        if token in stopwords.words('english'):\n",
    "            clean_tokens.remove(token)\n",
    "        if token in filt_array:\n",
    "            clean_tokens.remove(token)\n",
    "            \n",
    "    fdist1 = FreqDist(clean_tokens)\n",
    "    print(area_name, [i[0] for i in fdist1.most_common(40)])\n",
    "\n",
    "'''\n",
    "Queen Anne: space,hill,center,needle,kerry,fremont\n",
    "Ballard :\n",
    "'''\n",
    "\n",
    "    \n"
   ]
  },
  {
   "cell_type": "code",
   "execution_count": 167,
   "metadata": {},
   "outputs": [
    {
     "name": "stdout",
     "output_type": "stream",
     "text": [
      "Capitol Hill    351\n",
      "Ballard         213\n",
      "Belltown        204\n",
      "Minor           192\n",
      "Queen Anne      187\n",
      "Name: neighbourhood, dtype: int64\n"
     ]
    }
   ],
   "source": [
    "print(listings_['neighbourhood'].value_counts().nlargest(5))"
   ]
  },
  {
   "cell_type": "code",
   "execution_count": 134,
   "metadata": {
    "scrolled": true
   },
   "outputs": [
    {
     "name": "stderr",
     "output_type": "stream",
     "text": [
      "D:\\ProgramData\\Anaconda3\\lib\\site-packages\\ipykernel_launcher.py:4: SettingWithCopyWarning: \n",
      "A value is trying to be set on a copy of a slice from a DataFrame.\n",
      "Try using .loc[row_indexer,col_indexer] = value instead\n",
      "\n",
      "See the caveats in the documentation: http://pandas.pydata.org/pandas-docs/stable/user_guide/indexing.html#returning-a-view-versus-a-copy\n",
      "  after removing the cwd from sys.path.\n"
     ]
    }
   ],
   "source": [
    "# We select the following 5 neighbourhood as target community for further analysis\n",
    "subset = ['Capitol Hill','Ballard','Belltown','Minor','Queen Anne']\n",
    "neighbour = listings_[listings_.neighbourhood.isin(subset)]\n",
    "neighbour['words'] = neighbour.neighborhood_overview.str.strip().str.split('[\\W_]+')\n",
    "neighbour.head()\n",
    "neighbour_ = neighbour.dropna(subset= ['words'])"
   ]
  },
  {
   "cell_type": "code",
   "execution_count": 136,
   "metadata": {},
   "outputs": [
    {
     "data": {
      "text/plain": [
       "1    [Queen, Anne, is, a, wonderful, truly, functio...\n",
       "2    [Upper, Queen, Anne, is, a, charming, neighbor...\n",
       "4    [We, are, in, the, beautiful, neighborhood, of...\n",
       "5    [This, part, of, Queen, Anne, has, wonderful, ...\n",
       "6    [Close, restaurants, coffee, shops, and, groce...\n",
       "Name: words, dtype: object"
      ]
     },
     "execution_count": 136,
     "metadata": {},
     "output_type": "execute_result"
    }
   ],
   "source": [
    "neighbour_['words'].head()"
   ]
  },
  {
   "cell_type": "code",
   "execution_count": null,
   "metadata": {},
   "outputs": [],
   "source": [
    "\n",
    "for i in range()"
   ]
  },
  {
   "cell_type": "markdown",
   "metadata": {},
   "source": [
    "#### Conclusion"
   ]
  },
  {
   "cell_type": "markdown",
   "metadata": {},
   "source": [
    "## Question2\n",
    "\n",
    "What are the main factors affecting house prices?"
   ]
  },
  {
   "cell_type": "code",
   "execution_count": 98,
   "metadata": {},
   "outputs": [],
   "source": [
    "from sklearn.linear_model import LinearRegression\n",
    "from sklearn.model_selection import train_test_split\n",
    "from sklearn.preprocessing import StandardScaler\n",
    "from sklearn.ensemble import RandomForestRegressor\n",
    "from sklearn.ensemble import AdaBoostRegressor\n",
    "from sklearn import linear_model\n",
    "from sklearn.metrics import mean_squared_error\n",
    "from sklearn.metrics import r2_score\n",
    "import seaborn as sns\n",
    "\n",
    "\n",
    "X = listings_clean.drop( ['price','amenities'] ,axis=1)\n",
    "listings_clean_df = X\n",
    "y = listings_clean['price']\n",
    "scaler = StandardScaler().fit(X)\n",
    "rescaledX = scaler.transform(X)\n",
    "#print(listings_clean_df.columns.values)"
   ]
  },
  {
   "cell_type": "code",
   "execution_count": 84,
   "metadata": {},
   "outputs": [],
   "source": [
    "def parse_var_plot(pca):\n",
    "    num_components = len(pca.explained_variance_ratio_)\n",
    "    ind = np.arange(num_components)\n",
    "    vals = pca.explained_variance_ratio_\n",
    " \n",
    "    plt.figure(figsize=(10, 6))\n",
    "    ax = plt.subplot(111)\n",
    "    cumvals = np.cumsum(vals)\n",
    "    ax.bar(ind, vals)\n",
    "    ax.plot(ind, cumvals)\n",
    "    for i in range(num_components):\n",
    "        ax.annotate(r\"%s%%\" % ((str(vals[i]*100)[:4])), (ind[i]+0.2, vals[i]), va=\"bottom\", ha=\"center\", fontsize=12)\n",
    " \n",
    "    ax.xaxis.set_tick_params(width=0)\n",
    "    ax.yaxis.set_tick_params(width=2, length=12)\n",
    " \n",
    "    ax.set_xlabel(\"Principal Component\")\n",
    "    ax.set_ylabel(\"Variance Explained (%)\")\n",
    "    plt.title('Explained Variance Per Principal Component')"
   ]
  },
  {
   "cell_type": "code",
   "execution_count": 85,
   "metadata": {},
   "outputs": [
    {
     "data": {
      "image/png": "[encoded data removed]",
      "text/plain": [
       "<Figure size 720x432 with 1 Axes>"
      ]
     },
     "metadata": {
      "needs_background": "light"
     },
     "output_type": "display_data"
    }
   ],
   "source": [
    "pca = PCA(n_components=110)\n",
    "pca.fit(rescaledX)\n",
    "parse_var_plot(pca)"
   ]
  },
  {
   "cell_type": "code",
   "execution_count": 99,
   "metadata": {},
   "outputs": [],
   "source": [
    "# Map weights for the first principal component to corresponding feature names\n",
    "# and then print the linked values, sorted by weight.\n",
    "# HINT: Try defining a function here or in a new cell that you can reuse in the\n",
    "# other cells.\n",
    "\n",
    "def interpetPCA(pca, df_columns, dimOfInterest, showFeat):\n",
    "    # PCA components\n",
    "    components = pd.DataFrame(np.round(pca.components_, 5), columns = df_columns)\n",
    "\n",
    "    # PCA explained variance per dimension\n",
    "    ratios = pca.explained_variance_ratio_.reshape(len(pca.components_), 1)\n",
    "    variance_ratios = pd.DataFrame(np.round(ratios, 4), columns = ['Explained Variance'])\n",
    "\n",
    "    pcaDf = pd.concat([variance_ratios, components], axis = 1)\n",
    "\n",
    "    #look at single dimension\n",
    "    singleComp = components.iloc[dimOfInterest,:]\n",
    "    topComp = singleComp.sort_values(ascending=False)[0:showFeat].to_frame().transpose()\n",
    "    bottomComp = singleComp.sort_values(ascending=True)[0:showFeat].to_frame().transpose()\n",
    "    # singleComp = pd.concat([topComp, bottomComp], axis=1)\n",
    "    print(topComp)\n",
    "    print(bottomComp)"
   ]
  },
  {
   "cell_type": "code",
   "execution_count": 100,
   "metadata": {},
   "outputs": [
    {
     "name": "stdout",
     "output_type": "stream",
     "text": [
      "   \"Hair Dryer\"     Iron  Hangers  \"24-Hour Check-in\"\n",
      "0       0.24727  0.24574  0.23945             0.21966\n",
      "   room_type_Private room  \"Pets live on this property\"  property_type_House  \\\n",
      "0                -0.14438                      -0.07149              -0.0692   \n",
      "\n",
      "   cancellation_policy_moderate  \n",
      "0                      -0.05214  \n",
      "   \"Elevator in Building\"  neighbourhood_group_cleansed_Downtown      Gym  \\\n",
      "1                 0.19084                                0.18585  0.16508   \n",
      "\n",
      "   calculated_host_listings_count  \n",
      "1                         0.16481  \n",
      "   review_scores_rating  review_scores_value  review_scores_checkin  \\\n",
      "1              -0.27108             -0.26231               -0.24147   \n",
      "\n",
      "   review_scores_accuracy  \n",
      "1                -0.24102  \n",
      "   bedrooms  accommodates     beds  bathrooms\n",
      "2   0.34236       0.31772  0.31165    0.25437\n",
      "   reviews_per_month  Hangers  \"Hair Dryer\"     Iron\n",
      "2           -0.17816 -0.15216      -0.14907 -0.14269\n",
      "   availability_90  availability_60  availability_30  availability_365\n",
      "3          0.40548          0.40535          0.38289           0.30304\n",
      "   \"Elevator in Building\"  review_scores_location  \"Buzzer/Wireless Intercom\"  \\\n",
      "3                 -0.1939                -0.13823                    -0.12061   \n",
      "\n",
      "   neighbourhood_group_cleansed_Downtown  \n",
      "3                               -0.11991  \n"
     ]
    }
   ],
   "source": [
    "pca = PCA(n_components=116) \n",
    "pca.fit(rescaledX)\n",
    "\n",
    "\n",
    "# Map weights for the first principal component to corresponding feature names\n",
    "interpetPCA(pca, listings_clean_df.columns.values, 0, 4 )\n",
    "# Map weights for the second principal component to corresponding feature names\n",
    "interpetPCA(pca, listings_clean_df.columns.values, 1, 4 )\n",
    "# Map weights for the third principal component to corresponding feature names\n",
    "interpetPCA(pca, listings_clean_df.columns.values, 2, 4 )\n",
    "# Map weights for the fourth principal component to corresponding feature names\n",
    "interpetPCA(pca, listings_clean_df.columns.values, 3, 4 )"
   ]
  },
  {
   "cell_type": "code",
   "execution_count": 53,
   "metadata": {},
   "outputs": [
    {
     "data": {
      "text/plain": [
       "LinearRegression(copy_X=True, fit_intercept=True, n_jobs=None, normalize=True)"
      ]
     },
     "execution_count": 53,
     "metadata": {},
     "output_type": "execute_result"
    }
   ],
   "source": [
    "X_train, X_test, y_train, y_test = train_test_split(pcadata, y, test_size=0.25, random_state=42)\n",
    "lnmodel = LinearRegression(normalize=True)\n",
    "lnmodel.fit(X_train,y_train)"
   ]
  },
  {
   "cell_type": "code",
   "execution_count": 54,
   "metadata": {},
   "outputs": [
    {
     "name": "stdout",
     "output_type": "stream",
     "text": [
      "MSE train: 3448.003, test: 3722.263\n",
      "R^2 train: 0.573, test: 0.554\n"
     ]
    }
   ],
   "source": [
    "y_test_pred = lnmodel.predict(X_test)\n",
    "y_train_pred = lnmodel.predict(X_train)\n",
    "print('MSE train: %.3f, test: %.3f' % (\n",
    "        mean_squared_error(y_train, y_train_pred),\n",
    "        mean_squared_error(y_test, y_test_pred)))\n",
    "print('R^2 train: %.3f, test: %.3f' % (\n",
    "        r2_score(y_train, y_train_pred),\n",
    "        r2_score(y_test, y_test_pred)))"
   ]
  },
  {
   "cell_type": "code",
   "execution_count": 55,
   "metadata": {},
   "outputs": [],
   "source": [
    "#Write a function to report performance of the model\n",
    "def model_perf(Xdata,component_low,component_high,model):\n",
    "    mse_train = list()\n",
    "    mse_test = list()\n",
    "    r2_train = list()\n",
    "    r2_test = list()\n",
    "    for i in range(component_low,component_high):\n",
    "        pca = PCA(n_components=i) \n",
    "        pca.fit(Xdata)\n",
    "        pcadata = pca.fit_transform(Xdata)\n",
    "        X_train, X_test, y_train, y_test = train_test_split(pcadata, y, test_size=0.25, random_state=42)\n",
    "        model.fit(X_train,y_train)\n",
    "        y_test_pred = model.predict(X_test)\n",
    "        y_train_pred = model.predict(X_train)\n",
    "        mse_train.append(mean_squared_error(y_train, y_train_pred))\n",
    "        mse_test.append(mean_squared_error(y_test, y_test_pred))\n",
    "        r2_train.append(r2_score(y_train, y_train_pred))\n",
    "        r2_test.append(r2_score(y_test, y_test_pred))\n",
    "    x = range(component_low,component_high)\n",
    "    plt.plot(x,mse_train,color='black')\n",
    "    plt.plot(x,mse_test,color='blue')\n",
    "    plt.show()"
   ]
  },
  {
   "cell_type": "code",
   "execution_count": 65,
   "metadata": {},
   "outputs": [
    {
     "data": {
      "image/png": "[encoded data removed]",
      "text/plain": [
       "<Figure size 432x288 with 1 Axes>"
      ]
     },
     "metadata": {
      "needs_background": "light"
     },
     "output_type": "display_data"
    }
   ],
   "source": [
    "lnmodel = LinearRegression(normalize=True)\n",
    "model_perf(rescaledX,20,70,lnmodel)"
   ]
  },
  {
   "cell_type": "code",
   "execution_count": 66,
   "metadata": {},
   "outputs": [
    {
     "data": {
      "image/png": "[encoded data removed]",
      "text/plain": [
       "<Figure size 432x288 with 1 Axes>"
      ]
     },
     "metadata": {
      "needs_background": "light"
     },
     "output_type": "display_data"
    }
   ],
   "source": [
    "lassomodel = linear_model.Lasso(alpha=0.8)\n",
    "model_perf(rescaledX,20,70,lassomodel)"
   ]
  },
  {
   "cell_type": "code",
   "execution_count": 67,
   "metadata": {},
   "outputs": [
    {
     "name": "stdout",
     "output_type": "stream",
     "text": [
      "MSE train: 3485.192, test: 3473.262\n",
      "R^2 train: 0.568, test: 0.584\n"
     ]
    }
   ],
   "source": [
    "pca = PCA(n_components=70) \n",
    "pca.fit(rescaledX)\n",
    "pcadata = pca.fit_transform(rescaledX)\n",
    "pca.explained_variance_ratio_.sum()\n",
    "lassomodel = linear_model.Lasso(alpha=0.8)\n",
    "lassomodel.fit(X_train, y_train)\n",
    "y_train_pred = lassomodel.predict(X_train)\n",
    "y_test_pred = lassomodel.predict(X_test)\n",
    "print('MSE train: %.3f, test: %.3f' % (\n",
    "        mean_squared_error(y_train, y_train_pred),\n",
    "        mean_squared_error(y_test, y_test_pred)))\n",
    "print('R^2 train: %.3f, test: %.3f' % (\n",
    "        r2_score(y_train, y_train_pred),\n",
    "        r2_score(y_test, y_test_pred)))"
   ]
  },
  {
   "cell_type": "markdown",
   "metadata": {},
   "source": [
    "### Conclusion\n",
    "\n",
    "Here, we build a model function and tried two different models including linear regression and lasso regression, we found that by evluating using mse score, lasso-regression performs the best out of the other models and the result is more consistent.\n",
    "And we further tuning this parameter, and set the alpha to be at 0.8, the final model reports that the mse on test set is 3473, and R-square is 0.584.\n",
    "\n",
    "Through PCA analysis, we can get 4 kinds of positive facts:\n",
    "1. \"Hair Dryer\", Iron, Hangers,  \"24-Hour Check-in\"\n",
    "2. \"Elevator in Building\", neighbourhood_group_cleansed_Downtown, Gym, calculated_host_listings_count\n",
    "3. bedrooms, accommodates, beds, bathrooms\n",
    "4. availability_90,  availability_60,  availability_30,  availability_365\n",
    "\n",
    "and private house property， pet living in property， some review scores are negtive facts.\n"
   ]
  },
  {
   "cell_type": "markdown",
   "metadata": {},
   "source": [
    "## question 3: \n",
    "\n",
    "When is the best price in a year? Are they effected by seasons?"
   ]
  },
  {
   "cell_type": "code",
   "execution_count": 114,
   "metadata": {},
   "outputs": [
    {
     "name": "stdout",
     "output_type": "stream",
     "text": [
      "127.97616553169199\n"
     ]
    },
    {
     "data": {
      "text/plain": [
       "<matplotlib.axes._subplots.AxesSubplot at 0x16609dccb88>"
      ]
     },
     "execution_count": 114,
     "metadata": {},
     "output_type": "execute_result"
    },
    {
     "data": {
      "image/png": "[encoded data removed]",
      "text/plain": [
       "<Figure size 432x288 with 1 Axes>"
      ]
     },
     "metadata": {
      "needs_background": "light"
     },
     "output_type": "display_data"
    }
   ],
   "source": [
    "listings_clean['price'].mean()\n",
    "print(listings_clean['price'].mean())\n",
    "\n",
    "listings_clean['price'].hist(bins=100)"
   ]
  },
  {
   "cell_type": "markdown",
   "metadata": {},
   "source": [
    "Rent house's average price is 128."
   ]
  },
  {
   "cell_type": "code",
   "execution_count": 115,
   "metadata": {
    "scrolled": true
   },
   "outputs": [
    {
     "data": {
      "text/html": [
       "<div>\n",
       "<style scoped>\n",
       "    .dataframe tbody tr th:only-of-type {\n",
       "        vertical-align: middle;\n",
       "    }\n",
       "\n",
       "    .dataframe tbody tr th {\n",
       "        vertical-align: top;\n",
       "    }\n",
       "\n",
       "    .dataframe thead th {\n",
       "        text-align: right;\n",
       "    }\n",
       "</style>\n",
       "<table border=\"1\" class=\"dataframe\">\n",
       "  <thead>\n",
       "    <tr style=\"text-align: right;\">\n",
       "      <th></th>\n",
       "      <th>listing_id</th>\n",
       "      <th>date</th>\n",
       "      <th>available</th>\n",
       "      <th>price</th>\n",
       "    </tr>\n",
       "  </thead>\n",
       "  <tbody>\n",
       "    <tr>\n",
       "      <td>0</td>\n",
       "      <td>241032</td>\n",
       "      <td>2016-01-04</td>\n",
       "      <td>1</td>\n",
       "      <td>85.0</td>\n",
       "    </tr>\n",
       "    <tr>\n",
       "      <td>1</td>\n",
       "      <td>241032</td>\n",
       "      <td>2016-01-05</td>\n",
       "      <td>1</td>\n",
       "      <td>85.0</td>\n",
       "    </tr>\n",
       "    <tr>\n",
       "      <td>9</td>\n",
       "      <td>241032</td>\n",
       "      <td>2016-01-13</td>\n",
       "      <td>1</td>\n",
       "      <td>85.0</td>\n",
       "    </tr>\n",
       "    <tr>\n",
       "      <td>10</td>\n",
       "      <td>241032</td>\n",
       "      <td>2016-01-14</td>\n",
       "      <td>1</td>\n",
       "      <td>85.0</td>\n",
       "    </tr>\n",
       "    <tr>\n",
       "      <td>14</td>\n",
       "      <td>241032</td>\n",
       "      <td>2016-01-18</td>\n",
       "      <td>1</td>\n",
       "      <td>85.0</td>\n",
       "    </tr>\n",
       "  </tbody>\n",
       "</table>\n",
       "</div>"
      ],
      "text/plain": [
       "    listing_id       date  available  price\n",
       "0       241032 2016-01-04          1   85.0\n",
       "1       241032 2016-01-05          1   85.0\n",
       "9       241032 2016-01-13          1   85.0\n",
       "10      241032 2016-01-14          1   85.0\n",
       "14      241032 2016-01-18          1   85.0"
      ]
     },
     "execution_count": 115,
     "metadata": {},
     "output_type": "execute_result"
    }
   ],
   "source": [
    "calendar['date'] = pd.to_datetime(calendar['date'])\n",
    "calendar[['price']] = calendar[['price']].replace('[\\$,]','',regex=True).astype(float)\n",
    "calendar = calendar.dropna()\n",
    "calendar.head()"
   ]
  },
  {
   "cell_type": "code",
   "execution_count": 116,
   "metadata": {},
   "outputs": [
    {
     "name": "stdout",
     "output_type": "stream",
     "text": [
      "date\n",
      "2016-01-31    121.692505\n",
      "2016-02-29    124.315614\n",
      "2016-03-31    128.640797\n",
      "2016-04-30    135.109460\n",
      "2016-05-31    139.539566\n",
      "2016-06-30    147.469191\n",
      "2016-07-31    152.102977\n",
      "2016-08-31    150.657032\n",
      "2016-09-30    143.277182\n",
      "2016-10-31    137.033871\n",
      "2016-11-30    135.687825\n",
      "2016-12-31    137.238611\n",
      "2017-01-31    136.849867\n",
      "Freq: M, Name: price, dtype: float64\n",
      "increase percentage:0.24899334374229598\n"
     ]
    }
   ],
   "source": [
    "pricedf = calendar.groupby(['date'])['price'].mean()\n",
    "print(pricedf.resample('M').mean())\n",
    "print(\"increase percentage:{}\".format((152.0-121.7)/121.69))\n",
    "\n"
   ]
  },
  {
   "cell_type": "code",
   "execution_count": 117,
   "metadata": {},
   "outputs": [
    {
     "data": {
      "text/plain": [
       "<matplotlib.axes._subplots.AxesSubplot at 0x1660c7b6f88>"
      ]
     },
     "execution_count": 117,
     "metadata": {},
     "output_type": "execute_result"
    },
    {
     "data": {
      "image/png": "[encoded data removed]",
      "text/plain": [
       "<Figure size 432x288 with 2 Axes>"
      ]
     },
     "metadata": {
      "needs_background": "light"
     },
     "output_type": "display_data"
    }
   ],
   "source": [
    "pricedf = calendar.groupby(['date'])['price'].mean()\n",
    "plt.subplot(211)\n",
    "pricedf.resample('D').mean().plot()\n",
    "plt.subplot(212)\n",
    "pricedf.resample('W').mean().plot()"
   ]
  },
  {
   "cell_type": "markdown",
   "metadata": {
    "collapsed": true,
    "scrolled": true
   },
   "source": [
    "### Conclusion\n",
    "\n",
    "From the above mean price line graphs, we can see the busiest season of Seattle in a year is around summer\n",
    "\n",
    "the price keeps going from January(average price:122) reached to the peak on July (average price:152). \n",
    "\n",
    "The mean of the listing price increased by 24.9% compared the start of the year."
   ]
  },
  {
   "cell_type": "code",
   "execution_count": null,
   "metadata": {},
   "outputs": [],
   "source": []
  }
 ],
 "metadata": {
  "anaconda-cloud": {},
  "kernelspec": {
   "display_name": "Python 3",
   "language": "python",
   "name": "python3"
  },
  "language_info": {
   "codemirror_mode": {
    "name": "ipython",
    "version": 3
   },
   "file_extension": ".py",
   "mimetype": "text/x-python",
   "name": "python",
   "nbconvert_exporter": "python",
   "pygments_lexer": "ipython3",
   "version": "3.7.4"
  }
 },
 "nbformat": 4,
 "nbformat_minor": 2
}
