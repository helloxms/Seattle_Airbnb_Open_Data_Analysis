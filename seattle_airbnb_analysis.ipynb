{
 "cells": [
  {
   "cell_type": "markdown",
   "metadata": {},
   "source": [
    "# Seattle Airbnb Open Data Analys\n",
    "\n",
    "\n",
    "\n",
    "\n",
    "\n",
    "## Data Description：\n",
    "since 2008,guests and hosts have used Airbnb to travel in a more unique, personalized way. As part of the Airbnb Inside initiative, this dataset describes the listing activity of homestays in Seattle, WA.\n"
   ]
  },
  {
   "cell_type": "markdown",
   "metadata": {},
   "source": [
    "## 1. Get Data:\n",
    "The following Airbnb activity is included in this Seattle dataset:\n",
    "Listings, including full descriptions and average review score\n",
    "Reviews, including unique id for each reviewer and detailed comments\n",
    "Calendar, including listing id and the price and availability for that day"
   ]
  },
  {
   "cell_type": "code",
<<<<<<< HEAD
   "execution_count": 124,
=======
   "execution_count": 116,
>>>>>>> c1795c19fc1ac214015ba52bab0b4ed6dcf53448
   "metadata": {
    "collapsed": true,
    "scrolled": true
   },
   "outputs": [],
   "source": [
    "import numpy as np\n",
    "import pandas as pd\n",
    "import matplotlib.pyplot as plt\n",
    "%matplotlib inline"
   ]
  },
  {
   "cell_type": "code",
<<<<<<< HEAD
   "execution_count": 125,
=======
   "execution_count": 117,
>>>>>>> c1795c19fc1ac214015ba52bab0b4ed6dcf53448
   "metadata": {
    "collapsed": false,
    "scrolled": true
   },
   "outputs": [],
   "source": [
    "%matplotlib inline\n",
    "\n",
    "listings = pd.read_csv('listings.csv')\n",
    "calendar = pd.read_csv('calendar.csv')\n",
    "reviews = pd.read_csv('reviews.csv')"
   ]
  },
  {
   "cell_type": "code",
<<<<<<< HEAD
   "execution_count": 126,
   "metadata": {
    "scrolled": true
   },
   "outputs": [
    {
     "data": {
      "text/html": [
       "<div>\n",
       "<style scoped>\n",
       "    .dataframe tbody tr th:only-of-type {\n",
       "        vertical-align: middle;\n",
       "    }\n",
       "\n",
       "    .dataframe tbody tr th {\n",
       "        vertical-align: top;\n",
       "    }\n",
       "\n",
       "    .dataframe thead th {\n",
       "        text-align: right;\n",
       "    }\n",
       "</style>\n",
       "<table border=\"1\" class=\"dataframe\">\n",
       "  <thead>\n",
       "    <tr style=\"text-align: right;\">\n",
       "      <th></th>\n",
       "      <th>id</th>\n",
       "      <th>listing_url</th>\n",
       "      <th>scrape_id</th>\n",
       "      <th>last_scraped</th>\n",
       "      <th>name</th>\n",
       "      <th>summary</th>\n",
       "      <th>space</th>\n",
       "      <th>description</th>\n",
       "      <th>experiences_offered</th>\n",
       "      <th>neighborhood_overview</th>\n",
       "      <th>...</th>\n",
       "      <th>review_scores_value</th>\n",
       "      <th>requires_license</th>\n",
       "      <th>license</th>\n",
       "      <th>jurisdiction_names</th>\n",
       "      <th>instant_bookable</th>\n",
       "      <th>cancellation_policy</th>\n",
       "      <th>require_guest_profile_picture</th>\n",
       "      <th>require_guest_phone_verification</th>\n",
       "      <th>calculated_host_listings_count</th>\n",
       "      <th>reviews_per_month</th>\n",
       "    </tr>\n",
       "  </thead>\n",
       "  <tbody>\n",
       "    <tr>\n",
       "      <td>2562</td>\n",
       "      <td>8505940</td>\n",
       "      <td>https://www.airbnb.com/rooms/8505940</td>\n",
       "      <td>20160104002432</td>\n",
       "      <td>2016-01-04</td>\n",
       "      <td>Cozy room near UW</td>\n",
       "      <td>This 1918 house in the Montlake district is lo...</td>\n",
       "      <td>This beautiful 1918 home in the Montlake distr...</td>\n",
       "      <td>This 1918 house in the Montlake district is lo...</td>\n",
       "      <td>none</td>\n",
       "      <td>Montlake is a fashionable residential neighbor...</td>\n",
       "      <td>...</td>\n",
       "      <td>10.0</td>\n",
       "      <td>f</td>\n",
       "      <td>NaN</td>\n",
       "      <td>WASHINGTON</td>\n",
       "      <td>f</td>\n",
       "      <td>moderate</td>\n",
       "      <td>f</td>\n",
       "      <td>f</td>\n",
       "      <td>2</td>\n",
       "      <td>4.20</td>\n",
       "    </tr>\n",
       "    <tr>\n",
       "      <td>1425</td>\n",
       "      <td>5270886</td>\n",
       "      <td>https://www.airbnb.com/rooms/5270886</td>\n",
       "      <td>20160104002432</td>\n",
       "      <td>2016-01-04</td>\n",
       "      <td>Walk To Space Needle, Pike Place S7</td>\n",
       "      <td>Experience Seattle's ultimate urban condo livi...</td>\n",
       "      <td>NaN</td>\n",
       "      <td>Experience Seattle's ultimate urban condo livi...</td>\n",
       "      <td>none</td>\n",
       "      <td>Close to everything including:  * The Space Ne...</td>\n",
       "      <td>...</td>\n",
       "      <td>9.0</td>\n",
       "      <td>f</td>\n",
       "      <td>NaN</td>\n",
       "      <td>WASHINGTON</td>\n",
       "      <td>f</td>\n",
       "      <td>strict</td>\n",
       "      <td>f</td>\n",
       "      <td>t</td>\n",
       "      <td>3</td>\n",
       "      <td>1.53</td>\n",
       "    </tr>\n",
       "  </tbody>\n",
       "</table>\n",
       "<p>2 rows × 92 columns</p>\n",
       "</div>"
      ],
      "text/plain": [
       "           id                           listing_url       scrape_id  \\\n",
       "2562  8505940  https://www.airbnb.com/rooms/8505940  20160104002432   \n",
       "1425  5270886  https://www.airbnb.com/rooms/5270886  20160104002432   \n",
       "\n",
       "     last_scraped                                 name  \\\n",
       "2562   2016-01-04                    Cozy room near UW   \n",
       "1425   2016-01-04  Walk To Space Needle, Pike Place S7   \n",
       "\n",
       "                                                summary  \\\n",
       "2562  This 1918 house in the Montlake district is lo...   \n",
       "1425  Experience Seattle's ultimate urban condo livi...   \n",
       "\n",
       "                                                  space  \\\n",
       "2562  This beautiful 1918 home in the Montlake distr...   \n",
       "1425                                                NaN   \n",
       "\n",
       "                                            description experiences_offered  \\\n",
       "2562  This 1918 house in the Montlake district is lo...                none   \n",
       "1425  Experience Seattle's ultimate urban condo livi...                none   \n",
       "\n",
       "                                  neighborhood_overview  ...  \\\n",
       "2562  Montlake is a fashionable residential neighbor...  ...   \n",
       "1425  Close to everything including:  * The Space Ne...  ...   \n",
       "\n",
       "     review_scores_value requires_license license jurisdiction_names  \\\n",
       "2562                10.0                f     NaN         WASHINGTON   \n",
       "1425                 9.0                f     NaN         WASHINGTON   \n",
       "\n",
       "     instant_bookable cancellation_policy  require_guest_profile_picture  \\\n",
       "2562                f            moderate                              f   \n",
       "1425                f              strict                              f   \n",
       "\n",
       "     require_guest_phone_verification calculated_host_listings_count  \\\n",
       "2562                                f                              2   \n",
       "1425                                t                              3   \n",
       "\n",
       "     reviews_per_month  \n",
       "2562              4.20  \n",
       "1425              1.53  \n",
       "\n",
       "[2 rows x 92 columns]"
      ]
     },
     "execution_count": 126,
     "metadata": {},
     "output_type": "execute_result"
    }
   ],
   "source": [
    "listings.sample(2,random_state=42)"
   ]
  },
  {
   "cell_type": "code",
   "execution_count": 127,
=======
   "execution_count": 118,
>>>>>>> c1795c19fc1ac214015ba52bab0b4ed6dcf53448
   "metadata": {
    "collapsed": false,
    "scrolled": true
   },
   "outputs": [
    {
     "data": {
      "text/html": [
       "<div>\n",
       "<style>\n",
       "    .dataframe thead tr:only-child th {\n",
       "        text-align: right;\n",
       "    }\n",
       "\n",
       "    .dataframe thead th {\n",
       "        text-align: left;\n",
       "    }\n",
       "\n",
       "    .dataframe tbody tr th {\n",
       "        vertical-align: top;\n",
       "    }\n",
       "</style>\n",
       "<table border=\"1\" class=\"dataframe\">\n",
       "  <thead>\n",
       "    <tr style=\"text-align: right;\">\n",
       "      <th></th>\n",
       "      <th>id</th>\n",
       "      <th>listing_url</th>\n",
       "      <th>scrape_id</th>\n",
       "      <th>last_scraped</th>\n",
       "      <th>name</th>\n",
       "      <th>summary</th>\n",
       "      <th>space</th>\n",
       "      <th>description</th>\n",
       "      <th>experiences_offered</th>\n",
       "      <th>neighborhood_overview</th>\n",
       "      <th>...</th>\n",
       "      <th>review_scores_value</th>\n",
       "      <th>requires_license</th>\n",
       "      <th>license</th>\n",
       "      <th>jurisdiction_names</th>\n",
       "      <th>instant_bookable</th>\n",
       "      <th>cancellation_policy</th>\n",
       "      <th>require_guest_profile_picture</th>\n",
       "      <th>require_guest_phone_verification</th>\n",
       "      <th>calculated_host_listings_count</th>\n",
       "      <th>reviews_per_month</th>\n",
       "    </tr>\n",
       "  </thead>\n",
       "  <tbody>\n",
       "    <tr>\n",
       "      <th>2562</th>\n",
       "      <td>8505940</td>\n",
       "      <td>https://www.airbnb.com/rooms/8505940</td>\n",
       "      <td>20160104002432</td>\n",
       "      <td>2016-01-04</td>\n",
       "      <td>Cozy room near UW</td>\n",
       "      <td>This 1918 house in the Montlake district is lo...</td>\n",
       "      <td>This beautiful 1918 home in the Montlake distr...</td>\n",
       "      <td>This 1918 house in the Montlake district is lo...</td>\n",
       "      <td>none</td>\n",
       "      <td>Montlake is a fashionable residential neighbor...</td>\n",
       "      <td>...</td>\n",
       "      <td>10.0</td>\n",
       "      <td>f</td>\n",
       "      <td>NaN</td>\n",
       "      <td>WASHINGTON</td>\n",
       "      <td>f</td>\n",
       "      <td>moderate</td>\n",
       "      <td>f</td>\n",
       "      <td>f</td>\n",
       "      <td>2</td>\n",
       "      <td>4.20</td>\n",
       "    </tr>\n",
       "    <tr>\n",
       "      <th>1425</th>\n",
       "      <td>5270886</td>\n",
       "      <td>https://www.airbnb.com/rooms/5270886</td>\n",
       "      <td>20160104002432</td>\n",
       "      <td>2016-01-04</td>\n",
       "      <td>Walk To Space Needle, Pike Place S7</td>\n",
       "      <td>Experience Seattle's ultimate urban condo livi...</td>\n",
       "      <td>NaN</td>\n",
       "      <td>Experience Seattle's ultimate urban condo livi...</td>\n",
       "      <td>none</td>\n",
       "      <td>Close to everything including:  * The Space Ne...</td>\n",
       "      <td>...</td>\n",
       "      <td>9.0</td>\n",
       "      <td>f</td>\n",
       "      <td>NaN</td>\n",
       "      <td>WASHINGTON</td>\n",
       "      <td>f</td>\n",
       "      <td>strict</td>\n",
       "      <td>f</td>\n",
       "      <td>t</td>\n",
       "      <td>3</td>\n",
       "      <td>1.53</td>\n",
       "    </tr>\n",
       "  </tbody>\n",
       "</table>\n",
       "<p>2 rows × 92 columns</p>\n",
       "</div>"
      ],
      "text/plain": [
       "           id                           listing_url       scrape_id  \\\n",
       "2562  8505940  https://www.airbnb.com/rooms/8505940  20160104002432   \n",
       "1425  5270886  https://www.airbnb.com/rooms/5270886  20160104002432   \n",
       "\n",
       "     last_scraped                                 name  \\\n",
       "2562   2016-01-04                    Cozy room near UW   \n",
       "1425   2016-01-04  Walk To Space Needle, Pike Place S7   \n",
       "\n",
       "                                                summary  \\\n",
       "2562  This 1918 house in the Montlake district is lo...   \n",
       "1425  Experience Seattle's ultimate urban condo livi...   \n",
       "\n",
       "                                                  space  \\\n",
       "2562  This beautiful 1918 home in the Montlake distr...   \n",
       "1425                                                NaN   \n",
       "\n",
       "                                            description experiences_offered  \\\n",
       "2562  This 1918 house in the Montlake district is lo...                none   \n",
       "1425  Experience Seattle's ultimate urban condo livi...                none   \n",
       "\n",
       "                                  neighborhood_overview        ...         \\\n",
       "2562  Montlake is a fashionable residential neighbor...        ...          \n",
       "1425  Close to everything including:  * The Space Ne...        ...          \n",
       "\n",
       "     review_scores_value requires_license license jurisdiction_names  \\\n",
       "2562                10.0                f     NaN         WASHINGTON   \n",
       "1425                 9.0                f     NaN         WASHINGTON   \n",
       "\n",
       "     instant_bookable cancellation_policy  require_guest_profile_picture  \\\n",
       "2562                f            moderate                              f   \n",
       "1425                f              strict                              f   \n",
       "\n",
       "     require_guest_phone_verification calculated_host_listings_count  \\\n",
       "2562                                f                              2   \n",
       "1425                                t                              3   \n",
       "\n",
       "     reviews_per_month  \n",
       "2562              4.20  \n",
       "1425              1.53  \n",
       "\n",
       "[2 rows x 92 columns]"
      ]
     },
     "execution_count": 118,
     "metadata": {},
     "output_type": "execute_result"
    }
   ],
   "source": [
    "listings.sample(2,random_state=42)"
   ]
  },
  {
   "cell_type": "code",
   "execution_count": 119,
   "metadata": {
    "collapsed": false,
    "scrolled": true
   },
   "outputs": [
    {
     "name": "stdout",
     "output_type": "stream",
     "text": [
      "listings columns:\n",
      "Index(['id', 'listing_url', 'scrape_id', 'last_scraped', 'name', 'summary',\n",
      "       'space', 'description', 'experiences_offered', 'neighborhood_overview',\n",
      "       'notes', 'transit', 'thumbnail_url', 'medium_url', 'picture_url',\n",
      "       'xl_picture_url', 'host_id', 'host_url', 'host_name', 'host_since',\n",
      "       'host_location', 'host_about', 'host_response_time',\n",
      "       'host_response_rate', 'host_acceptance_rate', 'host_is_superhost',\n",
      "       'host_thumbnail_url', 'host_picture_url', 'host_neighbourhood',\n",
      "       'host_listings_count', 'host_total_listings_count',\n",
      "       'host_verifications', 'host_has_profile_pic', 'host_identity_verified',\n",
      "       'street', 'neighbourhood', 'neighbourhood_cleansed',\n",
      "       'neighbourhood_group_cleansed', 'city', 'state', 'zipcode', 'market',\n",
      "       'smart_location', 'country_code', 'country', 'latitude', 'longitude',\n",
      "       'is_location_exact', 'property_type', 'room_type', 'accommodates',\n",
      "       'bathrooms', 'bedrooms', 'beds', 'bed_type', 'amenities', 'square_feet',\n",
      "       'price', 'weekly_price', 'monthly_price', 'security_deposit',\n",
      "       'cleaning_fee', 'guests_included', 'extra_people', 'minimum_nights',\n",
      "       'maximum_nights', 'calendar_updated', 'has_availability',\n",
      "       'availability_30', 'availability_60', 'availability_90',\n",
      "       'availability_365', 'calendar_last_scraped', 'number_of_reviews',\n",
      "       'first_review', 'last_review', 'review_scores_rating',\n",
      "       'review_scores_accuracy', 'review_scores_cleanliness',\n",
      "       'review_scores_checkin', 'review_scores_communication',\n",
      "       'review_scores_location', 'review_scores_value', 'requires_license',\n",
      "       'license', 'jurisdiction_names', 'instant_bookable',\n",
      "       'cancellation_policy', 'require_guest_profile_picture',\n",
      "       'require_guest_phone_verification', 'calculated_host_listings_count',\n",
      "       'reviews_per_month'],\n",
      "      dtype='object')\n",
      "(3818, 92)\n",
      "calendar columns:\n",
      "Index(['listing_id', 'date', 'available', 'price'], dtype='object')\n",
      "(1393570, 4)\n",
      "reviews columns:\n",
      "Index(['listing_id', 'id', 'date', 'reviewer_id', 'reviewer_name', 'comments'], dtype='object')\n",
      "(84849, 6)\n"
     ]
    }
   ],
   "source": [
    "print(\"listings columns:\")\n",
    "print(listings.columns)\n",
    "print(listings.shape)\n",
    "print(\"calendar columns:\")\n",
    "print(calendar.columns)\n",
    "print(calendar.shape)\n",
    "print(\"reviews columns:\")\n",
    "print(reviews.columns)\n",
    "print(reviews.shape)"
   ]
  },
  {
   "cell_type": "markdown",
   "metadata": {},
   "source": [
    "###### listings columns:\n",
    "\n",
    "['id', 'listing_url', 'scrape_id', 'last_scraped', 'name', 'summary',\n",
    "       'space', 'description', 'experiences_offered', 'neighborhood_overview',\n",
    "       'notes', 'transit', 'thumbnail_url', 'medium_url', 'picture_url',\n",
    "       'xl_picture_url', 'host_id', 'host_url', 'host_name', 'host_since',\n",
    "       'host_location', 'host_about', 'host_response_time',\n",
    "       'host_response_rate', 'host_acceptance_rate', 'host_is_superhost',\n",
    "       'host_thumbnail_url', 'host_picture_url', 'host_neighbourhood',\n",
    "       'host_listings_count', 'host_total_listings_count',\n",
    "       'host_verifications', 'host_has_profile_pic', 'host_identity_verified',\n",
    "       'street', 'neighbourhood', 'neighbourhood_cleansed',\n",
    "       'neighbourhood_group_cleansed', 'city', 'state', 'zipcode', 'market',\n",
    "       'smart_location', 'country_code', 'country', 'latitude', 'longitude',\n",
    "       'is_location_exact', 'property_type', 'room_type', 'accommodates',\n",
    "       'bathrooms', 'bedrooms', 'beds', 'bed_type', 'amenities', 'square_feet',\n",
    "       'price', 'weekly_price', 'monthly_price', 'security_deposit',\n",
    "       'cleaning_fee', 'guests_included', 'extra_people', 'minimum_nights',\n",
    "       'maximum_nights', 'calendar_updated', 'has_availability',\n",
    "       'availability_30', 'availability_60', 'availability_90',\n",
    "       'availability_365', 'calendar_last_scraped', 'number_of_reviews',\n",
    "       'first_review', 'last_review', 'review_scores_rating',\n",
    "       'review_scores_accuracy', 'review_scores_cleanliness',\n",
    "       'review_scores_checkin', 'review_scores_communication',\n",
    "       'review_scores_location', 'review_scores_value', 'requires_license',\n",
    "       'license', 'jurisdiction_names', 'instant_bookable',\n",
    "       'cancellation_policy', 'require_guest_profile_picture',\n",
    "       'require_guest_phone_verification', 'calculated_host_listings_count',\n",
    "       'reviews_per_month']s\n",
    "       \n",
    "(3818, 92)\n",
    "\n",
    "\n",
    "###### calendar columns:\n",
    "['listing_id', 'date', 'available', 'price']\n",
    "(1393570, 4)\n",
    "\n",
    "\n",
    "###### reviews columns:\n",
    "['listing_id', 'id', 'date', 'reviewer_id', 'reviewer_name', 'comments']\n",
    "(84849, 6)"
   ]
  },
  {
   "cell_type": "code",
<<<<<<< HEAD
   "execution_count": 128,
=======
   "execution_count": 120,
>>>>>>> c1795c19fc1ac214015ba52bab0b4ed6dcf53448
   "metadata": {
    "collapsed": false,
    "scrolled": false
   },
   "outputs": [
    {
     "data": {
      "text/html": [
       "<div>\n",
       "<style>\n",
       "    .dataframe thead tr:only-child th {\n",
       "        text-align: right;\n",
       "    }\n",
       "\n",
       "    .dataframe thead th {\n",
       "        text-align: left;\n",
       "    }\n",
       "\n",
       "    .dataframe tbody tr th {\n",
       "        vertical-align: top;\n",
       "    }\n",
       "</style>\n",
       "<table border=\"1\" class=\"dataframe\">\n",
       "  <thead>\n",
       "    <tr style=\"text-align: right;\">\n",
       "      <th></th>\n",
       "      <th>listing_id</th>\n",
       "      <th>id</th>\n",
       "      <th>date</th>\n",
       "      <th>reviewer_id</th>\n",
       "      <th>reviewer_name</th>\n",
       "      <th>comments</th>\n",
       "    </tr>\n",
       "  </thead>\n",
       "  <tbody>\n",
       "    <tr>\n",
       "      <th>41188</th>\n",
       "      <td>6637899</td>\n",
       "      <td>40956769</td>\n",
       "      <td>2015-08-03</td>\n",
       "      <td>5529156</td>\n",
       "      <td>Maggie</td>\n",
       "      <td>Eileen was totally welcoming, a lovely host, o...</td>\n",
       "    </tr>\n",
       "    <tr>\n",
       "      <th>51646</th>\n",
       "      <td>5918259</td>\n",
       "      <td>47360403</td>\n",
       "      <td>2015-09-18</td>\n",
       "      <td>3381323</td>\n",
       "      <td>Melissa</td>\n",
       "      <td>My hubby and I had a wonderful time at Dee's a...</td>\n",
       "    </tr>\n",
       "  </tbody>\n",
       "</table>\n",
       "</div>"
      ],
      "text/plain": [
       "       listing_id        id        date  reviewer_id reviewer_name  \\\n",
       "41188     6637899  40956769  2015-08-03      5529156        Maggie   \n",
       "51646     5918259  47360403  2015-09-18      3381323       Melissa   \n",
       "\n",
       "                                                comments  \n",
       "41188  Eileen was totally welcoming, a lovely host, o...  \n",
       "51646  My hubby and I had a wonderful time at Dee's a...  "
      ]
     },
<<<<<<< HEAD
     "execution_count": 128,
=======
     "execution_count": 120,
>>>>>>> c1795c19fc1ac214015ba52bab0b4ed6dcf53448
     "metadata": {},
     "output_type": "execute_result"
    }
   ],
   "source": [
    "reviews.sample(2,random_state=42)"
   ]
  },
  {
   "cell_type": "code",
<<<<<<< HEAD
   "execution_count": 129,
   "metadata": {},
   "outputs": [
    {
     "data": {
      "text/html": [
       "<div>\n",
       "<style scoped>\n",
       "    .dataframe tbody tr th:only-of-type {\n",
       "        vertical-align: middle;\n",
       "    }\n",
       "\n",
       "    .dataframe tbody tr th {\n",
       "        vertical-align: top;\n",
       "    }\n",
       "\n",
       "    .dataframe thead th {\n",
       "        text-align: right;\n",
       "    }\n",
       "</style>\n",
       "<table border=\"1\" class=\"dataframe\">\n",
       "  <thead>\n",
       "    <tr style=\"text-align: right;\">\n",
       "      <th></th>\n",
       "      <th>listing_id</th>\n",
       "      <th>date</th>\n",
       "      <th>available</th>\n",
       "      <th>price</th>\n",
       "    </tr>\n",
       "  </thead>\n",
       "  <tbody>\n",
       "    <tr>\n",
       "      <td>226311</td>\n",
       "      <td>8666707</td>\n",
       "      <td>2016-01-15</td>\n",
       "      <td>f</td>\n",
       "      <td>NaN</td>\n",
       "    </tr>\n",
       "    <tr>\n",
       "      <td>750902</td>\n",
       "      <td>3604931</td>\n",
       "      <td>2016-04-10</td>\n",
       "      <td>t</td>\n",
       "      <td>$495.00</td>\n",
       "    </tr>\n",
       "  </tbody>\n",
       "</table>\n",
       "</div>"
      ],
      "text/plain": [
       "        listing_id        date available    price\n",
       "226311     8666707  2016-01-15         f      NaN\n",
       "750902     3604931  2016-04-10         t  $495.00"
      ]
     },
     "execution_count": 129,
     "metadata": {},
     "output_type": "execute_result"
    }
   ],
   "source": [
    "calendar.sample(2,random_state=42)"
   ]
  },
  {
   "cell_type": "code",
   "execution_count": 130,
   "metadata": {},
=======
   "execution_count": 121,
   "metadata": {
    "collapsed": true
   },
>>>>>>> c1795c19fc1ac214015ba52bab0b4ed6dcf53448
   "outputs": [],
   "source": [
    "def str_obj_to_number( str_obj):\n",
    "    number = float( str(str_obj).replace(',', '').split('$')[-1])\n",
    "    return number\n",
    "\n",
    "def booleans_to_number( s):\n",
    "    if s == 'f':\n",
    "        return 0\n",
    "    elif s == 't':\n",
    "        return 1\n",
    "    return None"
   ]
  },
  {
   "cell_type": "code",
<<<<<<< HEAD
   "execution_count": 131,
   "metadata": {},
=======
   "execution_count": 122,
   "metadata": {
    "collapsed": false
   },
>>>>>>> c1795c19fc1ac214015ba52bab0b4ed6dcf53448
   "outputs": [
    {
     "name": "stdout",
     "output_type": "stream",
     "text": [
      "Index(['listing_id', 'date', 'available', 'price'], dtype='object')\n",
      "(1393570, 4)\n",
      "listing_id     int64\n",
      "date          object\n",
      "available     object\n",
      "price         object\n",
      "dtype: object\n"
     ]
    }
   ],
   "source": [
    "print(calendar.columns)\n",
    "print(calendar.shape)\n",
    "print(calendar.dtypes)"
   ]
  },
  {
   "cell_type": "markdown",
   "metadata": {},
   "source": [
    "###### transfer calendar's price,available params's data type to numeric type"
   ]
  },
  {
   "cell_type": "code",
<<<<<<< HEAD
   "execution_count": 132,
=======
   "execution_count": 123,
>>>>>>> c1795c19fc1ac214015ba52bab0b4ed6dcf53448
   "metadata": {
    "collapsed": false,
    "scrolled": true
   },
   "outputs": [
    {
     "name": "stdout",
     "output_type": "stream",
     "text": [
      "calendar.price dtype is :float64\n",
      "calendar.available dtype is :int64\n",
      "calendar:shape: (1393570, 4)\n",
      "calendar:price not null count: 934542\n"
     ]
<<<<<<< HEAD
=======
    },
    {
     "data": {
      "text/plain": [
       "934542"
      ]
     },
     "execution_count": 123,
     "metadata": {},
     "output_type": "execute_result"
>>>>>>> c1795c19fc1ac214015ba52bab0b4ed6dcf53448
    }
   ],
   "source": [
    "\n",
    "calendar['price'] = calendar['price'].apply(str_obj_to_number)\n",
    "calendar['available'] = calendar['available'].apply(booleans_to_number)\n",
    "print(\"calendar.price dtype is :{}\".format(calendar['price'].dtype))\n",
    "print(\"calendar.available dtype is :{}\".format(calendar['available'].dtype))\n",
    "#calendar[calendar['listing_id'] == 8666707 & calendar['price'].notnull() ]\n",
    "print(\"calendar:shape: {}\".format(calendar.shape))\n",
    "print(\"calendar:price not null count: {}\".format(calendar['price'].notnull().sum()))\n"
   ]
  },
  {
   "cell_type": "code",
<<<<<<< HEAD
   "execution_count": 133,
=======
   "execution_count": 124,
>>>>>>> c1795c19fc1ac214015ba52bab0b4ed6dcf53448
   "metadata": {
    "collapsed": false,
    "scrolled": true
   },
   "outputs": [
    {
     "name": "stdout",
     "output_type": "stream",
     "text": [
      "(3818,)\n",
      "count    3818.0\n",
      "mean      365.0\n",
      "std         0.0\n",
      "min       365.0\n",
      "25%       365.0\n",
      "50%       365.0\n",
      "75%       365.0\n",
      "max       365.0\n",
      "Name: listing_id, dtype: float64\n"
     ]
    }
   ],
   "source": [
    "calendar_listing_id_list = calendar['listing_id'].value_counts()\n",
    "print(calendar_listing_id_list.shape)\n",
    "print(calendar_listing_id_list.describe())"
   ]
  },
  {
   "cell_type": "markdown",
   "metadata": {},
   "source": [
    "###### we can get some info from calendar data :\n",
    "- there are 3818 listing ids in Calendar data\n",
    "- every listing ids have 365 days's record\n",
    "- some listing ids are NOT available all year，some are available all year"
   ]
  },
  {
   "cell_type": "code",
<<<<<<< HEAD
   "execution_count": 134,
   "metadata": {},
   "outputs": [],
   "source": [
    "available_days = {}\n",
    "available_days['listing_id'] = []\n",
    "available_days['days'] = []"
=======
   "execution_count": 125,
   "metadata": {
    "collapsed": false
   },
   "outputs": [
    {
     "name": "stdout",
     "output_type": "stream",
     "text": [
      "        listing_id        date  available  price\n",
      "832565      777159  2016-01-04          0    NaN\n",
      "832566      777159  2016-01-05          0    NaN\n",
      "832567      777159  2016-01-06          0    NaN\n",
      "832568      777159  2016-01-07          0    NaN\n",
      "832569      777159  2016-01-08          0    NaN\n",
      "832570      777159  2016-01-09          0    NaN\n",
      "832571      777159  2016-01-10          0    NaN\n",
      "832572      777159  2016-01-11          0    NaN\n",
      "832573      777159  2016-01-12          0    NaN\n",
      "832574      777159  2016-01-13          0    NaN\n",
      "832575      777159  2016-01-14          0    NaN\n",
      "832576      777159  2016-01-15          0    NaN\n",
      "832577      777159  2016-01-16          0    NaN\n",
      "832578      777159  2016-01-17          0    NaN\n",
      "832579      777159  2016-01-18          0    NaN\n",
      "832580      777159  2016-01-19          0    NaN\n",
      "832581      777159  2016-01-20          0    NaN\n",
      "832582      777159  2016-01-21          0    NaN\n",
      "832583      777159  2016-01-22          0    NaN\n",
      "832584      777159  2016-01-23          0    NaN\n",
      "832585      777159  2016-01-24          0    NaN\n",
      "832586      777159  2016-01-25          0    NaN\n",
      "832587      777159  2016-01-26          0    NaN\n",
      "832588      777159  2016-01-27          0    NaN\n",
      "832589      777159  2016-01-28          0    NaN\n",
      "832590      777159  2016-01-29          0    NaN\n",
      "832591      777159  2016-01-30          0    NaN\n",
      "832592      777159  2016-01-31          0    NaN\n",
      "832593      777159  2016-02-01          0    NaN\n",
      "832594      777159  2016-02-02          0    NaN\n",
      "...            ...         ...        ...    ...\n",
      "832900      777159  2016-12-04          0    NaN\n",
      "832901      777159  2016-12-05          0    NaN\n",
      "832902      777159  2016-12-06          0    NaN\n",
      "832903      777159  2016-12-07          0    NaN\n",
      "832904      777159  2016-12-08          0    NaN\n",
      "832905      777159  2016-12-09          0    NaN\n",
      "832906      777159  2016-12-10          0    NaN\n",
      "832907      777159  2016-12-11          0    NaN\n",
      "832908      777159  2016-12-12          0    NaN\n",
      "832909      777159  2016-12-13          0    NaN\n",
      "832910      777159  2016-12-14          0    NaN\n",
      "832911      777159  2016-12-15          0    NaN\n",
      "832912      777159  2016-12-16          0    NaN\n",
      "832913      777159  2016-12-17          0    NaN\n",
      "832914      777159  2016-12-18          0    NaN\n",
      "832915      777159  2016-12-19          0    NaN\n",
      "832916      777159  2016-12-20          0    NaN\n",
      "832917      777159  2016-12-21          0    NaN\n",
      "832918      777159  2016-12-22          0    NaN\n",
      "832919      777159  2016-12-23          0    NaN\n",
      "832920      777159  2016-12-24          0    NaN\n",
      "832921      777159  2016-12-25          0    NaN\n",
      "832922      777159  2016-12-26          0    NaN\n",
      "832923      777159  2016-12-27          0    NaN\n",
      "832924      777159  2016-12-28          0    NaN\n",
      "832925      777159  2016-12-29          0    NaN\n",
      "832926      777159  2016-12-30          0    NaN\n",
      "832927      777159  2016-12-31          0    NaN\n",
      "832928      777159  2017-01-01          0    NaN\n",
      "832929      777159  2017-01-02          0    NaN\n",
      "\n",
      "[365 rows x 4 columns]\n",
      "        listing_id        date  available  price\n",
      "765405      611500  2016-01-04          1  219.0\n",
      "765406      611500  2016-01-05          1  219.0\n",
      "765407      611500  2016-01-06          1  219.0\n",
      "765408      611500  2016-01-07          1  219.0\n",
      "765409      611500  2016-01-08          1  249.0\n",
      "765410      611500  2016-01-09          1  249.0\n",
      "765411      611500  2016-01-10          1  219.0\n",
      "765412      611500  2016-01-11          1  219.0\n",
      "765413      611500  2016-01-12          1  219.0\n",
      "765414      611500  2016-01-13          1  219.0\n",
      "765415      611500  2016-01-14          1  219.0\n",
      "765416      611500  2016-01-15          1  249.0\n",
      "765417      611500  2016-01-16          1  249.0\n",
      "765418      611500  2016-01-17          1  219.0\n",
      "765419      611500  2016-01-18          1  219.0\n",
      "765420      611500  2016-01-19          1  219.0\n",
      "765421      611500  2016-01-20          1  219.0\n",
      "765422      611500  2016-01-21          1  219.0\n",
      "765423      611500  2016-01-22          1  249.0\n",
      "765424      611500  2016-01-23          1  249.0\n",
      "765425      611500  2016-01-24          1  219.0\n",
      "765426      611500  2016-01-25          1  219.0\n",
      "765427      611500  2016-01-26          1  219.0\n",
      "765428      611500  2016-01-27          1  219.0\n",
      "765429      611500  2016-01-28          1  219.0\n",
      "765430      611500  2016-01-29          1  249.0\n",
      "765431      611500  2016-01-30          1  249.0\n",
      "765432      611500  2016-01-31          1  219.0\n",
      "765433      611500  2016-02-01          1  219.0\n",
      "765434      611500  2016-02-02          1  219.0\n",
      "...            ...         ...        ...    ...\n",
      "765740      611500  2016-12-04          1  219.0\n",
      "765741      611500  2016-12-05          1  219.0\n",
      "765742      611500  2016-12-06          1  219.0\n",
      "765743      611500  2016-12-07          1  219.0\n",
      "765744      611500  2016-12-08          1  219.0\n",
      "765745      611500  2016-12-09          1  249.0\n",
      "765746      611500  2016-12-10          1  249.0\n",
      "765747      611500  2016-12-11          1  219.0\n",
      "765748      611500  2016-12-12          1  219.0\n",
      "765749      611500  2016-12-13          1  219.0\n",
      "765750      611500  2016-12-14          1  219.0\n",
      "765751      611500  2016-12-15          1  219.0\n",
      "765752      611500  2016-12-16          1  249.0\n",
      "765753      611500  2016-12-17          1  249.0\n",
      "765754      611500  2016-12-18          1  219.0\n",
      "765755      611500  2016-12-19          1  219.0\n",
      "765756      611500  2016-12-20          1  219.0\n",
      "765757      611500  2016-12-21          1  219.0\n",
      "765758      611500  2016-12-22          1  219.0\n",
      "765759      611500  2016-12-23          1  249.0\n",
      "765760      611500  2016-12-24          1  249.0\n",
      "765761      611500  2016-12-25          1  219.0\n",
      "765762      611500  2016-12-26          1  219.0\n",
      "765763      611500  2016-12-27          1  219.0\n",
      "765764      611500  2016-12-28          1  219.0\n",
      "765765      611500  2016-12-29          1  219.0\n",
      "765766      611500  2016-12-30          1  249.0\n",
      "765767      611500  2016-12-31          1  249.0\n",
      "765768      611500  2017-01-01          1  219.0\n",
      "765769      611500  2017-01-02          1  219.0\n",
      "\n",
      "[365 rows x 4 columns]\n"
     ]
    },
    {
     "data": {
      "text/plain": [
       "(3818,)"
      ]
     },
     "execution_count": 125,
     "metadata": {},
     "output_type": "execute_result"
    }
   ],
   "source": [
    "print(calendar[calendar['listing_id']== 777159 ])\n",
    "print(calendar[calendar['listing_id']== 611500 ])\n",
    "calendar['listing_id'].unique().shape"
>>>>>>> c1795c19fc1ac214015ba52bab0b4ed6dcf53448
   ]
  },
  {
   "cell_type": "code",
<<<<<<< HEAD
   "execution_count": 135,
   "metadata": {},
   "outputs": [],
   "source": [
    "for i in range(0, calendar_listing_id_list.shape[0]):\n",
    "    sample = calendar.loc[calendar['listing_id'] == calendar_listing_id_list.index[i] ]\n",
    "    available_days['listing_id'].append(calendar_listing_id_list.index[i])\n",
    "    available_days['days'].append(sample['price'].notnull().sum())\n",
    "    "
=======
   "execution_count": 126,
   "metadata": {
    "collapsed": true
   },
   "outputs": [],
   "source": [
    "available_days = {}\n",
    "available_days['listing_id'] = []\n",
    "available_days['days'] = []"
>>>>>>> c1795c19fc1ac214015ba52bab0b4ed6dcf53448
   ]
  },
  {
   "cell_type": "code",
<<<<<<< HEAD
   "execution_count": 136,
   "metadata": {},
   "outputs": [
    {
     "name": "stdout",
     "output_type": "stream",
     "text": [
      "244.7726558407543\n"
     ]
    }
   ],
   "source": [
    "df1 = pd.DataFrame(available_days )\n",
    "df1 = df1.sort_values('days',axis = 0,ascending = True)\n",
    "data = df1['days']\n",
    "mean_days = df1['days'].mean()\n",
    "print(mean_days)"
   ]
  },
  {
   "cell_type": "markdown",
   "metadata": {},
   "source": [
    "###### About available days\n",
    "There are about 245 days available for rent, about 120 days are rented.\n"
=======
   "execution_count": 127,
   "metadata": {
    "collapsed": false
   },
   "outputs": [],
   "source": [
    "for i in range(0, calendar_listing_id_list.shape[0]):\n",
    "    sample = calendar.loc[calendar['listing_id'] == calendar_listing_id_list.index[i] ]\n",
    "    available_days['listing_id'].append(calendar_listing_id_list.index[i])\n",
    "    available_days['days'].append(sample['price'].notnull().sum())\n",
    "    "
>>>>>>> c1795c19fc1ac214015ba52bab0b4ed6dcf53448
   ]
  },
  {
   "cell_type": "code",
<<<<<<< HEAD
   "execution_count": 137,
=======
   "execution_count": 128,
   "metadata": {
    "collapsed": false
   },
   "outputs": [
    {
     "name": "stdout",
     "output_type": "stream",
     "text": [
      "244.7726558407543\n"
     ]
    }
   ],
   "source": [
    "df1 = pd.DataFrame(available_days )\n",
    "df1 = df1.sort_values('days',axis = 0,ascending = True)\n",
    "data = df1['days']\n",
    "mean_days = df1['days'].mean()\n",
    "print(mean_days)"
   ]
  },
  {
   "cell_type": "markdown",
>>>>>>> c1795c19fc1ac214015ba52bab0b4ed6dcf53448
   "metadata": {},
   "source": [
    "###### About available days\n",
    "There are about 245 days available for rent, about 120 days are rented.\n"
   ]
  },
  {
   "cell_type": "code",
   "execution_count": 129,
   "metadata": {
    "collapsed": false
   },
   "outputs": [
    {
     "data": {
<<<<<<< HEAD
      "image/png": "iVBORw0KGgoAAAANSUhEUgAAAYMAAAEICAYAAAC9E5gJAAAABHNCSVQICAgIfAhkiAAAAAlwSFlzAAALEgAACxIB0t1+/AAAADh0RVh0U29mdHdhcmUAbWF0cGxvdGxpYiB2ZXJzaW9uMy4xLjEsIGh0dHA6Ly9tYXRwbG90bGliLm9yZy8QZhcZAAAbz0lEQVR4nO3df7RcZX3v8feHEBIEJAEOGJKUAxqtwC2BHoFWpSlgIeBq0OUPsEoUbLCAFyxag95lwTartNVCuRex4YIkKkL8wSU3gkL5IXIrwRMMMTEFDiE2h8TkAOGXFmrC9/6xnyE7J3POzDkze2bOzOe11qzZ8+xn7/nOnpz5zPPsmYkiAjMz62y7NbsAMzNrPoeBmZk5DMzMzGFgZmY4DMzMDIeBmZnhMLBRknSHpLlp+aOSHqhyu8skfWOY9eslnVynGkPSm+qxr7FE0ixJ/c2uw8YWh4GNSkTMjohFza6jlUm6V9KApBckPSJpzqD1n5T0ZFrfK+kduXV/nLZ/XtL6MvueKenHaX2/pC804PF0ZLh2CoeBWXEuAqZExOuBecA3JE0BkHQccAXwPmBf4HrgVknj0ra/Bm4APjPEvm8C7gf2A/4I+AtJf1rUA6mVpN2bXYMNz2HQ5iTNl/SEpBcl/ULSe1L7BEnPSToy17dL0n9KOlDSZEnL0jvbrWl5Wq7vfZI+PsR9/rOkDekd7wpJ7xzUZaKkW1JND0s6aoj97Jar/xlJSyTtN8xj/YykTZI2Sjpn0LrTJf0s1bRB0mW5dd+X9MlB/VdJOkOZKyVtSe/CV+WP2XAiYlVEbCvdBMYD09PtbmBNRKyI7GcAFgMHAAembR+KiK8D64bYfTfwzYjYHhFPAA8ARwx6DJekujdJ+liufV9Ji9Nz+0tJ/0PSbmndmyT9KD3WpyXdktrvT5s/IuklSR9M7e+WtDL9W/o3Sb+Xu5/1kj4raRXwawdCa3MYtL8ngHeSvfu8nPTuNCJeAb4HnJXr+wHgRxGxhezfxteAQ4DfAf4T+F9V3udPgZlk71pvAr4taWJu/Rzg27n1/0fS+DL7+e/AGWTvfA8GtgLXlLtDSacCnwbeBcwABp93+DVwNjAJOJ3snfQZad0i4MO5fR0FTAVuB/4EOAF4c9r2g8AzlQ5Abl/LJL0MLAfuA3rTqjuAcZKOS6OBc4CVwK+q3PVVwNmSxkt6C/AHwL/m1r+B7DmfCpwLXCNpclr3P9O6w8iO7dlAKSz+BrgTmAxMS32JiBPS+qMiYu+IuEXSMWSjl/OA/YF/AZZKmpCr4yyy4z0pF4zWiiLClw66kL3gzEnLJwPrcuv+H3D2ENvNBLbmbt8HfDwtfxR4YJj73Er2IgJwGfBgbt1uwCbgnen2euDktLwWOCnXdwrwW2D3MvdxA3BF7vabyd6Nv2mImq4CrkzLE4BngRnp9peAr6TlE4HHgOOB3UZ5zMcDs4FP5doEfC49nm3A08Dbymx7MrC+TPsfAn1p2wAuz62bRRbeu+fatqTHMA54BTg8t+484L60vBhYCEwrc587HU/gWuBvBvV5FPij3HN5TrP/zftS3cUjgzYn6ezcMP454Eiy6QiAe4A907vTQ8he8G9N271O0r+kaYQXyOanJ+XmtIe7z0skrU1TDc+RvQs9INdlQ2khIl4F+sne+Q92CNk8eqn2tcB24KAyfQ/O7xf45aCajtOOE7rPA58o1RTZKGkJ8OE0XXIW8PW07h6yEdE1wGZJCyW9vtIxyIuI30bEHcApuXn9j5ONBo4A9iAbmSyTVO447CRNlf0A+CIwkWzq6RRJ5+e6PRM7vxP/DbB3esx7sPPx+SXZCALgr8iC6iFJawZPtw1yCHBJ6flJz9F0dn4uN5Tf1FqNw6CNpRf464ALgf0jYhKwmuyPvfRCvITsxe9DwLKIeDFtfgnwFuC4yE6AlqYJVOE+3wl8lmzKaXK6z+cHbTc91383sumIjWV2twGYHRGTcpeJEfFUmb6b8vslm9rKuwlYCkyPiH2Brw6qaRHwZ8BJwG8i4ielFRFxdUT8PtkL95sZ+qRuJbsDb0zLRwH/NyIei4hXI+IH6TH8YRX7OQzYHhGLI2JbRPQDNwOnVbHt02SjkUNybb8DPAUQEb+KiD+PiIPJRgxf0dCfINoALBj0/LwuIr6V6+OfRR4jHAbtbS+yP8YBgHQScfDJz5vI5sH/LC2X7EM21fBceif611Xe5z5kUxcDwO7KPvI4+J3070t6bzqheDHZtMWDZfb1VWBBCrXSCe45ZfpBFmoflXS4pNeVqXcf4NmIeFnSsWTh95r04v8q8GXSqCDd59vSqGI82XmHl8lGJ6XvV6wvV4yk35U0W9KeaV7/w2SB+qPU5afA6ZIOSyep30UWNKvT9rul8yzjs5uaKGmPtO1jqe1Dqd8byJ7DR4Y4NvnHuT0dqwWS9knH9i+Bb6T7fb92fFBgK9m/n+3p9mayICq5DvhEOj6StJeyE/X7VKrDWo/DoI1FxC/IXtx+QvaH/N/Izgvk+ywne5E7mOykZslVwJ5k7yQfJJuWqMYP034eI5t+eJldpwpuI3vx2gp8BHhvRPy2zL7+mezd/J2SXkx1HFfuTtM0zFVkU1996TrvfOCLaT9fIHtBHGwx2THKfynu9WQvelvT43mG7JwCZCORnY5njsjOj2whC8aLgA9GxMO5+7qZ7NzLC8DVwHkR8e9p/QlkYXw7O07g35ke6wvAe4FPpbpWkoXIgiFqGeyTZM/5OrJPId1Eds4F4G3AckkvkR37iyLiybTuMmBRmhL6QET0An9ONo22ley4f7TKGqzFKMKjODPIzq8A8yLiHRU7Z/3vJHuxXFtsZWbFcxiYkZ0wJxtNfCUiFje7HrNG8zSRdTxJp5BN5Wxm5/MmZh3DIwMzM/PIwMzMss89N90BBxwQ3d3dzS7DzGxMWbFixdMR0VWPfbVEGHR3d9Pb21u5o5mZvUbSLyv3qo6niczMzGFgZmYOAzMzw2FgZmY4DMzMDIeBmZnhMDAzMxwGZmaGw8DMzGiRbyCbmXXP//4ubeuvOJ3u+d9/7Xo4g/uOZptm9W0FHhmYWcOUXhjz16WLNZdHBmZWGL/Ijx0eGZhZTfxuvz14ZGBmFfmFvf1VHBlImijpIUmPSFoj6fLUfqOkJyWtTJeZqV2SrpbUJ2mVpGOKfhBmVh/l3uVbZ6hmZPAKcGJEvCRpPPCApDvSus9ExHcG9Z8NzEiX44Br07WZtSi/6FvFMIjsP0l+Kd0cny7D/cfJc4DFabsHJU2SNCUiNtVcrZnVrNqPPFpnqeoEsqRxklYCW4C7ImJ5WrUgTQVdKWlCapsKbMht3p/aBu9znqReSb0DAwM1PAQzG0r+RK5f/G04VZ1AjojtwExJk4BbJR0JXAr8CtgDWAh8FvgioHK7KLPPhWk7enp6hhtpmNkI+EXfRmNEnyaKiOck3QecGhFfSs2vSPoa8Ol0ux+YnttsGrCx1kLNbGgOAKtVNZ8m6kojAiTtCZwM/LukKalNwBnA6rTJUuDs9Kmi44Hnfb7ArBgOAauXakYGU4BFksaRhceSiFgm6R5JXWTTQiuBT6T+twOnAX3Ab4CP1b9ss85VCoBW+U0baw/VfJpoFXB0mfYTh+gfwAW1l2ZmJR4BWNH8DWSzFuYQsEbxbxOZtSgHgTWSRwZmTTT4BT//O/hmjeQwMGsCv+u3VuMwMGsgh4C1Kp8zMCuQfwrCxgqHgVlBHAA2lniayKzOHAI2FnlkYFZHDgIbqxwGZnXiILCxzNNEZjVyCFg78MjAzMwcBmaj5RGBtROHgZmZOQzMzMxhYDZinh6yduQwMKuSQ8DamT9aalaBQ8A6gcPAbAgOAeskFaeJJE2U9JCkRyStkXR5aj9U0nJJj0u6RdIeqX1Cut2X1ncX+xDM6s9BYJ2mmnMGrwAnRsRRwEzgVEnHA38PXBkRM4CtwLmp/7nA1oh4E3Bl6mc2ZjgIrBNVDIPIvJRujk+XAE4EvpPaFwFnpOU56TZp/UmSVLeKzQrg/3fAOl1VnyaSNE7SSmALcBfwBPBcRGxLXfqBqWl5KrABIK1/Hti/nkWbmVl9VRUGEbE9ImYC04BjgbeW65auy40CYnCDpHmSeiX1DgwMVFuvmZkVYETfM4iI54D7gOOBSZJKn0aaBmxMy/3AdIC0fl/g2TL7WhgRPRHR09XVNbrqzcysLqr5NFGXpElpeU/gZGAtcC/wvtRtLnBbWl6abpPW3xMRu4wMzFqBzxGYZar5nsEUYJGkcWThsSQilkn6BXCzpL8FfgZcn/pfD3xdUh/ZiODMAuo2M7M6qhgGEbEKOLpM+zqy8weD218G3l+X6swK5FGB2Q7+bSLrSA4Cs505DKzjOAjMduUwsI7iIDArz2FgZmYOA+scHhWYDc1hYGZmDgMzM3MYWIfwFJHZ8BwG1vYcBGaVOQysbTkEzKrnMLC24xAwGzmHgZmZOQysvXhUYDY6DgNrGw4Cs9FzGJiZmcPA2oNHBWa1cRjYmOcgMKudw8DMzBwGNrZ5VGBWHw4DMzOrHAaSpku6V9JaSWskXZTaL5P0lKSV6XJabptLJfVJelTSKUU+AOtcHhWY1c/uVfTZBlwSEQ9L2gdYIemutO7KiPhSvrOkw4EzgSOAg4F/lfTmiNhez8LNzKx+Ko4MImJTRDycll8E1gJTh9lkDnBzRLwSEU8CfcCx9SjWzMyKMaJzBpK6gaOB5anpQkmrJN0gaXJqmwpsyG3WT5nwkDRPUq+k3oGBgREXbp3NU0Rm9VV1GEjaG/gucHFEvABcC7wRmAlsAr5c6lpm89ilIWJhRPRERE9XV9eICzczs/pRxC6v07t2ksYDy4AfRsQ/lVnfDSyLiCMlXQoQEX+X1v0QuCwifjLU/nt6eqK3t3dUD2DWrFmj2s7GpgfXPcPxh+3Pg+ueGbZfqU/RfVuplnrV3QmPsRXqfsOHrgBg/RWnD7uv4UhaERE9o95BTjWfJhJwPbA2HwSSpuS6vQdYnZaXAmdKmiDpUGAG8FA9ijUzs2JUHBlIegfwY+DnwKup+XPAWWRTRAGsB86LiE1pm88D55B9EuniiLhjuPuoZWRgnaV7/vdZf8XpFc8ZlPoU3beVaqlX3Z3wGFut7tGq58ig4kdLI+IByp8HuH2YbRYAC2qoy8zMGsjfQLYxwZ8eMiuWw8DMzBwGZmbmMLAxwFNEZsVzGJiZmcPAWptHBWaN4TAwMzOHgbUujwrMGsdhYGZmDgNrTR4VmDWWw8DMzBwGZmbmMLAW5Ckis8ZzGFhLcRCYNYfDwMzMHAZmZuYwsBbiKSKz5nEYmJmZw8DMzKoIA0nTJd0raa2kNZIuSu37SbpL0uPpenJql6SrJfVJWiXpmKIfhJmZ1aaakcE24JKIeCtwPHCBpMOB+cDdETEDuDvdBpgNzEiXecC1da/a2orPFZg1X8UwiIhNEfFwWn4RWAtMBeYAi1K3RcAZaXkOsDgyDwKTJE2pe+VmZlY3IzpnIKkbOBpYDhwUEZsgCwzgwNRtKrAht1l/ahu8r3mSeiX1DgwMjLxyMzOrm6rDQNLewHeBiyPiheG6lmmLXRoiFkZET0T0dHV1VVuGmZkVoKowkDSeLAi+GRHfS82bS9M/6XpLau8Hpuc2nwZsrE+5ZmZWhGo+TSTgemBtRPxTbtVSYG5angvclms/O32q6Hjg+dJ0klmeTxybtY7dq+jzduAjwM8lrUxtnwOuAJZIOhf4D+D9ad3twGlAH/Ab4GN1rdjMzOquYhhExAOUPw8AcFKZ/gFcUGNdZmbWQP4GspmZOQys8XyuwKz1OAzMzMxhYI3lUYFZa3IYWMM4CMxal8PAzMyq+p6B2ah5NGA2NnhkYIVxEJiNHQ4DK4SDwGxscRiYmZnDwOrLIwKzsclhYHXhEDAb2xwGVjMHgdnY5zCwmjgIzNqDw8BGzUFg1j4cBjYqDgKz9uIwsBFzEJi1H4eBjYiDwKw9OQzMzMxhYNXzqMCsfVUMA0k3SNoiaXWu7TJJT0lamS6n5dZdKqlP0qOSTimqcDMzq59qRgY3AqeWab8yImamy+0Akg4HzgSOSNt8RdK4ehVrzeERgVn7qxgGEXE/8GyV+5sD3BwRr0TEk0AfcGwN9ZmZWQPUcs7gQkmr0jTS5NQ2FdiQ69Of2nYhaZ6kXkm9AwMDNZRhRfGIwKxzjDYMrgXeCMwENgFfTu0q0zfK7SAiFkZET0T0dHV1jbIMK4qDwKyzjCoMImJzRGyPiFeB69gxFdQPTM91nQZsrK1EazQHgVnnGVUYSJqSu/keoPRJo6XAmZImSDoUmAE8VFuJ1kgOArPOtHulDpK+BcwCDpDUD/w1MEvSTLIpoPXAeQARsUbSEuAXwDbggojYXkzpVm8OArPOVTEMIuKsMs3XD9N/AbCglqKs8RwEZp3N30A2MzOHgXlUYGYOAzMzw2HQ8TwqMDNwGJiZGQ4DMzPDYdCxPD1kZnkOAzMzcxh0Go8IzKwch4GZmVX+OQprDx4RmNlwPDIwMzOHQSfwqMDMKnEYtDkHgZlVw2FgZmYOg3bmUYGZVcth0KYcBGY2Eg4DMzNzGLQjjwrMbKQqhoGkGyRtkbQ617afpLskPZ6uJ6d2SbpaUp+kVZKOKbJ4MzOrj2pGBjcCpw5qmw/cHREzgLvTbYDZwIx0mQdcW58yrRoeEZjZaFUMg4i4H3h2UPMcYFFaXgSckWtfHJkHgUmSptSrWDMzK8ZozxkcFBGbANL1gal9KrAh168/te1C0jxJvZJ6BwYGRlmGmZnVQ71PIKtMW5TrGBELI6InInq6urrqXIaZmY3EaMNgc2n6J11vSe39wPRcv2nAxtGXZ9XwuQIzq9Vow2ApMDctzwVuy7WfnT5VdDzwfGk6yczMWlc1Hy39FvAT4C2S+iWdC1wBvEvS48C70m2A24F1QB9wHXB+IVUb4BGBmdVPxf/cJiLOGmLVSWX6BnBBrUVZZQ4CM6sn/09nLc4v+mbWCP45ihblEDCzRnIYtBiHgJk1g6eJWoRDwMyayWHQZA4BM2sFniZqIgeBmbUKh4GZmTkMmsWjAjNrJQ6DJnAQmFmrcRg0kEPAzFqVw8DMzBwGjeARgZm1OodBwRwEZjYWOAwK5CAws7HCYVAQB4GZjSUOAzMz828T1ZtHBGY2FnlkUEcOAjMbqxwGdeIgMLOxrKZpIknrgReB7cC2iOiRtB9wC9ANrAc+EBFbayvTzMyKVI+RwR9HxMyI6Em35wN3R8QM4O50u215RGBm7aCIaaI5wKK0vAg4o4D7MDOzOqo1DAK4U9IKSfNS20ERsQkgXR9YbkNJ8yT1SuodGBiosQwzM6tFrWHw9og4BpgNXCDphGo3jIiFEdETET1dXV01ltF4nh4ys3ZSUxhExMZ0vQW4FTgW2CxpCkC63lJrka3GQWBm7WbUYSBpL0n7lJaBPwFWA0uBuanbXOC2WotsJQ4CM2tHtXy09CDgVkml/dwUET+Q9FNgiaRzgf8A3l97ma3BQWBm7WrUYRAR64CjyrQ/A5xUS1FmZtZY/gaymZk5DKrlKSIza2cOgyo4CMys3TkMzMzMYVCJRwVm1gkcBsNwEJhZp3AYmJmZw6AcjwjMrNM4DMzMzGFgZmYOAzMzw2GwE58rMLNO5TAwMzOHAXhEYGbW8WHgIDAz6/AwcBCYmWU6OgzMzCzTsWHgUYGZ2Q4dGwZmZrZDR4aBRwVmZjsrLAwknSrpUUl9kuYXdT8j5SAwM9tVIWEgaRxwDTAbOBw4S9LhRdzXSDgIzMzKK2pkcCzQFxHrIuK/gJuBOQXd17BKAeAgMDMbmiKi/juV3gecGhEfT7c/AhwXERfm+swD5qWbbwEeHeXdHQA8XUO5RXN9tXF9tXF9o9fKtUFW314R0VWPne1ej52UoTJtO6VORCwEFtZ8R1JvRPTUup+iuL7auL7auL7Ra+Xa4LX6uuu1v6KmifqB6bnb04CNBd2XmZnVqKgw+CkwQ9KhkvYAzgSWFnRfZmZWo0KmiSJim6QLgR8C44AbImJNEfdFHaaaCub6auP6auP6Rq+Va4M611fICWQzMxtbOvIbyGZmtjOHgZmZje0waJWfvJC0XtLPJa2U1Jva9pN0l6TH0/Xk1C5JV6eaV0k6poB6bpC0RdLqXNuI65E0N/V/XNLcguu7TNJT6RiulHRabt2lqb5HJZ2Sa6/78y9puqR7Ja2VtEbSRam9JY7fMPW1yvGbKOkhSY+k+i5P7YdKWp6OxS3pgyVImpBu96X13ZXqLqi+GyU9mTt+M1N7M/4+xkn6maRl6XZjjl1EjMkL2YnpJ4DDgD2AR4DDm1TLeuCAQW3/AMxPy/OBv0/LpwF3kH0X43hgeQH1nAAcA6webT3AfsC6dD05LU8usL7LgE+X6Xt4em4nAIem53xcUc8/MAU4Ji3vAzyWamiJ4zdMfa1y/ATsnZbHA8vTcVkCnJnavwr8RVo+H/hqWj4TuGW4ugus70bgfWX6N+Pv4y+Bm4Bl6XZDjt1YHhm0zE9eDGEOsCgtLwLOyLUvjsyDwCRJU+p5xxFxP/BsjfWcAtwVEc9GxFbgLuDUAusbyhzg5oh4JSKeBPrInvtCnv+I2BQRD6flF4G1wFRa5PgNU99QGn38IiJeSjfHp0sAJwLfSe2Dj1/puH4HOEmShqm7qPqG0tDnV9I04HTgf6fbokHHbiyHwVRgQ+52P8P/URQpgDslrVD2MxsAB0XEJsj+gIEDU3uz6h5pPc2o88I0FL+hNA3TzPrSsPtosnePLXf8BtUHLXL80jTHSmAL2YvkE8BzEbGtzH29Vkda/zywfyPri4jS8VuQjt+VkiYMrm9QHUXVdxXwV8Cr6fb+NOjYjeUwqPiTFw309og4huxXWi+QdMIwfVupbhi6nkbXeS3wRmAmsAn4cmpvSn2S9ga+C1wcES8M13WIOhpdX8scv4jYHhEzyX554FjgrcPcV9Prk3QkcCnwu8DbyKZ+Ptvo+iS9G9gSESvyzcPcT11rG8th0DI/eRERG9P1FuBWsj+AzaXpn3S9JXVvVt0jraehdUbE5vRH+ipwHTuGtQ2vT9J4shfab0bE91Jzyxy/cvW10vEriYjngPvI5tonSSp9yTV/X6/VkdbvSzaF2Mj6Tk3TbxERrwBfoznH7+3An0paTzZtdyLZSKExx64eJzyacSH79vQ6shMkpRNgRzShjr2AfXLL/0Y2d/iP7HzC8R/S8unsfELqoYLq6mbnE7Qjqofs3dGTZCfHJqfl/Qqsb0pu+VNkc54AR7DzybB1ZCc/C3n+03FYDFw1qL0ljt8w9bXK8esCJqXlPYEfA+8Gvs3OJ0HPT8sXsPNJ0CXD1V1gfVNyx/cq4Iom/33MYscJ5IYcu7q+ADX6Qnam/zGyOcnPN6mGw9KBfwRYU6qDbO7ubuDxdL1f7h/bNanmnwM9BdT0LbKpgt+SvUs4dzT1AOeQnXzqAz5WcH1fT/e/iux3rPIvbp9P9T0KzC7y+QfeQTakXgWsTJfTWuX4DVNfqxy/3wN+lupYDXwh93fyUDoW3wYmpPaJ6XZfWn9YpboLqu+edPxWA99gxyeOGv73kfY9ix1h0JBj55+jMDOzMX3OwMzM6sRhYGZmDgMzM3MYmJkZDgMzM8NhYGZmOAzMzAz4/+2TgIG/H5PCAAAAAElFTkSuQmCC\n",
      "text/plain": [
       "<Figure size 432x288 with 1 Axes>"
      ]
     },
     "metadata": {
      "needs_background": "light"
     },
=======
      "image/png": "iVBORw0KGgoAAAANSUhEUgAAAYMAAAEICAYAAAC9E5gJAAAABHNCSVQICAgIfAhkiAAAAAlwSFlz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\n",
      "text/plain": [
       "<matplotlib.figure.Figure at 0x14ab970c668>"
      ]
     },
     "metadata": {},
>>>>>>> c1795c19fc1ac214015ba52bab0b4ed6dcf53448
     "output_type": "display_data"
    }
   ],
   "source": [
    "plt.bar(range(len(data)), data)\n",
    "plt.title(\"available days, 3818hoster\")\n",
    "y=mean_days\n",
    "plt.hlines(y, 0, 3800)\n",
    "plt.show()"
   ]
  },
  {
   "cell_type": "code",
<<<<<<< HEAD
   "execution_count": 138,
=======
   "execution_count": 130,
>>>>>>> c1795c19fc1ac214015ba52bab0b4ed6dcf53448
   "metadata": {
    "collapsed": false,
    "scrolled": true
   },
   "outputs": [
    {
     "name": "stdout",
     "output_type": "stream",
     "text": [
      "Index(['listing_id', 'id', 'date', 'reviewer_id', 'reviewer_name', 'comments'], dtype='object')\n",
      "(84849, 6)\n",
      "listing_id        int64\n",
      "id                int64\n",
      "date             object\n",
      "reviewer_id       int64\n",
      "reviewer_name    object\n",
      "comments         object\n",
      "dtype: object\n"
     ]
    }
   ],
   "source": [
    "print(reviews.columns)\n",
    "print(reviews.shape)\n",
    "print(reviews.dtypes)"
   ]
  },
  {
   "cell_type": "code",
<<<<<<< HEAD
   "execution_count": 139,
=======
   "execution_count": 131,
>>>>>>> c1795c19fc1ac214015ba52bab0b4ed6dcf53448
   "metadata": {
    "collapsed": false,
    "scrolled": true
   },
   "outputs": [
    {
     "name": "stdout",
     "output_type": "stream",
     "text": [
<<<<<<< HEAD
      "True\n",
      "3191\n"
=======
      "True\n"
>>>>>>> c1795c19fc1ac214015ba52bab0b4ed6dcf53448
     ]
    }
   ],
   "source": [
    "\n",
    "def find_listing_id_in_calendars( raw ):\n",
    "    if raw.listing_id in calendar_listing_id_list.index:\n",
    "        return True\n",
    "    else:\n",
    "        return False\n",
<<<<<<< HEAD
    "    \n",
    "finding_list = reviews.apply(find_listing_id_in_calendars, axis = 1)\n",
    "\n",
    "reviewer_count = reviews.listing_id.unique()\n",
    "print( finding_list.value_counts().sum() == reviews.shape[0])\n",
    "print( len(reviewer_count))"
=======
    "finding_list = reviews.apply(find_listing_id, axis = 1)\n",
    "\n",
    "reviewer_count = reviews.listing_id.unique()\n",
    "print( finding_list.value_counts().sum() == reviews.shape[0])"
>>>>>>> c1795c19fc1ac214015ba52bab0b4ed6dcf53448
   ]
  },
  {
   "cell_type": "markdown",
   "metadata": {},
   "source": [
    "##### Are all reviews data's listing ids in calendar data's listing ids? Answer is : True\n",
<<<<<<< HEAD
    "all reviews data's listing_id is in calendar\n",
    "\n",
    "reviewer dataframe's listing id size is 3191"
=======
    "all reviews data's listing_id is in calendar"
>>>>>>> c1795c19fc1ac214015ba52bab0b4ed6dcf53448
   ]
  },
  {
   "cell_type": "code",
<<<<<<< HEAD
   "execution_count": 140,
   "metadata": {},
=======
   "execution_count": 132,
   "metadata": {
    "collapsed": false
   },
>>>>>>> c1795c19fc1ac214015ba52bab0b4ed6dcf53448
   "outputs": [
    {
     "name": "stdout",
     "output_type": "stream",
     "text": [
      "3818\n"
     ]
    }
   ],
   "source": [
    "listing_data_id_list = listings['id'].unique()\n",
    "print(len(listing_data_id_list))"
   ]
  },
  {
   "cell_type": "code",
<<<<<<< HEAD
   "execution_count": 141,
   "metadata": {},
=======
   "execution_count": 133,
   "metadata": {
    "collapsed": false
   },
>>>>>>> c1795c19fc1ac214015ba52bab0b4ed6dcf53448
   "outputs": [
    {
     "name": "stdout",
     "output_type": "stream",
     "text": [
      "0.8357778941854374\n"
     ]
    }
   ],
   "source": [
    "\n",
    "reviews_listing_id_list = reviews['listing_id'].value_counts()\n",
    "def find_listing_id_2( raw ):\n",
    "    if raw.id in reviews_listing_id_list.index:\n",
    "        return True\n",
    "    else:\n",
    "        return False\n",
    "finding_list = listings.apply(find_listing_id_2, axis = 1)\n",
    "finding_list.describe()\n",
    "finding_list.value_counts()\n",
    "percentage_of_review = 3191*1.0/3818\n",
    "print(percentage_of_review)"
   ]
  },
  {
   "cell_type": "markdown",
   "metadata": {},
   "source": [
    "##### Percentage of review/listing\n",
    "percentage of review/listing = 83.6%\n",
    "\n",
<<<<<<< HEAD
    "There are 83.6% tenants are commented on the review list"
=======
    "There are 83.6% tenants reviewed on the rental"
>>>>>>> c1795c19fc1ac214015ba52bab0b4ed6dcf53448
   ]
  },
  {
   "cell_type": "code",
<<<<<<< HEAD
   "execution_count": 142,
   "metadata": {},
=======
   "execution_count": 134,
   "metadata": {
    "collapsed": false
   },
>>>>>>> c1795c19fc1ac214015ba52bab0b4ed6dcf53448
   "outputs": [
    {
     "name": "stdout",
     "output_type": "stream",
     "text": [
      "   listing_id  days\n",
      "0    10310373   290\n",
      "1     9280767   144\n",
      "2     9910189   365\n",
      "3     8989807   352\n",
      "4     9497431   351\n"
     ]
    }
   ],
   "source": [
    "reviews_listing_id_list = reviews['listing_id'].value_counts()\n",
    "missed_listing_id_list = list()\n",
    "for i in range(0,calendar_listing_id_list.shape[0] ):\n",
    "    if calendar_listing_id_list.index[i] not in reviews_listing_id_list.index:\n",
    "        missed_listing_id_list.append(calendar_listing_id_list.index[i] )\n",
    "\n",
    "missed_listing_id_df = pd.DataFrame({\"listing_id\":missed_listing_id_list} ,columns=['listing_id'], dtype=np.int64)\n",
    "\n",
    "missed_listing_id_df['days'] = [0 for i in range(len(missed_listing_id_df))]\n",
    "\n",
    "for i in range(0,missed_listing_id_df.shape[0]):\n",
    "    x = missed_listing_id_df['listing_id'][i]\n",
    "    missed_listing_id_df['days'][i] = available_days['days'][i]\n",
    "    \n",
    "print(missed_listing_id_df.head())"
<<<<<<< HEAD
   ]
  },
  {
   "cell_type": "code",
   "execution_count": 143,
   "metadata": {},
   "outputs": [
    {
     "name": "stdout",
     "output_type": "stream",
     "text": [
      "246.23923444976077\n"
     ]
    },
    {
     "data": {
      "image/png": "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\n",
      "text/plain": [
       "<Figure size 432x288 with 1 Axes>"
      ]
     },
     "metadata": {
      "needs_background": "light"
     },
     "output_type": "display_data"
    }
   ],
   "source": [
    "\n",
    "missed_listing_id_df = missed_listing_id_df.sort_values('days',axis = 0,ascending = True)\n",
    "data = missed_listing_id_df['days']\n",
    "mean_days = missed_listing_id_df['days'].mean()\n",
    "print(mean_days)\n",
    "plt.bar(range(len(data)), data)\n",
    "plt.title(\"available days\")\n",
    "y=mean_days\n",
    "plt.hlines(y, 0, len(missed_listing_id_df))\n",
    "plt.show()"
   ]
  },
  {
   "cell_type": "markdown",
   "metadata": {},
   "source": [
    "###### Conclusion\n",
    "We get 627 listing ids in calendar data but NOT in reviews data\n",
    "\n",
    "We can see, the available days data distribution above are similar to the reviews data.\n",
    "\n",
    "the tenants reviewed on the rental is in random"
=======
   ]
  },
  {
   "cell_type": "code",
   "execution_count": 135,
   "metadata": {
    "collapsed": false
   },
   "outputs": [
    {
     "name": "stdout",
     "output_type": "stream",
     "text": [
      "246.23923444976077\n"
     ]
    },
    {
     "data": {
      "image/png": "iVBORw0KGgoAAAANSUhEUgAAAXoAAAEICAYAAABRSj9aAAAABHNCSVQICAgIfAhkiAAAAAlwSFlz\nAAALEgAACxIB0t1+/AAAFztJREFUeJzt3X+w3XV95/Hni4DgDxSQNBOTaHA2uhPcNbTZ6I4/lpUq\nqJ0GOx027Kp0qxN3i47O2nZDnbHYnczY3YrtTtVurNhsFTH+KhmsdhGhjjsIBo1AgpQosEkMJCIo\n2holvPeP840eLze559577j3n+73Px8yZ8z2f7/fz/b4/l/C6n/s533tuqgpJUnedMOoCJElzy6CX\npI4z6CWp4wx6Seo4g16SOs6gl6SOM+jVKUk+l+SSZvu3knx5wH6XJ/nIcfbfm+RXh1RjJflnwziX\nNIgTR12ANExV9cpR1yCNG2f0ktRxBr1GIsmmJN9K8kiS3Ule07SfnOThJM/rO3Zxkn9K8ktJTk9y\nbZJDSR5qtpf3HXtjkjce45p/lmRvkh8kuTXJSyYcckqSjzc1fS3J849xnhP66n8wybYkZxxnrL+X\n5ECS7yT57Qn7Xp3k601Ne5Nc3rfvs0neMuH425K8Jj3vTXKw6Xt7/9dM6mfQa1S+BbwEeBrwLuAj\nSZZW1WHg08DFfcdeBPx9VR2k92/2w8CzgGcC/wT8+YDX/CqwBjgDuAr4RJJT+vavBz7Rt/9vkpw0\nyXneAlwI/BvgGcBDwPsmu2CSC4DfBV4OrAImrvP/CHg9cBrwauA/J7mw2bcVeG3fuZ4PLAM+C7wC\neCnwHHpfw4uAB6f6AmhhMug1ElX1iar6TlU9VlUfB+4G1jW7rwI29B3+75s2qurBqvpUVf1jVT0C\nbKYXuINc8yNN/0er6j3AycBz+w65tao+WVU/Ba4ATgFeOMmp/hPwjqra13xjuhz4zSSTved1EfDh\nqrqjqn7UHNtf041VdXvzdbgN+FjfeLYDz0myqnn9OuDjVfUT4KfAqcA/B1JVd1bVgUG+Dlp4DHqN\nRJLXJ9nZLNM8DDwPOLPZfQPwpCQvSLKS3iz8M02/JyX5X0nuS/ID4EvAaUkWDXDN301yZ5LvN9d8\nWt81AfYe3aiqx4B99GbsEz0L+Exf7XcCR4Alkxz7jP7zAvdNqOkFSW5olqK+T++byJlNDT8GPg68\nNskJ9H7K+etm3xfp/STzPuBgki1JnjrV10ALk0GveZfkWcAHgTcDT6+q04A7gABU1RFgG71guxi4\ntpm9A7yd3iz8BVX1VHrLFxzte5xrvgT4fXoz7NOba35/Qr8VfcefACwHvjPJ6fYCr6yq0/oep1TV\n/kmOPdB/XnrLTf2uojdzX1FVTwP+YkJNW4H/AJwH/GNV3XR0R1X9z6r6FWA1vSWc3zvmF0ALmkGv\nUXgyUMAhgCT/kd6Mvt9VwL+jF3JX9bWfSm9d/uHmDdA/HPCapwKPNtc8Mck7gYkz4F9J8hvNEszb\ngMPAVyY5118Am5tvWEffLF5/jOtuA34ryeokT5qk3lOB71XVj5Oso7dM9TNNsD8GvIdmNt9c8181\nPw2cRG+d/8fNcdLjGPSad1W1m15w3QQ8APwL4P9OOOZmegH2DOBzfbv+FHgi8F16Ifz5AS/7d82x\n/0Bv+eTH/OKSCsA19L65PERvPfw3mvX6if6M3iz8/yR5pKnjBZNdtKo+19T8RWBP89zvd4A/as7z\nTnrfGCb63/S+Rv2/0PVUej8VPdSM50Hgf0xWgxT/8Ig03pK8HthYVS8edS1qJ2f00hhrlnt+B9gy\n6lrUXga9NKaSnE/vPYUH+MX3KaRpcelGkjrOGb0kddxYfHrlmWeeWStXrhx1GZLUKrfeeut3q2rx\nVMeNRdCvXLmSHTt2jLoMSWqVJPdNfZRLN5LUeQa9JHWcQS9JHWfQS1LHGfSS1HEGvSR1nEEvSR1n\n0EtSxxn0ktRxY/GbsZIWnpWbPvsLr+9996uPuW8Q/f2HcY756j+x7rlg0EuaMzMJSw2fQS9p6Az4\n8WLQS5qR4y29aLwY9JIexxl5t0x5102SU5LckuQbSXYleVfTfnmS/Ul2No9X9fW5LMmeJHc1fw5N\n0phauemzBnvHDTKjPwy8rKp+mOQk4MtJPtfse29V/Un/wUlWAxuAs4FnAF9I8pyqOjLMwiXNjuG+\ncEwZ9NX7o7I/bF6e1DyO94dm1wNXV9Vh4J4ke4B1wE2zrFXSDBjoGugXppIsSrITOAhcV1U3N7ve\nkuS2JFcmOb1pWwbs7eu+r2mbeM6NSXYk2XHo0KFZDEFa2CYL8qPLMYa8YMCgr6ojVbUGWA6sS/I8\n4APAs4E1wAHgPdO5cFVtqaq1VbV28eIp/+ShpAkMcg1qWnfdVNXDSW4ALuhfm0/yQeDa5uV+YEVf\nt+VNm6RZMNQ1U1MGfZLFwE+bkH8i8HLgj5MsraoDzWGvAe5otrcDVyW5gt6bsauAW4ZfutR9hruG\nYZAZ/VJga5JF9JZ6tlXVtUn+Oskaem/M3gu8CaCqdiXZBuwGHgUu9Y4bafoMeQ3LIHfd3AacM0n7\n647TZzOweXalSQuTAa9h82OKJanjDHpphLxzRvPBz7qR5oFhrlEy6KU5YLBrnLh0Iw2ZIa9xY9BL\nUscZ9JLUcQa9JHWcQS/NkmvyGnfedSPNkAGvtnBGL82AIa82MeilaTLk1TYGvTQNhrzayKCXBmTI\nq60MemkAhrzazKCXpmDIq+28vVI6BgNeXWHQSxMY8Ooal24kqeOmDPokpyS5Jck3kuxK8q6m/Ywk\n1yW5u3k+va/PZUn2JLkryflzOQBJ0vENMqM/DLysqp4PrAEuSPJCYBNwfVWtAq5vXpNkNbABOBu4\nAHh/kkVzUbw0Wy7TaCGYco2+qgr4YfPypOZRwHrg3KZ9K3Aj8F+b9qur6jBwT5I9wDrgpmEWLs2U\n4a6FZqA1+iSLkuwEDgLXVdXNwJKqOtAccj+wpNleBuzt676vaZMkjcBAQV9VR6pqDbAcWJfkeRP2\nF71Z/sCSbEyyI8mOQ4cOTaerJGkapnXXTVU9DNxAb+39gSRLAZrng81h+4EVfd2WN20Tz7WlqtZW\n1drFixfPpHZJ0gAGuetmcZLTmu0nAi8HvglsBy5pDrsEuKbZ3g5sSHJykrOAVcAtwy5cmgnX57UQ\nDfILU0uBrc2dMycA26rq2iQ3AduSvAG4D7gIoKp2JdkG7AYeBS6tqiNzU74kaSqD3HVzG3DOJO0P\nAucdo89mYPOsq5MkzZq/GasFw2UbLVQGvRYEQ14LmUEvSR1n0KvznM1roTPo1WmGvGTQq8MMeanH\noJekjjPo1UnO5qWfM+jVOYa89IsMenWKIS89nkEvSR1n0EtSxxn0ktRxBr0kdZxBL0kdZ9BLUscZ\n9JLUcQa9Ws375qWpGfSS1HEGvSR13JRBn2RFkhuS7E6yK8lbm/bLk+xPsrN5vKqvz2VJ9iS5K8n5\nczkALVwu20iDOXGAYx4F3l5VX0tyKnBrkuuafe+tqj/pPzjJamADcDbwDOALSZ5TVUeGWbgkaTBT\nzuir6kBVfa3ZfgS4E1h2nC7rgaur6nBV3QPsAdYNo1jpKGfz0uCmtUafZCVwDnBz0/SWJLcluTLJ\n6U3bMmBvX7d9TPKNIcnGJDuS7Dh06NC0C9fCZchL05OqGuzA5CnA3wObq+rTSZYA3wUK+G/A0qr6\n7SR/Dnylqj7S9PsQ8Lmq+uSxzr127drasWPHjAdx7rnnzriv2uUr337wcW0vfPbTj7t/Kv39h3GO\nUfcfhxpG3X8cahi0/4//3+3Tvs5RSW6tqrVTHTfQjD7JScCngI9W1acBquqBqjpSVY8BH+TnyzP7\ngRV93Zc3bZKkEZjyzdgkAT4E3FlVV/S1L62qA83L1wB3NNvbgauSXEHvzdhVwC1DrXqCG2+8cS5P\nrzEy2bLNje9+9XH3T6W//zDOMer+41DDqPuPQw3jtMQ4yF03LwJeB9yeZGfT9gfAxUnW0Fu6uRd4\nE0BV7UqyDdhN746dS73jRsMwTv/jSG0yZdBX1ZeBTLLrb4/TZzOweRZ1SZKGxN+MVSs4m5dmzqDX\n2DPkpdkx6CWp4wx6Seq4Qe66kUbCJRtpOJzRaywZ8tLwGPQaO4a8NFwGvSR1nEGvseJsXho+g16S\nOs6gl6SOM+glqeMMeknqOINekjrOoJekjjPoJanjDHpJ6jiDXiPlL0hJc8+g18gY8tL8mDLok6xI\nckOS3Ul2JXlr035GkuuS3N08n97X57Ike5LcleT8uRyA2smQl+bPIDP6R4G3V9Vq4IXApUlWA5uA\n66tqFXB985pm3wbgbOAC4P1JFs1F8ZKkqU0Z9FV1oKq+1mw/AtwJLAPWA1ubw7YCFzbb64Grq+pw\nVd0D7AHWDbtwSdJgprVGn2QlcA5wM7Ckqg40u+4HljTby4C9fd32NW0Tz7UxyY4kOw4dOjTNsiVJ\ngxo46JM8BfgU8Laq+kH/vqoqoKZz4araUlVrq2rt4sWLp9NVkjQNAwV9kpPohfxHq+rTTfMDSZY2\n+5cCB5v2/cCKvu7LmzYJ8I1Yab4NctdNgA8Bd1bVFX27tgOXNNuXANf0tW9IcnKSs4BVwC3DK1mS\nNB0nDnDMi4DXAbcn2dm0/QHwbmBbkjcA9wEXAVTVriTbgN307ti5tKqODL1ySdJApgz6qvoykGPs\nPu8YfTYDm2dRlyRpSPzNWM0r1+el+WfQS1LHDbJGL82aM3lpdJzRa84Z8tJoGfSS1HEGveaUs3lp\n9Fyj15ww4KXxYdBrqAx4afy4dCNJHWfQS1LHGfSS1HEGvSR1nEEvSR1n0EtSxxn0ktRxBr1mZOWm\nz3rPvNQSBr2mzYCX2sWg17QY8lL7GPQamCEvtZNBL0kdN2XQJ7kyycEkd/S1XZ5kf5KdzeNVffsu\nS7InyV1Jzp+rwjW/nM1L7TXIjP6vgAsmaX9vVa1pHn8LkGQ1sAE4u+nz/iSLhlWsJGn6pgz6qvoS\n8L0Bz7ceuLqqDlfVPcAeYN0s6pMkzdJsPo/+LUleD+wA3l5VDwHLgK/0HbOvaXucJBuBjQDPfOYz\nZ1GG5pJLNlL7zfTN2A8AzwbWAAeA90z3BFW1parWVtXaxYsXz7AMzSVDXuqGGQV9VT1QVUeq6jHg\ng/x8eWY/sKLv0OVNm1rGkJe6Y0ZBn2Rp38vXAEfvyNkObEhycpKzgFXALbMrUfPNkJe6Zco1+iQf\nA84FzkyyD/hD4Nwka4AC7gXeBFBVu5JsA3YDjwKXVtWRuSldc8GQl7pnyqCvqosnaf7QcY7fDGye\nTVEaDUNe6iZ/M1aSOs6gl6SOM+glqeMMeknqOIN+gfIvREkLh0G/ABnw0sJi0EtSxxn0C4yzeWnh\nMegXEENeWpgMeknqOIN+gXA2Ly1cBv0CYMhLC5tBL0kdZ9BLUscZ9B3nso0kg77DDHlJYNB3liEv\n6SiDvoMMeUn9DPqOMeQlTTRl0Ce5MsnBJHf0tZ2R5LokdzfPp/ftuyzJniR3JTl/rgqXJA1mkBn9\nXwEXTGjbBFxfVauA65vXJFkNbADObvq8P8mioVUrSZq2KYO+qr4EfG9C83pga7O9Fbiwr/3qqjpc\nVfcAe4B1Q6pVkjQDM12jX1JVB5rt+4ElzfYyYG/fcfuatsdJsjHJjiQ7Dh06NMMy1M/1eUmTmfWb\nsVVVQM2g35aqWltVaxcvXjzbMiRJxzDToH8gyVKA5vlg074fWNF33PKmTZI0IjMN+u3AJc32JcA1\nfe0bkpyc5CxgFXDL7EqUJM3GILdXfgy4CXhukn1J3gC8G3h5kruBX21eU1W7gG3AbuDzwKVVdWSu\nil/oXJOXNIgTpzqgqi4+xq7zjnH8ZmDzbIqSJA3PlEGv0XPmLmk2DPoxZbhLGhY/62YMGfKShskZ\n/Rgx4CXNBWf0ktRxBr0kdZxBP0Iu1UiaDwb9iBjykuaLQT8Chryk+WTQzzNDXtJ8M+jnkSEvaRQM\neknqOINekjrOoJ8nLttIGhWDfh4Y8pJGyaCfY4a8pFHzQ83mgOEuaZw4ox8yQ17SuDHoh8iQlzSO\nZrV0k+Re4BHgCPBoVa1NcgbwcWAlcC9wUVU9NLsyJUkzNYwZ/b+tqjVVtbZ5vQm4vqpWAdc3ryVJ\nIzIXSzfrga3N9lbgwjm4hiRpQLMN+gK+kOTWJBubtiVVdaDZvh9YMlnHJBuT7Eiy49ChQ7MsQ5J0\nLLO9vfLFVbU/yS8B1yX5Zv/OqqokNVnHqtoCbAFYu3btpMdIkmZvVjP6qtrfPB8EPgOsAx5IshSg\neT442yLHkXfYSGqLGc/okzwZOKGqHmm2XwH8EbAduAR4d/N8zTAKHRcGvKS2mc3SzRLgM0mOnueq\nqvp8kq8C25K8AbgPuGj2ZUqSZmrGQV9V3waeP0n7g8B5sylKkjQ8/masJHWcQT8Nrs9LaiODfkCG\nvKS2MuglqeMM+gE4m5fUZgb9FAx5SW1n0EtSx/mnBCfhLF5Slzijl6SOM+glqeMM+glctpHUNQZ9\nH0NeUhcZ9JLUcQZ9w9m8pK4y6CWp4wx6Seo4g16SOs6gl6SOM+glqeMMeknquDkL+iQXJLkryZ4k\nm+bqOjPl7ZSSFoo5Cfoki4D3Aa8EVgMXJ1k9F9eSJB3fXH1M8TpgT1V9GyDJ1cB6YPccXW9Sztol\nCVJVwz9p8pvABVX1xub164AXVNWb+47ZCGxsXj4XuGsWlzwT+O4s+o9a2+uH9o+h7fVD+8fQ9vph\n/sfwrKpaPNVBI/vDI1W1BdgyjHMl2VFVa4dxrlFoe/3Q/jG0vX5o/xjaXj+M7xjm6s3Y/cCKvtfL\nmzZJ0jybq6D/KrAqyVlJngBsALbP0bUkSccxJ0s3VfVokjcDfwcsAq6sql1zca3GUJaARqjt9UP7\nx9D2+qH9Y2h7/TCmY5iTN2MlSePD34yVpI4z6CWp41od9OP+MQtHJbkyycEkd/S1nZHkuiR3N8+n\n9+27rBnTXUnOH03VP5dkRZIbkuxOsivJW5v2VowhySlJbknyjab+dzXtrai/X5JFSb6e5NrmdavG\nkOTeJLcn2ZlkR9PWmjEkOS3JJ5N8M8mdSf51K+qvqlY+6L3J+y3g2cATgG8Aq0dd1zFqfSnwy8Ad\nfW3/HdjUbG8C/rjZXt2M5WTgrGaMi0Zc/1Lgl5vtU4F/aOpsxRiAAE9ptk8CbgZe2Jb6J4zlvwBX\nAde27d9RU9e9wJkT2lozBmAr8MZm+wnAaW2ov80z+p99zEJV/QQ4+jELY6eqvgR8b0Lzenr/aGie\nL+xrv7qqDlfVPcAeemMdmao6UFVfa7YfAe4EltGSMVTPD5uXJzWPoiX1H5VkOfBq4C/7mls1hmNo\nxRiSPI3epO1DAFX1k6p6mBbU3+agXwbs7Xu9r2lriyVVdaDZvh9Y0myP9biSrATOoTcrbs0YmiWP\nncBB4LqqalX9jT8Ffh94rK+tbWMo4AtJbm0+BgXaM4azgEPAh5vls79M8mRaUH+bg74zqvdz3tjf\n55rkKcCngLdV1Q/69437GKrqSFWtofdb2uuSPG/C/rGuP8mvAQer6tZjHTPuY2i8uPnv8Erg0iQv\n7d855mM4kd4S7Aeq6hzgR/SWan5mXOtvc9C3/WMWHkiyFKB5Pti0j+W4kpxEL+Q/WlWfbppbNQaA\n5kftG4ALaFf9LwJ+Pcm99JYpX5bkI7RrDFTV/ub5IPAZeksZbRnDPmBf89MgwCfpBf/Y19/moG/7\nxyxsBy5pti8Brulr35Dk5CRnAauAW0ZQ388kCb11yTur6oq+Xa0YQ5LFSU5rtp8IvBz4Ji2pH6Cq\nLquq5VW1kt6/9S9W1Wtp0RiSPDnJqUe3gVcAd9CSMVTV/cDeJM9tms6j99Hr41//KN/Bnu0DeBW9\nO0C+Bbxj1PUcp86PAQeAn9KbFbwBeDpwPXA38AXgjL7j39GM6S7glWNQ/4vp/Th6G7CzebyqLWMA\n/iXw9ab+O4B3Nu2tqH+S8ZzLz++6ac0Y6N0h943msevo/7MtG8MaYEfzb+lvgNPbUL8fgSBJHdfm\npRtJ0gAMeknqOINekjrOoJekjjPoJanjDHpJ6jiDXpI67v8DIimdcx3T+hgAAAAASUVORK5CYII=\n",
      "text/plain": [
       "<matplotlib.figure.Figure at 0x14abd7b4f98>"
      ]
     },
     "metadata": {},
     "output_type": "display_data"
    }
   ],
   "source": [
    "\n",
    "missed_listing_id_df = missed_listing_id_df.sort_values('days',axis = 0,ascending = True)\n",
    "data = missed_listing_id_df['days']\n",
    "mean_days = missed_listing_id_df['days'].mean()\n",
    "print(mean_days)\n",
    "plt.bar(range(len(data)), data)\n",
    "plt.title(\"available days\")\n",
    "y=mean_days\n",
    "plt.hlines(y, 0, len(missed_listing_id_df))\n",
    "plt.show()"
>>>>>>> c1795c19fc1ac214015ba52bab0b4ed6dcf53448
   ]
  },
  {
   "cell_type": "markdown",
<<<<<<< HEAD
   "metadata": {
    "scrolled": true
   },
   "source": [
    "#### 2: Clean Data  \n",
    "\n",
    "###### 2.1 Deal with null value\n",
    "\n",
    "find the most missing columns"
=======
   "metadata": {},
   "source": [
    "###### Conclusion\n",
    "We get 627 listing ids in calendar data but NOT in reviews data\n",
    "\n",
    "the tenants reviewed on the rental is in random"
>>>>>>> c1795c19fc1ac214015ba52bab0b4ed6dcf53448
   ]
  },
  {
   "cell_type": "code",
<<<<<<< HEAD
   "execution_count": 144,
   "metadata": {},
=======
   "execution_count": 136,
   "metadata": {
    "collapsed": false
   },
>>>>>>> c1795c19fc1ac214015ba52bab0b4ed6dcf53448
   "outputs": [
    {
     "data": {
      "text/plain": [
<<<<<<< HEAD
       "<matplotlib.axes._subplots.AxesSubplot at 0x2800064c348>"
      ]
     },
     "execution_count": 144,
=======
       "<matplotlib.axes._subplots.AxesSubplot at 0x14ac5d2eef0>"
      ]
     },
     "execution_count": 136,
>>>>>>> c1795c19fc1ac214015ba52bab0b4ed6dcf53448
     "metadata": {},
     "output_type": "execute_result"
    },
    {
     "data": {
<<<<<<< HEAD
      "image/png": "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\n",
      "text/plain": [
       "<Figure size 432x288 with 1 Axes>"
      ]
     },
     "metadata": {
      "needs_background": "light"
     },
=======
      "image/png": "iVBORw0KGgoAAAANSUhEUgAAAXoAAAF2CAYAAABgYlPrAAAABHNCSVQICAgIfAhkiAAAAAlwSFlz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\nRPTc/wc0Cn/ZXkKDBwAAAABJRU5ErkJggg==\n",
      "text/plain": [
       "<matplotlib.figure.Figure at 0x14ac5d49048>"
      ]
     },
     "metadata": {},
>>>>>>> c1795c19fc1ac214015ba52bab0b4ed6dcf53448
     "output_type": "display_data"
    }
   ],
   "source": [
    "#find percentage of missing values for each column\n",
    "listings_missing_percent = listings.isnull().mean()*100\n",
    "\n",
    "#filter out only columns, which have missing values\n",
    "listings_mis_columns = listings_missing_percent[listings_missing_percent > 20].sort_values(ascending=False)\n",
    "\n",
    "#plot the results\n",
    "listings_mis_columns.plot.bar(title='Missing values per column, 10%-100%')"
<<<<<<< HEAD
=======
   ]
  },
  {
   "cell_type": "markdown",
   "metadata": {
    "collapsed": false,
    "scrolled": true
   },
   "source": [
    "###### These params's missing value is bigger than 20%:\n",
    "\n",
    "'weekly_price', 'transit', 'square_feet', 'security_deposit', 'notes',\n",
    "'neighborhood_overview', 'monthly_price', 'license','host_acceptance_rate', 'host_about', 'cleaning_fee'"
>>>>>>> c1795c19fc1ac214015ba52bab0b4ed6dcf53448
   ]
  },
  {
   "cell_type": "code",
<<<<<<< HEAD
   "execution_count": 145,
=======
   "execution_count": 137,
>>>>>>> c1795c19fc1ac214015ba52bab0b4ed6dcf53448
   "metadata": {
    "collapsed": false,
    "scrolled": true
   },
   "outputs": [
    {
     "data": {
      "text/plain": [
       "license                  1.000000\n",
       "square_feet              0.974594\n",
       "monthly_price            0.602672\n",
       "security_deposit         0.511262\n",
       "weekly_price             0.473808\n",
       "notes                    0.420639\n",
       "neighborhood_overview    0.270299\n",
       "cleaning_fee             0.269775\n",
       "transit                  0.244631\n",
       "host_about               0.224987\n",
       "host_acceptance_rate     0.202462\n",
       "dtype: float64"
      ]
     },
<<<<<<< HEAD
     "execution_count": 145,
=======
     "execution_count": 137,
>>>>>>> c1795c19fc1ac214015ba52bab0b4ed6dcf53448
     "metadata": {},
     "output_type": "execute_result"
    }
   ],
   "source": [
    "(listings[['weekly_price', 'transit', 'square_feet', 'security_deposit', 'notes',\n",
    "       'neighborhood_overview', 'monthly_price', 'license',\n",
    "       'host_acceptance_rate', 'host_about', 'cleaning_fee']].isnull().sum()/len(listings)).sort_values(ascending=False)"
   ]
  },
  {
   "cell_type": "markdown",
<<<<<<< HEAD
   "metadata": {},
   "source": [
    "**These params's missing value is bigger than 20%:**\n",
    "\n",
    "'license','square_feet', 'monthly_price', 'security_deposit','weekly_price',\n",
    " 'notes','neighborhood_overview', 'cleaning_fee', 'transit', \n",
    " 'host_about', 'host_acceptance_rate',"
   ]
  },
  {
   "cell_type": "markdown",
=======
   "metadata": {
    "collapsed": false,
    "scrolled": true
   },
   "source": [
    "###### Parsing Data \n",
    "- step1\n",
    "\n",
    "for pasing numeric data, we need drop some data columns:\n",
    "\n",
    "such as license,scrape_id,host_id,latitude,longitude,license, they are irrelevant information.\n",
    "\n",
    "such as square_feet, security_deposit, monthly_price, weekly_price, their missing value is bigger than 30% percentage\n",
    "\n",
    "- step2\n",
    "\n",
    "transfer object type data to numeric data\n",
    "\n",
    "- step3\n",
    "\n",
    "remove none value, or fill in the mean value.\n"
   ]
  },
  {
   "cell_type": "code",
   "execution_count": 139,
>>>>>>> c1795c19fc1ac214015ba52bab0b4ed6dcf53448
   "metadata": {
    "collapsed": false,
    "scrolled": true
   },
<<<<<<< HEAD
   "source": [
    "\n",
    "2.1.1 drop 'license','monthly_price','weekly_price'\n",
    "\n",
    "we drop the license column,for it is unrelated to the rent price,\n",
    "monthly_price,weekly_price are similar to the price, and they missed value too much, so we can drop them too.\n",
    "\n",
    "2.1.2 fill 'security_deposit' columns\n",
    "\n",
    "we can assume 'security_deposit' is default 0\n",
    "\n",
    "2.1.3 drop 'square_feet','nots', their missing rate are bigger than 40%\n",
    "\n"
   ]
  },
  {
   "cell_type": "code",
   "execution_count": 146,
   "metadata": {},
   "outputs": [
    {
     "data": {
      "text/plain": [
       "0"
      ]
     },
     "execution_count": 146,
     "metadata": {},
     "output_type": "execute_result"
    }
   ],
   "source": [
    "listings['price'].isnull().sum()"
   ]
  },
  {
   "cell_type": "code",
   "execution_count": 147,
   "metadata": {},
   "outputs": [],
   "source": [
    "listings['price']= listings['price'].apply(str_obj_to_number)\n",
    "listings['security_deposit'] = listings['security_deposit'].apply(str_obj_to_number)\n",
    "listings['security_deposit'] = listings['security_deposit'].fillna(0)\n",
    "listings['cleaning_fee'] = listings['cleaning_fee'].apply(str_obj_to_number)\n",
    "listings['cleaning_fee'] = listings['cleaning_fee'].fillna(0)\n"
   ]
  },
  {
   "cell_type": "code",
   "execution_count": 148,
   "metadata": {},
   "outputs": [],
   "source": [
    "#drop license\n",
    "listings.drop(columns=['license'],inplace=True)\n",
    "#drop weekly_price, monthly_price columns\n",
    "listings.drop(columns=['weekly_price','monthly_price'],inplace=True)\n",
    "\n",
    "#fill security_deposit, cleaning_fee columns is default 0\n",
    "listings['security_deposit']=listings['security_deposit'].fillna(0)\n",
    "listings['cleaning_fee']=listings['cleaning_fee'].fillna(0)\n",
    "#missing value rate are bigger than 40%\n",
    "listings.drop(columns=['square_feet','notes'],inplace=True)"
   ]
  },
  {
   "cell_type": "markdown",
   "metadata": {},
   "source": [
    "2.1.4 drop one unique value columns\n",
    "\n",
    "they can not help us predict rent price，they have no change factors.\n",
    "\n",
    "2.1.5 drop some string type data\n",
    "\n",
    "If they cann't transfer to numeric, such as url address, host description etc.\n",
    "\n",
    "2.1.5 drop some columns are unrelated to the rent price\n",
    "\n",
    "such as host_col,other_col_1,other_col_2 listed below etc.\n"
   ]
  },
  {
   "cell_type": "code",
   "execution_count": 149,
   "metadata": {},
   "outputs": [
    {
     "name": "stdout",
     "output_type": "stream",
     "text": [
      "['scrape_id', 'last_scraped', 'experiences_offered', 'market', 'country_code', 'country', 'has_availability', 'calendar_last_scraped', 'requires_license', 'jurisdiction_names']\n",
      "['listing_url', 'thumbnail_url', 'medium_url', 'picture_url', 'xl_picture_url', 'host_url', 'host_thumbnail_url', 'host_picture_url']\n",
      "['host_id', 'host_name', 'host_since', 'host_location', 'host_about', 'host_verifications']\n"
     ]
    }
   ],
   "source": [
    "#one  unique columns\n",
    "one_unique=[col for col in listings.columns.values if listings[col].nunique()==1]\n",
    "print( one_unique)\n",
    "\n",
    "#find columns containing 'url' in the name\n",
    "url_col=[col for col in listings.columns.values if 'url' in col]\n",
    "print(url_col)\n",
    "#host description\n",
    "host_col = ['host_id', 'host_name', 'host_since', 'host_location', 'host_about', 'host_verifications']\n",
    "print(host_col)"
   ]
  },
  {
   "cell_type": "code",
   "execution_count": 150,
   "metadata": {},
   "outputs": [],
   "source": [
    "\n",
    "one_unique = ['scrape_id', 'last_scraped', 'experiences_offered', 'market',\n",
    "               'country_code', 'country', 'has_availability', 'calendar_last_scraped', 'requires_license', 'jurisdiction_names']\n",
    "\n",
    "url_col = ['listing_url', 'thumbnail_url', 'medium_url', 'picture_url', 'xl_picture_url', 'host_url',\n",
    "           'host_thumbnail_url', 'host_picture_url']\n",
    "\n",
    "host_col = ['host_id', 'host_name', 'host_since', 'host_location', 'host_about', 'host_verifications']\n",
    "\n",
    "other_col_1 = ['city','state','first_review','last_review','street',\n",
    "           'zipcode','smart_location','calendar_updated',\n",
    "           'cleaning_fee','extra_people']\n",
    "\n",
    "other_col_2 = ['id', 'latitude', 'longitude']\n"
   ]
  },
  {
   "cell_type": "code",
   "execution_count": 151,
   "metadata": {},
   "outputs": [],
   "source": [
    "#drop columns from dataset\n",
    "listings.drop(columns=one_unique,inplace=True)\n",
    "listings.drop(columns=url_col,inplace=True)\n",
    "listings.drop(columns=host_col, inplace=True)\n",
    "listings.drop(columns=other_col_1, inplace=True)\n",
    "listings.drop(columns=other_col_2, inplace=True)"
   ]
  },
  {
   "cell_type": "code",
   "execution_count": 152,
   "metadata": {},
   "outputs": [],
   "source": [
    "listings['host_response_rate'] = listings['host_response_rate'].str.rstrip('%').astype('float') / 100.0\n",
    "listings['host_response_rate'] = listings['host_response_rate'].fillna(listings['host_response_rate'].mean())\n",
    "listings['host_acceptance_rate'] = listings['host_acceptance_rate'].str.rstrip('%').astype('float') / 100.0\n",
    "listings['host_acceptance_rate'] = listings['host_acceptance_rate'].fillna(listings['host_acceptance_rate'].mean())"
   ]
  },
  {
   "cell_type": "code",
   "execution_count": 155,
   "metadata": {
    "scrolled": true
   },
=======
>>>>>>> c1795c19fc1ac214015ba52bab0b4ed6dcf53448
   "outputs": [
    {
     "data": {
      "text/html": [
       "<div>\n",
<<<<<<< HEAD
       "<style scoped>\n",
       "    .dataframe tbody tr th:only-of-type {\n",
       "        vertical-align: middle;\n",
=======
       "<style>\n",
       "    .dataframe thead tr:only-child th {\n",
       "        text-align: right;\n",
>>>>>>> c1795c19fc1ac214015ba52bab0b4ed6dcf53448
       "    }\n",
       "\n",
       "    .dataframe thead th {\n",
       "        text-align: left;\n",
       "    }\n",
       "\n",
       "    .dataframe tbody tr th {\n",
       "        vertical-align: top;\n",
       "    }\n",
       "</style>\n",
       "<table border=\"1\" class=\"dataframe\">\n",
       "  <thead>\n",
       "    <tr style=\"text-align: right;\">\n",
       "      <th></th>\n",
<<<<<<< HEAD
       "      <th>host_response_rate</th>\n",
       "      <th>host_acceptance_rate</th>\n",
=======
       "      <th>id</th>\n",
>>>>>>> c1795c19fc1ac214015ba52bab0b4ed6dcf53448
       "      <th>host_listings_count</th>\n",
       "      <th>host_total_listings_count</th>\n",
       "      <th>accommodates</th>\n",
       "      <th>bathrooms</th>\n",
       "      <th>bedrooms</th>\n",
       "      <th>beds</th>\n",
<<<<<<< HEAD
       "      <th>price</th>\n",
       "      <th>security_deposit</th>\n",
=======
       "      <th>guests_included</th>\n",
       "      <th>minimum_nights</th>\n",
       "      <th>maximum_nights</th>\n",
>>>>>>> c1795c19fc1ac214015ba52bab0b4ed6dcf53448
       "      <th>...</th>\n",
       "      <th>number_of_reviews</th>\n",
       "      <th>review_scores_rating</th>\n",
       "      <th>review_scores_accuracy</th>\n",
       "      <th>review_scores_cleanliness</th>\n",
       "      <th>review_scores_checkin</th>\n",
       "      <th>review_scores_communication</th>\n",
       "      <th>review_scores_location</th>\n",
       "      <th>review_scores_value</th>\n",
       "      <th>calculated_host_listings_count</th>\n",
       "      <th>reviews_per_month</th>\n",
       "    </tr>\n",
       "  </thead>\n",
       "  <tbody>\n",
       "    <tr>\n",
<<<<<<< HEAD
       "      <td>count</td>\n",
       "      <td>3818.000000</td>\n",
=======
       "      <th>count</th>\n",
       "      <td>3.818000e+03</td>\n",
>>>>>>> c1795c19fc1ac214015ba52bab0b4ed6dcf53448
       "      <td>3818.000000</td>\n",
       "      <td>3818.000000</td>\n",
       "      <td>3818.000000</td>\n",
       "      <td>3818.000000</td>\n",
       "      <td>3818.000000</td>\n",
       "      <td>3818.000000</td>\n",
       "      <td>3818.000000</td>\n",
       "      <td>3818.000000</td>\n",
       "      <td>3818.000000</td>\n",
       "      <td>...</td>\n",
       "      <td>3818.000000</td>\n",
       "      <td>3818.000000</td>\n",
       "      <td>3818.000000</td>\n",
       "      <td>3818.000000</td>\n",
       "      <td>3818.000000</td>\n",
       "      <td>3818.000000</td>\n",
       "      <td>3818.000000</td>\n",
       "      <td>3818.000000</td>\n",
       "      <td>3818.000000</td>\n",
       "      <td>3818.000000</td>\n",
<<<<<<< HEAD
       "    </tr>\n",
       "    <tr>\n",
       "      <td>mean</td>\n",
       "      <td>0.948868</td>\n",
       "      <td>0.999672</td>\n",
       "      <td>7.157757</td>\n",
       "      <td>7.157757</td>\n",
       "      <td>3.349398</td>\n",
       "      <td>1.259469</td>\n",
       "      <td>1.307712</td>\n",
       "      <td>1.735394</td>\n",
       "      <td>127.976166</td>\n",
       "      <td>140.566003</td>\n",
       "      <td>...</td>\n",
       "      <td>22.223415</td>\n",
       "      <td>94.539262</td>\n",
       "      <td>9.636392</td>\n",
       "      <td>9.556398</td>\n",
       "      <td>9.786709</td>\n",
       "      <td>9.809599</td>\n",
       "      <td>9.608916</td>\n",
       "      <td>9.452245</td>\n",
       "      <td>2.946307</td>\n",
       "      <td>2.078919</td>\n",
       "    </tr>\n",
       "    <tr>\n",
       "      <td>std</td>\n",
       "      <td>0.110238</td>\n",
       "      <td>0.016183</td>\n",
       "      <td>28.620648</td>\n",
       "      <td>28.620648</td>\n",
       "      <td>1.977599</td>\n",
       "      <td>0.589130</td>\n",
       "      <td>0.882700</td>\n",
       "      <td>1.139330</td>\n",
       "      <td>90.250022</td>\n",
       "      <td>237.387534</td>\n",
       "      <td>...</td>\n",
       "      <td>37.730892</td>\n",
       "      <td>6.020223</td>\n",
       "      <td>0.635022</td>\n",
       "      <td>0.725880</td>\n",
       "      <td>0.541745</td>\n",
       "      <td>0.517493</td>\n",
       "      <td>0.572542</td>\n",
       "      <td>0.682751</td>\n",
       "      <td>5.893029</td>\n",
       "      <td>1.665964</td>\n",
       "    </tr>\n",
       "    <tr>\n",
       "      <td>min</td>\n",
       "      <td>0.170000</td>\n",
       "      <td>0.000000</td>\n",
       "      <td>1.000000</td>\n",
       "      <td>1.000000</td>\n",
       "      <td>1.000000</td>\n",
       "      <td>0.000000</td>\n",
       "      <td>0.000000</td>\n",
       "      <td>1.000000</td>\n",
       "      <td>20.000000</td>\n",
       "      <td>0.000000</td>\n",
       "      <td>...</td>\n",
       "      <td>0.000000</td>\n",
       "      <td>20.000000</td>\n",
       "      <td>2.000000</td>\n",
       "      <td>3.000000</td>\n",
       "      <td>2.000000</td>\n",
       "      <td>2.000000</td>\n",
       "      <td>4.000000</td>\n",
       "      <td>2.000000</td>\n",
       "      <td>1.000000</td>\n",
       "      <td>0.020000</td>\n",
       "    </tr>\n",
       "    <tr>\n",
       "      <td>25%</td>\n",
       "      <td>0.948868</td>\n",
       "      <td>1.000000</td>\n",
       "      <td>1.000000</td>\n",
       "      <td>1.000000</td>\n",
       "      <td>2.000000</td>\n",
       "      <td>1.000000</td>\n",
       "      <td>1.000000</td>\n",
       "      <td>1.000000</td>\n",
       "      <td>75.000000</td>\n",
       "      <td>0.000000</td>\n",
       "      <td>...</td>\n",
       "      <td>2.000000</td>\n",
       "      <td>94.000000</td>\n",
       "      <td>9.636392</td>\n",
       "      <td>9.000000</td>\n",
       "      <td>9.786709</td>\n",
       "      <td>9.809599</td>\n",
       "      <td>9.000000</td>\n",
       "      <td>9.000000</td>\n",
       "      <td>1.000000</td>\n",
       "      <td>0.830000</td>\n",
       "    </tr>\n",
       "    <tr>\n",
       "      <td>50%</td>\n",
       "      <td>1.000000</td>\n",
       "      <td>1.000000</td>\n",
       "      <td>1.000000</td>\n",
       "      <td>1.000000</td>\n",
       "      <td>3.000000</td>\n",
       "      <td>1.000000</td>\n",
       "      <td>1.000000</td>\n",
       "      <td>1.000000</td>\n",
       "      <td>100.000000</td>\n",
       "      <td>0.000000</td>\n",
       "      <td>...</td>\n",
       "      <td>9.000000</td>\n",
       "      <td>95.000000</td>\n",
=======
       "    </tr>\n",
       "    <tr>\n",
       "      <th>mean</th>\n",
       "      <td>5.550111e+06</td>\n",
       "      <td>7.157757</td>\n",
       "      <td>7.157757</td>\n",
       "      <td>3.349398</td>\n",
       "      <td>1.259469</td>\n",
       "      <td>1.307712</td>\n",
       "      <td>1.735394</td>\n",
       "      <td>1.672603</td>\n",
       "      <td>2.369303</td>\n",
       "      <td>780.447617</td>\n",
       "      <td>...</td>\n",
       "      <td>22.223415</td>\n",
       "      <td>94.539262</td>\n",
       "      <td>9.636392</td>\n",
       "      <td>9.556398</td>\n",
       "      <td>9.786709</td>\n",
       "      <td>9.809599</td>\n",
       "      <td>9.608916</td>\n",
       "      <td>9.452245</td>\n",
       "      <td>2.946307</td>\n",
       "      <td>2.078919</td>\n",
       "    </tr>\n",
       "    <tr>\n",
       "      <th>std</th>\n",
       "      <td>2.962660e+06</td>\n",
       "      <td>28.620648</td>\n",
       "      <td>28.620648</td>\n",
       "      <td>1.977599</td>\n",
       "      <td>0.589130</td>\n",
       "      <td>0.882700</td>\n",
       "      <td>1.139330</td>\n",
       "      <td>1.311040</td>\n",
       "      <td>16.305902</td>\n",
       "      <td>1683.589007</td>\n",
       "      <td>...</td>\n",
       "      <td>37.730892</td>\n",
       "      <td>6.020223</td>\n",
       "      <td>0.635022</td>\n",
       "      <td>0.725880</td>\n",
       "      <td>0.541745</td>\n",
       "      <td>0.517493</td>\n",
       "      <td>0.572542</td>\n",
       "      <td>0.682751</td>\n",
       "      <td>5.893029</td>\n",
       "      <td>1.665964</td>\n",
       "    </tr>\n",
       "    <tr>\n",
       "      <th>min</th>\n",
       "      <td>3.335000e+03</td>\n",
       "      <td>1.000000</td>\n",
       "      <td>1.000000</td>\n",
       "      <td>1.000000</td>\n",
       "      <td>0.000000</td>\n",
       "      <td>0.000000</td>\n",
       "      <td>1.000000</td>\n",
       "      <td>0.000000</td>\n",
       "      <td>1.000000</td>\n",
       "      <td>1.000000</td>\n",
       "      <td>...</td>\n",
       "      <td>0.000000</td>\n",
       "      <td>20.000000</td>\n",
       "      <td>2.000000</td>\n",
       "      <td>3.000000</td>\n",
       "      <td>2.000000</td>\n",
       "      <td>2.000000</td>\n",
       "      <td>4.000000</td>\n",
       "      <td>2.000000</td>\n",
       "      <td>1.000000</td>\n",
       "      <td>0.020000</td>\n",
       "    </tr>\n",
       "    <tr>\n",
       "      <th>25%</th>\n",
       "      <td>3.258256e+06</td>\n",
       "      <td>1.000000</td>\n",
       "      <td>1.000000</td>\n",
       "      <td>2.000000</td>\n",
       "      <td>1.000000</td>\n",
       "      <td>1.000000</td>\n",
       "      <td>1.000000</td>\n",
       "      <td>1.000000</td>\n",
       "      <td>1.000000</td>\n",
       "      <td>60.000000</td>\n",
       "      <td>...</td>\n",
       "      <td>2.000000</td>\n",
       "      <td>94.000000</td>\n",
       "      <td>9.636392</td>\n",
       "      <td>9.000000</td>\n",
       "      <td>9.786709</td>\n",
       "      <td>9.809599</td>\n",
       "      <td>9.000000</td>\n",
       "      <td>9.000000</td>\n",
       "      <td>1.000000</td>\n",
       "      <td>0.830000</td>\n",
       "    </tr>\n",
       "    <tr>\n",
       "      <th>50%</th>\n",
       "      <td>6.118244e+06</td>\n",
       "      <td>1.000000</td>\n",
       "      <td>1.000000</td>\n",
       "      <td>3.000000</td>\n",
       "      <td>1.000000</td>\n",
       "      <td>1.000000</td>\n",
       "      <td>1.000000</td>\n",
       "      <td>1.000000</td>\n",
       "      <td>2.000000</td>\n",
       "      <td>1125.000000</td>\n",
       "      <td>...</td>\n",
       "      <td>9.000000</td>\n",
       "      <td>95.000000</td>\n",
       "      <td>10.000000</td>\n",
       "      <td>10.000000</td>\n",
       "      <td>10.000000</td>\n",
       "      <td>10.000000</td>\n",
       "      <td>10.000000</td>\n",
       "      <td>9.452245</td>\n",
       "      <td>1.000000</td>\n",
       "      <td>2.000000</td>\n",
       "    </tr>\n",
       "    <tr>\n",
       "      <th>75%</th>\n",
       "      <td>8.035127e+06</td>\n",
       "      <td>3.000000</td>\n",
       "      <td>3.000000</td>\n",
       "      <td>4.000000</td>\n",
       "      <td>1.000000</td>\n",
       "      <td>2.000000</td>\n",
       "      <td>2.000000</td>\n",
       "      <td>2.000000</td>\n",
       "      <td>2.000000</td>\n",
       "      <td>1125.000000</td>\n",
       "      <td>...</td>\n",
       "      <td>26.000000</td>\n",
       "      <td>98.000000</td>\n",
       "      <td>10.000000</td>\n",
       "      <td>10.000000</td>\n",
       "      <td>10.000000</td>\n",
       "      <td>10.000000</td>\n",
       "      <td>10.000000</td>\n",
       "      <td>10.000000</td>\n",
       "      <td>2.000000</td>\n",
       "      <td>2.660000</td>\n",
       "    </tr>\n",
       "    <tr>\n",
       "      <th>max</th>\n",
       "      <td>1.034016e+07</td>\n",
       "      <td>502.000000</td>\n",
       "      <td>502.000000</td>\n",
       "      <td>16.000000</td>\n",
       "      <td>8.000000</td>\n",
       "      <td>7.000000</td>\n",
       "      <td>15.000000</td>\n",
       "      <td>15.000000</td>\n",
       "      <td>1000.000000</td>\n",
       "      <td>100000.000000</td>\n",
       "      <td>...</td>\n",
       "      <td>474.000000</td>\n",
       "      <td>100.000000</td>\n",
       "      <td>10.000000</td>\n",
>>>>>>> c1795c19fc1ac214015ba52bab0b4ed6dcf53448
       "      <td>10.000000</td>\n",
       "      <td>10.000000</td>\n",
       "      <td>10.000000</td>\n",
       "      <td>10.000000</td>\n",
       "      <td>10.000000</td>\n",
<<<<<<< HEAD
       "      <td>9.452245</td>\n",
       "      <td>1.000000</td>\n",
       "      <td>2.000000</td>\n",
=======
       "      <td>37.000000</td>\n",
       "      <td>12.150000</td>\n",
>>>>>>> c1795c19fc1ac214015ba52bab0b4ed6dcf53448
       "    </tr>\n",
       "  </tbody>\n",
       "</table>\n",
       "<p>8 rows × 24 columns</p>\n",
       "</div>"
      ],
      "text/plain": [
       "                 id  host_listings_count  host_total_listings_count  \\\n",
       "count  3.818000e+03          3818.000000                3818.000000   \n",
       "mean   5.550111e+06             7.157757                   7.157757   \n",
       "std    2.962660e+06            28.620648                  28.620648   \n",
       "min    3.335000e+03             1.000000                   1.000000   \n",
       "25%    3.258256e+06             1.000000                   1.000000   \n",
       "50%    6.118244e+06             1.000000                   1.000000   \n",
       "75%    8.035127e+06             3.000000                   3.000000   \n",
       "max    1.034016e+07           502.000000                 502.000000   \n",
       "\n",
       "       accommodates    bathrooms     bedrooms         beds  guests_included  \\\n",
       "count   3818.000000  3818.000000  3818.000000  3818.000000      3818.000000   \n",
       "mean       3.349398     1.259469     1.307712     1.735394         1.672603   \n",
       "std        1.977599     0.589130     0.882700     1.139330         1.311040   \n",
       "min        1.000000     0.000000     0.000000     1.000000         0.000000   \n",
       "25%        2.000000     1.000000     1.000000     1.000000         1.000000   \n",
       "50%        3.000000     1.000000     1.000000     1.000000         1.000000   \n",
       "75%        4.000000     1.000000     2.000000     2.000000         2.000000   \n",
       "max       16.000000     8.000000     7.000000    15.000000        15.000000   \n",
       "\n",
       "       minimum_nights  maximum_nights        ...          number_of_reviews  \\\n",
       "count     3818.000000     3818.000000        ...                3818.000000   \n",
       "mean         2.369303      780.447617        ...                  22.223415   \n",
       "std         16.305902     1683.589007        ...                  37.730892   \n",
       "min          1.000000        1.000000        ...                   0.000000   \n",
       "25%          1.000000       60.000000        ...                   2.000000   \n",
       "50%          2.000000     1125.000000        ...                   9.000000   \n",
       "75%          2.000000     1125.000000        ...                  26.000000   \n",
       "max       1000.000000   100000.000000        ...                 474.000000   \n",
       "\n",
       "       review_scores_rating  review_scores_accuracy  \\\n",
       "count           3818.000000             3818.000000   \n",
       "mean              94.539262                9.636392   \n",
       "std                6.020223                0.635022   \n",
       "min               20.000000                2.000000   \n",
       "25%               94.000000                9.636392   \n",
       "50%               95.000000               10.000000   \n",
       "75%               98.000000               10.000000   \n",
       "max              100.000000               10.000000   \n",
       "\n",
       "       review_scores_cleanliness  review_scores_checkin  \\\n",
       "count                3818.000000            3818.000000   \n",
       "mean                    9.556398               9.786709   \n",
       "std                     0.725880               0.541745   \n",
       "min                     3.000000               2.000000   \n",
       "25%                     9.000000               9.786709   \n",
       "50%                    10.000000              10.000000   \n",
       "75%                    10.000000              10.000000   \n",
       "max                    10.000000              10.000000   \n",
       "\n",
       "       review_scores_communication  review_scores_location  \\\n",
       "count                  3818.000000             3818.000000   \n",
       "mean                      9.809599                9.608916   \n",
       "std                       0.517493                0.572542   \n",
       "min                       2.000000                4.000000   \n",
       "25%                       9.809599                9.000000   \n",
       "50%                      10.000000               10.000000   \n",
       "75%                      10.000000               10.000000   \n",
       "max                      10.000000               10.000000   \n",
       "\n",
       "       review_scores_value  calculated_host_listings_count  reviews_per_month  \n",
       "count          3818.000000                     3818.000000        3818.000000  \n",
       "mean              9.452245                        2.946307           2.078919  \n",
       "std               0.682751                        5.893029           1.665964  \n",
       "min               2.000000                        1.000000           0.020000  \n",
       "25%               9.000000                        1.000000           0.830000  \n",
       "50%               9.452245                        1.000000           2.000000  \n",
       "75%              10.000000                        2.000000           2.660000  \n",
       "max              10.000000                       37.000000          12.150000  \n",
       "\n",
       "[8 rows x 24 columns]"
      ]
     },
     "execution_count": 139,
     "metadata": {},
     "output_type": "execute_result"
    }
   ],
   "source": [
    "numerics = ['int16', 'int32', 'int64', 'float16', 'float32', 'float64']\n",
    "numlist = listings.select_dtypes(include=numerics)\n",
    "droplist = ['license', 'scrape_id','host_id','latitude','longitude','square_feet']\n",
    "numlist_ = numlist.drop(droplist,axis=1)\n",
    "numlist_ = numlist_.fillna(numlist.mean())\n",
    "\n",
    "\n",
    "numlist_.head()\n",
    "numlist_.describe()\n"
   ]
  },
  {
   "cell_type": "code",
   "execution_count": 141,
   "metadata": {
    "collapsed": false
   },
   "outputs": [
    {
     "name": "stdout",
     "output_type": "stream",
     "text": [
      "                            listing_url last_scraped  \\\n",
      "0   https://www.airbnb.com/rooms/241032   2016-01-04   \n",
      "1   https://www.airbnb.com/rooms/953595   2016-01-04   \n",
      "2  https://www.airbnb.com/rooms/3308979   2016-01-04   \n",
      "3  https://www.airbnb.com/rooms/7421966   2016-01-04   \n",
      "4   https://www.airbnb.com/rooms/278830   2016-01-04   \n",
      "\n",
      "                                  name  \\\n",
      "0         Stylish Queen Anne Apartment   \n",
      "1   Bright & Airy Queen Anne Apartment   \n",
      "2  New Modern House-Amazing water view   \n",
      "3                   Queen Anne Chateau   \n",
      "4       Charming craftsman 3 bdm house   \n",
      "\n",
      "                                             summary  \\\n",
      "0                                                NaN   \n",
      "1  Chemically sensitive? We've removed the irrita...   \n",
      "2  New modern house built in 2013.  Spectacular s...   \n",
      "3  A charming apartment that sits atop Queen Anne...   \n",
      "4  Cozy family craftman house in beautiful neighb...   \n",
      "\n",
      "                                               space  \\\n",
      "0  Make your self at home in this charming one-be...   \n",
      "1  Beautiful, hypoallergenic apartment in an extr...   \n",
      "2  Our house is modern, light and fresh with a wa...   \n",
      "3                                                NaN   \n",
      "4  Cozy family craftman house in beautiful neighb...   \n",
      "\n",
      "                                         description experiences_offered  \\\n",
      "0  Make your self at home in this charming one-be...                none   \n",
      "1  Chemically sensitive? We've removed the irrita...                none   \n",
      "2  New modern house built in 2013.  Spectacular s...                none   \n",
      "3  A charming apartment that sits atop Queen Anne...                none   \n",
      "4  Cozy family craftman house in beautiful neighb...                none   \n",
      "\n",
      "                               neighborhood_overview  \\\n",
      "0                                                NaN   \n",
      "1  Queen Anne is a wonderful, truly functional vi...   \n",
      "2  Upper Queen Anne is a charming neighborhood fu...   \n",
      "3                                                NaN   \n",
      "4  We are in the beautiful neighborhood of Queen ...   \n",
      "\n",
      "                                               notes  \\\n",
      "0                                                NaN   \n",
      "1  What's up with the free pillows?  Our home was...   \n",
      "2  Our house is located just 5 short blocks to To...   \n",
      "3                                                NaN   \n",
      "4                                          Belltown    \n",
      "\n",
      "                                             transit  \\\n",
      "0                                                NaN   \n",
      "1  Convenient bus stops are just down the block, ...   \n",
      "2  A bus stop is just 2 blocks away.   Easy bus a...   \n",
      "3                                                NaN   \n",
      "4  The nearest public transit bus (D Line) is 2 b...   \n",
      "\n",
      "                ...                has_availability calendar_last_scraped  \\\n",
      "0               ...                               t            2016-01-04   \n",
      "1               ...                               t            2016-01-04   \n",
      "2               ...                               t            2016-01-04   \n",
      "3               ...                               t            2016-01-04   \n",
      "4               ...                               t            2016-01-04   \n",
      "\n",
      "  first_review last_review requires_license jurisdiction_names  \\\n",
      "0   2011-11-01  2016-01-02                f         WASHINGTON   \n",
      "1   2013-08-19  2015-12-29                f         WASHINGTON   \n",
      "2   2014-07-30  2015-09-03                f         WASHINGTON   \n",
      "3          NaN         NaN                f         WASHINGTON   \n",
      "4   2012-07-10  2015-10-24                f         WASHINGTON   \n",
      "\n",
      "  instant_bookable cancellation_policy require_guest_profile_picture  \\\n",
      "0                f            moderate                             f   \n",
      "1                f              strict                             t   \n",
      "2                f              strict                             f   \n",
      "3                f            flexible                             f   \n",
      "4                f              strict                             f   \n",
      "\n",
      "  require_guest_phone_verification  \n",
      "0                                f  \n",
      "1                                t  \n",
      "2                                f  \n",
      "3                                f  \n",
      "4                                f  \n",
      "\n",
      "[5 rows x 62 columns]\n"
     ]
    }
   ],
   "source": [
    "obj_type = ['object']\n",
    "catlist = listings.select_dtypes(include=obj_type)\n",
    "#print(catlist.head())\n"
   ]
  },
  {
   "cell_type": "code",
   "execution_count": 142,
   "metadata": {
    "collapsed": true
   },
   "outputs": [],
   "source": [
    "catlist2 = catlist.iloc[:,19:]\n",
    "#square_feet have 97% of the null value in the data\n",
    "catlist2 = catlist2.drop(catlist2.columns[catlist2.apply(lambda col: col.isnull().mean() > 0.4)], axis=1)\n",
    "droplist = ['host_thumbnail_url','host_picture_url','city','state','country_code','country','calendar_last_scraped',\n",
    "            'first_review','last_review','jurisdiction_names','host_verifications','street','neighbourhood',\n",
    "           'neighbourhood_cleansed','market','zipcode','smart_location','calendar_updated','amenities','host_neighbourhood',\n",
    "           'cleaning_fee','extra_people']\n",
    "#no idea how to deal with amenities\n",
    "catlist3 = catlist2.drop(droplist,axis=1)"
   ]
  },
  {
   "cell_type": "code",
   "execution_count": 143,
   "metadata": {
    "collapsed": true
   },
   "outputs": [],
   "source": [
    "catlist3['host_response_rate'] = catlist3['host_response_rate'].str.rstrip('%').astype('float') / 100.0\n",
    "catlist3['host_response_rate'] = catlist3['host_response_rate'].fillna(catlist3['host_response_rate'].mean())\n",
    "catlist3['host_acceptance_rate'] = catlist3['host_acceptance_rate'].str.rstrip('%').astype('float') / 100.0\n",
    "catlist3['host_acceptance_rate'] = catlist3['host_acceptance_rate'].fillna(catlist3['host_acceptance_rate'].mean())\n",
    "catlist3[['price']] = catlist3[['price']].replace('[\\$,]','',regex=True).astype(float)"
   ]
  },
  {
   "cell_type": "code",
   "execution_count": 144,
   "metadata": {
    "collapsed": false
   },
   "outputs": [
    {
     "data": {
      "text/html": [
       "<div>\n",
       "<style>\n",
       "    .dataframe thead tr:only-child th {\n",
       "        text-align: right;\n",
       "    }\n",
       "\n",
       "    .dataframe thead th {\n",
       "        text-align: left;\n",
       "    }\n",
       "\n",
       "    .dataframe tbody tr th {\n",
       "        vertical-align: top;\n",
       "    }\n",
       "</style>\n",
       "<table border=\"1\" class=\"dataframe\">\n",
       "  <thead>\n",
       "    <tr style=\"text-align: right;\">\n",
       "      <th></th>\n",
       "      <th>host_response_time</th>\n",
       "      <th>host_response_rate</th>\n",
       "      <th>host_acceptance_rate</th>\n",
       "      <th>host_is_superhost</th>\n",
       "      <th>host_has_profile_pic</th>\n",
       "      <th>host_identity_verified</th>\n",
       "      <th>neighbourhood_group_cleansed</th>\n",
       "      <th>is_location_exact</th>\n",
       "      <th>property_type</th>\n",
       "      <th>room_type</th>\n",
       "      <th>bed_type</th>\n",
       "      <th>price</th>\n",
       "      <th>has_availability</th>\n",
       "      <th>requires_license</th>\n",
       "      <th>instant_bookable</th>\n",
       "      <th>cancellation_policy</th>\n",
       "      <th>require_guest_profile_picture</th>\n",
       "      <th>require_guest_phone_verification</th>\n",
       "    </tr>\n",
       "  </thead>\n",
       "  <tbody>\n",
       "    <tr>\n",
<<<<<<< HEAD
       "      <td>75%</td>\n",
       "      <td>1.000000</td>\n",
       "      <td>1.000000</td>\n",
       "      <td>3.000000</td>\n",
       "      <td>3.000000</td>\n",
       "      <td>4.000000</td>\n",
       "      <td>1.000000</td>\n",
       "      <td>2.000000</td>\n",
       "      <td>2.000000</td>\n",
       "      <td>150.000000</td>\n",
       "      <td>200.000000</td>\n",
       "      <td>...</td>\n",
       "      <td>26.000000</td>\n",
       "      <td>98.000000</td>\n",
       "      <td>10.000000</td>\n",
       "      <td>10.000000</td>\n",
       "      <td>10.000000</td>\n",
       "      <td>10.000000</td>\n",
       "      <td>10.000000</td>\n",
       "      <td>10.000000</td>\n",
       "      <td>2.000000</td>\n",
       "      <td>2.660000</td>\n",
       "    </tr>\n",
       "    <tr>\n",
       "      <td>max</td>\n",
       "      <td>1.000000</td>\n",
       "      <td>1.000000</td>\n",
       "      <td>502.000000</td>\n",
       "      <td>502.000000</td>\n",
       "      <td>16.000000</td>\n",
       "      <td>8.000000</td>\n",
       "      <td>7.000000</td>\n",
       "      <td>15.000000</td>\n",
       "      <td>1000.000000</td>\n",
       "      <td>5000.000000</td>\n",
       "      <td>...</td>\n",
       "      <td>474.000000</td>\n",
       "      <td>100.000000</td>\n",
       "      <td>10.000000</td>\n",
       "      <td>10.000000</td>\n",
       "      <td>10.000000</td>\n",
       "      <td>10.000000</td>\n",
       "      <td>10.000000</td>\n",
       "      <td>10.000000</td>\n",
       "      <td>37.000000</td>\n",
       "      <td>12.150000</td>\n",
=======
       "      <th>0</th>\n",
       "      <td>within a few hours</td>\n",
       "      <td>0.960000</td>\n",
       "      <td>1.000000</td>\n",
       "      <td>f</td>\n",
       "      <td>t</td>\n",
       "      <td>t</td>\n",
       "      <td>Queen Anne</td>\n",
       "      <td>t</td>\n",
       "      <td>Apartment</td>\n",
       "      <td>Entire home/apt</td>\n",
       "      <td>Real Bed</td>\n",
       "      <td>85.0</td>\n",
       "      <td>t</td>\n",
       "      <td>f</td>\n",
       "      <td>f</td>\n",
       "      <td>moderate</td>\n",
       "      <td>f</td>\n",
       "      <td>f</td>\n",
       "    </tr>\n",
       "    <tr>\n",
       "      <th>1</th>\n",
       "      <td>within an hour</td>\n",
       "      <td>0.980000</td>\n",
       "      <td>1.000000</td>\n",
       "      <td>t</td>\n",
       "      <td>t</td>\n",
       "      <td>t</td>\n",
       "      <td>Queen Anne</td>\n",
       "      <td>t</td>\n",
       "      <td>Apartment</td>\n",
       "      <td>Entire home/apt</td>\n",
       "      <td>Real Bed</td>\n",
       "      <td>150.0</td>\n",
       "      <td>t</td>\n",
       "      <td>f</td>\n",
       "      <td>f</td>\n",
       "      <td>strict</td>\n",
       "      <td>t</td>\n",
       "      <td>t</td>\n",
       "    </tr>\n",
       "    <tr>\n",
       "      <th>2</th>\n",
       "      <td>within a few hours</td>\n",
       "      <td>0.670000</td>\n",
       "      <td>1.000000</td>\n",
       "      <td>f</td>\n",
       "      <td>t</td>\n",
       "      <td>t</td>\n",
       "      <td>Queen Anne</td>\n",
       "      <td>t</td>\n",
       "      <td>House</td>\n",
       "      <td>Entire home/apt</td>\n",
       "      <td>Real Bed</td>\n",
       "      <td>975.0</td>\n",
       "      <td>t</td>\n",
       "      <td>f</td>\n",
       "      <td>f</td>\n",
       "      <td>strict</td>\n",
       "      <td>f</td>\n",
       "      <td>f</td>\n",
       "    </tr>\n",
       "    <tr>\n",
       "      <th>3</th>\n",
       "      <td>NaN</td>\n",
       "      <td>0.948868</td>\n",
       "      <td>0.999672</td>\n",
       "      <td>f</td>\n",
       "      <td>t</td>\n",
       "      <td>t</td>\n",
       "      <td>Queen Anne</td>\n",
       "      <td>t</td>\n",
       "      <td>Apartment</td>\n",
       "      <td>Entire home/apt</td>\n",
       "      <td>Real Bed</td>\n",
       "      <td>100.0</td>\n",
       "      <td>t</td>\n",
       "      <td>f</td>\n",
       "      <td>f</td>\n",
       "      <td>flexible</td>\n",
       "      <td>f</td>\n",
       "      <td>f</td>\n",
       "    </tr>\n",
       "    <tr>\n",
       "      <th>4</th>\n",
       "      <td>within an hour</td>\n",
       "      <td>1.000000</td>\n",
       "      <td>0.999672</td>\n",
       "      <td>f</td>\n",
       "      <td>t</td>\n",
       "      <td>t</td>\n",
       "      <td>Queen Anne</td>\n",
       "      <td>t</td>\n",
       "      <td>House</td>\n",
       "      <td>Entire home/apt</td>\n",
       "      <td>Real Bed</td>\n",
       "      <td>450.0</td>\n",
       "      <td>t</td>\n",
       "      <td>f</td>\n",
       "      <td>f</td>\n",
       "      <td>strict</td>\n",
       "      <td>f</td>\n",
       "      <td>f</td>\n",
>>>>>>> c1795c19fc1ac214015ba52bab0b4ed6dcf53448
       "    </tr>\n",
       "  </tbody>\n",
       "</table>\n",
       "<p>8 rows × 27 columns</p>\n",
       "</div>"
      ],
      "text/plain": [
<<<<<<< HEAD
       "       host_response_rate  host_acceptance_rate  host_listings_count  \\\n",
       "count         3818.000000           3818.000000          3818.000000   \n",
       "mean             0.948868              0.999672             7.157757   \n",
       "std              0.110238              0.016183            28.620648   \n",
       "min              0.170000              0.000000             1.000000   \n",
       "25%              0.948868              1.000000             1.000000   \n",
       "50%              1.000000              1.000000             1.000000   \n",
       "75%              1.000000              1.000000             3.000000   \n",
       "max              1.000000              1.000000           502.000000   \n",
       "\n",
       "       host_total_listings_count  accommodates    bathrooms     bedrooms  \\\n",
       "count                3818.000000   3818.000000  3818.000000  3818.000000   \n",
       "mean                    7.157757      3.349398     1.259469     1.307712   \n",
       "std                    28.620648      1.977599     0.589130     0.882700   \n",
       "min                     1.000000      1.000000     0.000000     0.000000   \n",
       "25%                     1.000000      2.000000     1.000000     1.000000   \n",
       "50%                     1.000000      3.000000     1.000000     1.000000   \n",
       "75%                     3.000000      4.000000     1.000000     2.000000   \n",
       "max                   502.000000     16.000000     8.000000     7.000000   \n",
       "\n",
       "              beds        price  security_deposit  ...  number_of_reviews  \\\n",
       "count  3818.000000  3818.000000       3818.000000  ...        3818.000000   \n",
       "mean      1.735394   127.976166        140.566003  ...          22.223415   \n",
       "std       1.139330    90.250022        237.387534  ...          37.730892   \n",
       "min       1.000000    20.000000          0.000000  ...           0.000000   \n",
       "25%       1.000000    75.000000          0.000000  ...           2.000000   \n",
       "50%       1.000000   100.000000          0.000000  ...           9.000000   \n",
       "75%       2.000000   150.000000        200.000000  ...          26.000000   \n",
       "max      15.000000  1000.000000       5000.000000  ...         474.000000   \n",
       "\n",
       "       review_scores_rating  review_scores_accuracy  \\\n",
       "count           3818.000000             3818.000000   \n",
       "mean              94.539262                9.636392   \n",
       "std                6.020223                0.635022   \n",
       "min               20.000000                2.000000   \n",
       "25%               94.000000                9.636392   \n",
       "50%               95.000000               10.000000   \n",
       "75%               98.000000               10.000000   \n",
       "max              100.000000               10.000000   \n",
       "\n",
       "       review_scores_cleanliness  review_scores_checkin  \\\n",
       "count                3818.000000            3818.000000   \n",
       "mean                    9.556398               9.786709   \n",
       "std                     0.725880               0.541745   \n",
       "min                     3.000000               2.000000   \n",
       "25%                     9.000000               9.786709   \n",
       "50%                    10.000000              10.000000   \n",
       "75%                    10.000000              10.000000   \n",
       "max                    10.000000              10.000000   \n",
       "\n",
       "       review_scores_communication  review_scores_location  \\\n",
       "count                  3818.000000             3818.000000   \n",
       "mean                      9.809599                9.608916   \n",
       "std                       0.517493                0.572542   \n",
       "min                       2.000000                4.000000   \n",
       "25%                       9.809599                9.000000   \n",
       "50%                      10.000000               10.000000   \n",
       "75%                      10.000000               10.000000   \n",
       "max                      10.000000               10.000000   \n",
       "\n",
       "       review_scores_value  calculated_host_listings_count  reviews_per_month  \n",
       "count          3818.000000                     3818.000000        3818.000000  \n",
       "mean              9.452245                        2.946307           2.078919  \n",
       "std               0.682751                        5.893029           1.665964  \n",
       "min               2.000000                        1.000000           0.020000  \n",
       "25%               9.000000                        1.000000           0.830000  \n",
       "50%               9.452245                        1.000000           2.000000  \n",
       "75%              10.000000                        2.000000           2.660000  \n",
       "max              10.000000                       37.000000          12.150000  \n",
       "\n",
       "[8 rows x 27 columns]"
      ]
     },
     "execution_count": 155,
=======
       "   host_response_time  host_response_rate  host_acceptance_rate  \\\n",
       "0  within a few hours            0.960000              1.000000   \n",
       "1      within an hour            0.980000              1.000000   \n",
       "2  within a few hours            0.670000              1.000000   \n",
       "3                 NaN            0.948868              0.999672   \n",
       "4      within an hour            1.000000              0.999672   \n",
       "\n",
       "  host_is_superhost host_has_profile_pic host_identity_verified  \\\n",
       "0                 f                    t                      t   \n",
       "1                 t                    t                      t   \n",
       "2                 f                    t                      t   \n",
       "3                 f                    t                      t   \n",
       "4                 f                    t                      t   \n",
       "\n",
       "  neighbourhood_group_cleansed is_location_exact property_type  \\\n",
       "0                   Queen Anne                 t     Apartment   \n",
       "1                   Queen Anne                 t     Apartment   \n",
       "2                   Queen Anne                 t         House   \n",
       "3                   Queen Anne                 t     Apartment   \n",
       "4                   Queen Anne                 t         House   \n",
       "\n",
       "         room_type  bed_type  price has_availability requires_license  \\\n",
       "0  Entire home/apt  Real Bed   85.0                t                f   \n",
       "1  Entire home/apt  Real Bed  150.0                t                f   \n",
       "2  Entire home/apt  Real Bed  975.0                t                f   \n",
       "3  Entire home/apt  Real Bed  100.0                t                f   \n",
       "4  Entire home/apt  Real Bed  450.0                t                f   \n",
       "\n",
       "  instant_bookable cancellation_policy require_guest_profile_picture  \\\n",
       "0                f            moderate                             f   \n",
       "1                f              strict                             t   \n",
       "2                f              strict                             f   \n",
       "3                f            flexible                             f   \n",
       "4                f              strict                             f   \n",
       "\n",
       "  require_guest_phone_verification  \n",
       "0                                f  \n",
       "1                                t  \n",
       "2                                f  \n",
       "3                                f  \n",
       "4                                f  "
      ]
     },
     "execution_count": 144,
>>>>>>> c1795c19fc1ac214015ba52bab0b4ed6dcf53448
     "metadata": {},
     "output_type": "execute_result"
    }
   ],
   "source": [
<<<<<<< HEAD
    "numerics = ['int16', 'int32', 'int64', 'float16', 'float32', 'float64']\n",
    "numlist = listings.select_dtypes(include=numerics)\n",
    "numlist_ = numlist.fillna(numlist.mean())\n",
    "numlist_.describe()\n"
=======
    "catlist3.head()"
   ]
  },
  {
   "cell_type": "code",
   "execution_count": 146,
   "metadata": {
    "collapsed": true
   },
   "outputs": [],
   "source": [
    "listdata = pd.concat([numlist_, catlist3], axis=1)\n",
    "category = ['object']\n",
    "catlist = listdata.select_dtypes(include=category)\n",
    "numlist3 = listdata.select_dtypes(include=numerics)\n",
    "catlist4 = catlist.apply(lambda col: col.fillna(col.mode()[0]),axis=1)\n",
    "listdata2 = pd.concat([numlist3, catlist4], axis=1)\n",
    "listdata3 = pd.get_dummies(listdata2)"
   ]
  },
  {
   "cell_type": "code",
   "execution_count": 147,
   "metadata": {
    "collapsed": false
   },
   "outputs": [
    {
     "data": {
      "text/plain": [
       "<matplotlib.axes._subplots.AxesSubplot at 0x14ab9e2c320>"
      ]
     },
     "execution_count": 147,
     "metadata": {},
     "output_type": "execute_result"
    },
    {
     "data": {
      "image/png": "iVBORw0KGgoAAAANSUhEUgAAAXoAAAD8CAYAAAB5Pm/hAAAABHNCSVQICAgIfAhkiAAAAAlwSFlz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\ngg==\n",
      "text/plain": [
       "<matplotlib.figure.Figure at 0x14ac3007d68>"
      ]
     },
     "metadata": {},
     "output_type": "display_data"
    }
   ],
   "source": [
    "listdata3['price'].hist(bins=100)"
   ]
  },
  {
   "cell_type": "code",
   "execution_count": 149,
   "metadata": {
    "collapsed": false
   },
   "outputs": [],
   "source": [
    "from sklearn.linear_model import LinearRegression\n",
    "from sklearn.model_selection import train_test_split\n",
    "from sklearn.preprocessing import StandardScaler\n",
    "from sklearn.ensemble import RandomForestRegressor\n",
    "from sklearn.ensemble import AdaBoostRegressor\n",
    "from sklearn import linear_model\n",
    "from sklearn.metrics import mean_squared_error\n",
    "from sklearn.metrics import r2_score\n",
    "import seaborn as sns\n",
    "\n",
    "\n",
    "X = listdata3.drop( ['price','id'] ,axis=1)\n",
    "y = listdata3['price']\n",
    "scaler = StandardScaler().fit(X)\n",
    "rescaledX = scaler.transform(X)"
   ]
  },
  {
   "cell_type": "code",
   "execution_count": 150,
   "metadata": {
    "collapsed": false
   },
   "outputs": [
    {
     "data": {
      "text/plain": [
       "[<matplotlib.lines.Line2D at 0x14abfc04240>]"
      ]
     },
     "execution_count": 150,
     "metadata": {},
     "output_type": "execute_result"
    },
    {
     "data": {
      "image/png": "iVBORw0KGgoAAAANSUhEUgAAAXcAAAD8CAYAAACMwORRAAAABHNCSVQICAgIfAhkiAAAAAlwSFlz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\ndxERH/r/6/ys74L3HTEAAAAASUVORK5CYII=\n",
      "text/plain": [
       "<matplotlib.figure.Figure at 0x14ac2d5c898>"
      ]
     },
     "metadata": {},
     "output_type": "display_data"
    }
   ],
   "source": [
    "from sklearn.decomposition import PCA\n",
    "explained_var = list()\n",
    "for i in range(1,90):\n",
    "    pca = PCA(n_components=i)\n",
    "    pca.fit(rescaledX)\n",
    "    explained_var.append(pca.explained_variance_ratio_.sum())\n",
    "x = np.arange(1, 90)\n",
    "expained_var = np.array(explained_var)\n",
    "plt.plot(x,explained_var)"
   ]
  },
  {
   "cell_type": "code",
   "execution_count": 151,
   "metadata": {
    "collapsed": false
   },
   "outputs": [
    {
     "data": {
      "text/plain": [
       "0.76731759880860007"
      ]
     },
     "execution_count": 151,
     "metadata": {},
     "output_type": "execute_result"
    }
   ],
   "source": [
    "pca = PCA(n_components=42) \n",
    "pca.fit(rescaledX)\n",
    "pcadata = pca.fit_transform(rescaledX)\n",
    "pca.explained_variance_ratio_.sum()"
   ]
  },
  {
   "cell_type": "code",
   "execution_count": 152,
   "metadata": {
    "collapsed": false
   },
   "outputs": [
    {
     "data": {
      "text/plain": [
       "LinearRegression(copy_X=True, fit_intercept=True, n_jobs=1, normalize=True)"
      ]
     },
     "execution_count": 152,
     "metadata": {},
     "output_type": "execute_result"
    }
   ],
   "source": [
    "X_train, X_test, y_train, y_test = train_test_split(pcadata, y, test_size=0.25, random_state=42)\n",
    "lnmodel = LinearRegression(normalize=True)\n",
    "lnmodel.fit(X_train,y_train)"
   ]
  },
  {
   "cell_type": "code",
   "execution_count": 153,
   "metadata": {
    "collapsed": false
   },
   "outputs": [
    {
     "name": "stdout",
     "output_type": "stream",
     "text": [
      "MSE train: 3565.882, test: 3521.115\n",
      "R^2 train: 0.558, test: 0.578\n"
     ]
    }
   ],
   "source": [
    "y_test_pred = lnmodel.predict(X_test)\n",
    "y_train_pred = lnmodel.predict(X_train)\n",
    "print('MSE train: %.3f, test: %.3f' % (\n",
    "        mean_squared_error(y_train, y_train_pred),\n",
    "        mean_squared_error(y_test, y_test_pred)))\n",
    "print('R^2 train: %.3f, test: %.3f' % (\n",
    "        r2_score(y_train, y_train_pred),\n",
    "        r2_score(y_test, y_test_pred)))"
   ]
  },
  {
   "cell_type": "code",
   "execution_count": 154,
   "metadata": {
    "collapsed": true
   },
   "outputs": [],
   "source": [
    "#Write a function to report performance of the model\n",
    "def model_perf(Xdata,component_low,component_high,model):\n",
    "    mse_train = list()\n",
    "    mse_test = list()\n",
    "    r2_train = list()\n",
    "    r2_test = list()\n",
    "    for i in range(component_low,component_high):\n",
    "        pca = PCA(n_components=i) \n",
    "        pca.fit(Xdata)\n",
    "        pcadata = pca.fit_transform(Xdata)\n",
    "        X_train, X_test, y_train, y_test = train_test_split(pcadata, y, test_size=0.25, random_state=42)\n",
    "        model.fit(X_train,y_train)\n",
    "        y_test_pred = model.predict(X_test)\n",
    "        y_train_pred = model.predict(X_train)\n",
    "        mse_train.append(mean_squared_error(y_train, y_train_pred))\n",
    "        mse_test.append(mean_squared_error(y_test, y_test_pred))\n",
    "        r2_train.append(r2_score(y_train, y_train_pred))\n",
    "        r2_test.append(r2_score(y_test, y_test_pred))\n",
    "    x = range(component_low,component_high)\n",
    "    plt.plot(x,mse_train,color='black')\n",
    "    plt.plot(x,mse_test,color='blue')\n",
    "    plt.show()"
   ]
  },
  {
   "cell_type": "code",
   "execution_count": 155,
   "metadata": {
    "collapsed": false
   },
   "outputs": [
    {
     "data": {
      "image/png": "iVBORw0KGgoAAAANSUhEUgAAAYEAAAD8CAYAAACRkhiPAAAABHNCSVQICAgIfAhkiAAAAAlwSFlz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\nF1YK2d1rAAAAAElFTkSuQmCC\n",
      "text/plain": [
       "<matplotlib.figure.Figure at 0x14ac1e96940>"
      ]
     },
     "metadata": {},
     "output_type": "display_data"
    }
   ],
   "source": [
    "lnmodel = LinearRegression(normalize=True)\n",
    "model_perf(rescaledX,20,55,lnmodel)"
   ]
  },
  {
   "cell_type": "code",
   "execution_count": 156,
   "metadata": {
    "collapsed": false
   },
   "outputs": [
    {
     "data": {
      "image/png": "iVBORw0KGgoAAAANSUhEUgAAAYEAAAD8CAYAAACRkhiPAAAABHNCSVQICAgIfAhkiAAAAAlwSFlz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\n",
      "text/plain": [
       "<matplotlib.figure.Figure at 0x14abfd11be0>"
      ]
     },
     "metadata": {},
     "output_type": "display_data"
    }
   ],
   "source": [
    "lassomodel = linear_model.Lasso(alpha=0.8)\n",
    "model_perf(rescaledX,20,55,lassomodel)"
   ]
  },
  {
   "cell_type": "code",
   "execution_count": 157,
   "metadata": {
    "collapsed": false
   },
   "outputs": [
    {
     "name": "stdout",
     "output_type": "stream",
     "text": [
      "MSE train: 3584.311, test: 3505.572\n",
      "R^2 train: 0.556, test: 0.580\n"
     ]
    }
   ],
   "source": [
    "pca = PCA(n_components=46) \n",
    "pca.fit(rescaledX)\n",
    "pcadata = pca.fit_transform(rescaledX)\n",
    "pca.explained_variance_ratio_.sum()\n",
    "lassomodel = linear_model.Lasso(alpha=0.8)\n",
    "lassomodel.fit(X_train, y_train)\n",
    "y_train_pred = lassomodel.predict(X_train)\n",
    "y_test_pred = lassomodel.predict(X_test)\n",
    "print('MSE train: %.3f, test: %.3f' % (\n",
    "        mean_squared_error(y_train, y_train_pred),\n",
    "        mean_squared_error(y_test, y_test_pred)))\n",
    "print('R^2 train: %.3f, test: %.3f' % (\n",
    "        r2_score(y_train, y_train_pred),\n",
    "        r2_score(y_test, y_test_pred)))"
>>>>>>> c1795c19fc1ac214015ba52bab0b4ed6dcf53448
   ]
  },
  {
   "cell_type": "code",
   "execution_count": 156,
   "metadata": {
    "collapsed": true
   },
   "outputs": [
    {
     "data": {
      "text/html": [
       "<div>\n",
       "<style scoped>\n",
       "    .dataframe tbody tr th:only-of-type {\n",
       "        vertical-align: middle;\n",
       "    }\n",
       "\n",
       "    .dataframe tbody tr th {\n",
       "        vertical-align: top;\n",
       "    }\n",
       "\n",
       "    .dataframe thead th {\n",
       "        text-align: right;\n",
       "    }\n",
       "</style>\n",
       "<table border=\"1\" class=\"dataframe\">\n",
       "  <thead>\n",
       "    <tr style=\"text-align: right;\">\n",
       "      <th></th>\n",
       "      <th>name</th>\n",
       "      <th>summary</th>\n",
       "      <th>space</th>\n",
       "      <th>description</th>\n",
       "      <th>neighborhood_overview</th>\n",
       "      <th>transit</th>\n",
       "      <th>host_response_time</th>\n",
       "      <th>host_is_superhost</th>\n",
       "      <th>host_neighbourhood</th>\n",
       "      <th>host_has_profile_pic</th>\n",
       "      <th>...</th>\n",
       "      <th>neighbourhood_group_cleansed</th>\n",
       "      <th>is_location_exact</th>\n",
       "      <th>property_type</th>\n",
       "      <th>room_type</th>\n",
       "      <th>bed_type</th>\n",
       "      <th>amenities</th>\n",
       "      <th>instant_bookable</th>\n",
       "      <th>cancellation_policy</th>\n",
       "      <th>require_guest_profile_picture</th>\n",
       "      <th>require_guest_phone_verification</th>\n",
       "    </tr>\n",
       "  </thead>\n",
       "  <tbody>\n",
       "    <tr>\n",
       "      <td>count</td>\n",
       "      <td>3818</td>\n",
       "      <td>3641</td>\n",
       "      <td>3249</td>\n",
       "      <td>3818</td>\n",
       "      <td>2786</td>\n",
       "      <td>2884</td>\n",
       "      <td>3295</td>\n",
       "      <td>3816</td>\n",
       "      <td>3518</td>\n",
       "      <td>3816</td>\n",
       "      <td>...</td>\n",
       "      <td>3818</td>\n",
       "      <td>3818</td>\n",
       "      <td>3817</td>\n",
       "      <td>3818</td>\n",
       "      <td>3818</td>\n",
       "      <td>3818</td>\n",
       "      <td>3818</td>\n",
       "      <td>3818</td>\n",
       "      <td>3818</td>\n",
       "      <td>3818</td>\n",
       "    </tr>\n",
       "    <tr>\n",
       "      <td>unique</td>\n",
       "      <td>3792</td>\n",
       "      <td>3478</td>\n",
       "      <td>3119</td>\n",
       "      <td>3742</td>\n",
       "      <td>2506</td>\n",
       "      <td>2574</td>\n",
       "      <td>4</td>\n",
       "      <td>2</td>\n",
       "      <td>102</td>\n",
       "      <td>2</td>\n",
       "      <td>...</td>\n",
       "      <td>17</td>\n",
       "      <td>2</td>\n",
       "      <td>16</td>\n",
       "      <td>3</td>\n",
       "      <td>5</td>\n",
       "      <td>3284</td>\n",
       "      <td>2</td>\n",
       "      <td>3</td>\n",
       "      <td>2</td>\n",
       "      <td>2</td>\n",
       "    </tr>\n",
       "    <tr>\n",
       "      <td>top</td>\n",
       "      <td>Capitol Hill Apartment</td>\n",
       "      <td>This is a modern fully-furnished studio apartm...</td>\n",
       "      <td>*Note: This fall, there will be major renovati...</td>\n",
       "      <td>Our space is a mix of a hostel and a home. We ...</td>\n",
       "      <td>Wallingford is a mostly-residential neighborho...</td>\n",
       "      <td>Convenient public transportation. The location...</td>\n",
       "      <td>within an hour</td>\n",
       "      <td>f</td>\n",
       "      <td>Capitol Hill</td>\n",
       "      <td>t</td>\n",
       "      <td>...</td>\n",
       "      <td>Other neighborhoods</td>\n",
       "      <td>t</td>\n",
       "      <td>House</td>\n",
       "      <td>Entire home/apt</td>\n",
       "      <td>Real Bed</td>\n",
       "      <td>{}</td>\n",
       "      <td>f</td>\n",
       "      <td>strict</td>\n",
       "      <td>f</td>\n",
       "      <td>f</td>\n",
       "    </tr>\n",
       "    <tr>\n",
       "      <td>freq</td>\n",
       "      <td>3</td>\n",
       "      <td>15</td>\n",
       "      <td>14</td>\n",
       "      <td>10</td>\n",
       "      <td>17</td>\n",
       "      <td>32</td>\n",
       "      <td>1692</td>\n",
       "      <td>3038</td>\n",
       "      <td>405</td>\n",
       "      <td>3809</td>\n",
       "      <td>...</td>\n",
       "      <td>794</td>\n",
       "      <td>3412</td>\n",
       "      <td>1733</td>\n",
       "      <td>2541</td>\n",
       "      <td>3657</td>\n",
       "      <td>45</td>\n",
       "      <td>3227</td>\n",
       "      <td>1417</td>\n",
       "      <td>3497</td>\n",
       "      <td>3443</td>\n",
       "    </tr>\n",
       "  </tbody>\n",
       "</table>\n",
       "<p>4 rows × 23 columns</p>\n",
       "</div>"
      ],
      "text/plain": [
       "                          name  \\\n",
       "count                     3818   \n",
       "unique                    3792   \n",
       "top     Capitol Hill Apartment   \n",
       "freq                         3   \n",
       "\n",
       "                                                  summary  \\\n",
       "count                                                3641   \n",
       "unique                                               3478   \n",
       "top     This is a modern fully-furnished studio apartm...   \n",
       "freq                                                   15   \n",
       "\n",
       "                                                    space  \\\n",
       "count                                                3249   \n",
       "unique                                               3119   \n",
       "top     *Note: This fall, there will be major renovati...   \n",
       "freq                                                   14   \n",
       "\n",
       "                                              description  \\\n",
       "count                                                3818   \n",
       "unique                                               3742   \n",
       "top     Our space is a mix of a hostel and a home. We ...   \n",
       "freq                                                   10   \n",
       "\n",
       "                                    neighborhood_overview  \\\n",
       "count                                                2786   \n",
       "unique                                               2506   \n",
       "top     Wallingford is a mostly-residential neighborho...   \n",
       "freq                                                   17   \n",
       "\n",
       "                                                  transit host_response_time  \\\n",
       "count                                                2884               3295   \n",
       "unique                                               2574                  4   \n",
       "top     Convenient public transportation. The location...     within an hour   \n",
       "freq                                                   32               1692   \n",
       "\n",
       "       host_is_superhost host_neighbourhood host_has_profile_pic  ...  \\\n",
       "count               3816               3518                 3816  ...   \n",
       "unique                 2                102                    2  ...   \n",
       "top                    f       Capitol Hill                    t  ...   \n",
       "freq                3038                405                 3809  ...   \n",
       "\n",
       "       neighbourhood_group_cleansed is_location_exact property_type  \\\n",
       "count                          3818              3818          3817   \n",
       "unique                           17                 2            16   \n",
       "top             Other neighborhoods                 t         House   \n",
       "freq                            794              3412          1733   \n",
       "\n",
       "              room_type  bed_type amenities instant_bookable  \\\n",
       "count              3818      3818      3818             3818   \n",
       "unique                3         5      3284                2   \n",
       "top     Entire home/apt  Real Bed        {}                f   \n",
       "freq               2541      3657        45             3227   \n",
       "\n",
       "       cancellation_policy require_guest_profile_picture  \\\n",
       "count                 3818                          3818   \n",
       "unique                   3                             2   \n",
       "top                 strict                             f   \n",
       "freq                  1417                          3497   \n",
       "\n",
       "       require_guest_phone_verification  \n",
       "count                              3818  \n",
       "unique                                2  \n",
       "top                                   f  \n",
       "freq                               3443  \n",
       "\n",
       "[4 rows x 23 columns]"
      ]
     },
     "execution_count": 156,
     "metadata": {},
     "output_type": "execute_result"
    }
   ],
   "source": [
    "obj_type = ['object']\n",
    "catlist = listings.select_dtypes(include=obj_type)\n",
    "catlist.describe()\n"
   ]
  },
  {
   "cell_type": "code",
<<<<<<< HEAD
   "execution_count": 165,
   "metadata": {},
   "outputs": [
    {
     "name": "stdout",
     "output_type": "stream",
     "text": [
      "column: name \t have unique value size:3792\n",
      "column: summary \t have unique value size:3479\n",
      "column: space \t have unique value size:3120\n",
      "column: description \t have unique value size:3742\n",
      "column: neighborhood_overview \t have unique value size:2507\n",
      "column: transit \t have unique value size:2575\n",
      "column: host_response_time \t have unique value size:5\n",
      "column: host_is_superhost \t have unique value size:3\n",
      "column: host_neighbourhood \t have unique value size:103\n",
      "column: host_has_profile_pic \t have unique value size:3\n",
      "column: host_identity_verified \t have unique value size:3\n",
      "column: neighbourhood \t have unique value size:82\n",
      "column: neighbourhood_cleansed \t have unique value size:87\n",
      "column: neighbourhood_group_cleansed \t have unique value size:17\n",
      "column: is_location_exact \t have unique value size:2\n",
      "column: property_type \t have unique value size:17\n",
      "column: room_type \t have unique value size:3\n",
      "column: bed_type \t have unique value size:5\n",
      "column: amenities \t have unique value size:3284\n",
      "column: instant_bookable \t have unique value size:2\n",
      "column: cancellation_policy \t have unique value size:3\n",
      "column: require_guest_profile_picture \t have unique value size:2\n",
      "column: require_guest_phone_verification \t have unique value size:2\n"
     ]
    }
   ],
   "source": [
    "for column in catlist.columns:\n",
    "    print(\"column: {} \\t have unique value size:{}\".format(column, len(catlist[column].unique()) ))\n",
    "          "
   ]
  },
  {
   "cell_type": "markdown",
   "metadata": {},
   "source": [
    "2.2 Categorical Data\n",
    "\n",
    "2.2.1 remove redundant object type columns\n",
    "\n",
    "such as  'name','summary','space','description','neighborhood_overview', 'transit', 'host_neighbourhood', \n",
    "'neighbourhood', 'neighbourhood_cleansed'\n",
    "\n",
    "their unique value count are too much.\n",
    "\n",
    "\n",
    "\n"
   ]
  },
  {
   "cell_type": "code",
   "execution_count": 167,
   "metadata": {},
   "outputs": [],
   "source": [
    "other_col_3 = ['name', 'summary', 'space', 'description','neighborhood_overview', 'transit', \n",
    "              'host_neighbourhood','neighbourhood', 'neighbourhood_cleansed' ]\n",
    "listings.drop(columns=other_col_3, inplace=True)\n",
    "\n"
   ]
  },
  {
   "cell_type": "code",
   "execution_count": 173,
   "metadata": {},
   "outputs": [
    {
     "data": {
      "text/html": [
       "<div>\n",
       "<style scoped>\n",
       "    .dataframe tbody tr th:only-of-type {\n",
       "        vertical-align: middle;\n",
       "    }\n",
       "\n",
       "    .dataframe tbody tr th {\n",
       "        vertical-align: top;\n",
       "    }\n",
       "\n",
       "    .dataframe thead th {\n",
       "        text-align: right;\n",
       "    }\n",
       "</style>\n",
       "<table border=\"1\" class=\"dataframe\">\n",
       "  <thead>\n",
       "    <tr style=\"text-align: right;\">\n",
       "      <th></th>\n",
       "      <th>host_response_time</th>\n",
       "      <th>host_is_superhost</th>\n",
       "      <th>host_has_profile_pic</th>\n",
       "      <th>host_identity_verified</th>\n",
       "      <th>neighbourhood_group_cleansed</th>\n",
       "      <th>is_location_exact</th>\n",
       "      <th>property_type</th>\n",
       "      <th>room_type</th>\n",
       "      <th>bed_type</th>\n",
       "      <th>amenities</th>\n",
       "      <th>instant_bookable</th>\n",
       "      <th>cancellation_policy</th>\n",
       "      <th>require_guest_profile_picture</th>\n",
       "      <th>require_guest_phone_verification</th>\n",
       "    </tr>\n",
       "  </thead>\n",
       "  <tbody>\n",
       "    <tr>\n",
       "      <td>count</td>\n",
       "      <td>3295</td>\n",
       "      <td>3816</td>\n",
       "      <td>3816</td>\n",
       "      <td>3816</td>\n",
       "      <td>3818</td>\n",
       "      <td>3818</td>\n",
       "      <td>3817</td>\n",
       "      <td>3818</td>\n",
       "      <td>3818</td>\n",
       "      <td>3818</td>\n",
       "      <td>3818</td>\n",
       "      <td>3818</td>\n",
       "      <td>3818</td>\n",
       "      <td>3818</td>\n",
       "    </tr>\n",
       "    <tr>\n",
       "      <td>unique</td>\n",
       "      <td>4</td>\n",
       "      <td>2</td>\n",
       "      <td>2</td>\n",
       "      <td>2</td>\n",
       "      <td>17</td>\n",
       "      <td>2</td>\n",
       "      <td>16</td>\n",
       "      <td>3</td>\n",
       "      <td>5</td>\n",
       "      <td>3284</td>\n",
       "      <td>2</td>\n",
       "      <td>3</td>\n",
       "      <td>2</td>\n",
       "      <td>2</td>\n",
       "    </tr>\n",
       "    <tr>\n",
       "      <td>top</td>\n",
       "      <td>within an hour</td>\n",
       "      <td>f</td>\n",
       "      <td>t</td>\n",
       "      <td>t</td>\n",
       "      <td>Other neighborhoods</td>\n",
       "      <td>t</td>\n",
       "      <td>House</td>\n",
       "      <td>Entire home/apt</td>\n",
       "      <td>Real Bed</td>\n",
       "      <td>{}</td>\n",
       "      <td>f</td>\n",
       "      <td>strict</td>\n",
       "      <td>f</td>\n",
       "      <td>f</td>\n",
       "    </tr>\n",
       "    <tr>\n",
       "      <td>freq</td>\n",
       "      <td>1692</td>\n",
       "      <td>3038</td>\n",
       "      <td>3809</td>\n",
       "      <td>2997</td>\n",
       "      <td>794</td>\n",
       "      <td>3412</td>\n",
       "      <td>1733</td>\n",
       "      <td>2541</td>\n",
       "      <td>3657</td>\n",
       "      <td>45</td>\n",
       "      <td>3227</td>\n",
       "      <td>1417</td>\n",
       "      <td>3497</td>\n",
       "      <td>3443</td>\n",
       "    </tr>\n",
       "  </tbody>\n",
       "</table>\n",
       "</div>"
      ],
      "text/plain": [
       "       host_response_time host_is_superhost host_has_profile_pic  \\\n",
       "count                3295              3816                 3816   \n",
       "unique                  4                 2                    2   \n",
       "top        within an hour                 f                    t   \n",
       "freq                 1692              3038                 3809   \n",
       "\n",
       "       host_identity_verified neighbourhood_group_cleansed is_location_exact  \\\n",
       "count                    3816                         3818              3818   \n",
       "unique                      2                           17                 2   \n",
       "top                         t          Other neighborhoods                 t   \n",
       "freq                     2997                          794              3412   \n",
       "\n",
       "       property_type        room_type  bed_type amenities instant_bookable  \\\n",
       "count           3817             3818      3818      3818             3818   \n",
       "unique            16                3         5      3284                2   \n",
       "top            House  Entire home/apt  Real Bed        {}                f   \n",
       "freq            1733             2541      3657        45             3227   \n",
       "\n",
       "       cancellation_policy require_guest_profile_picture  \\\n",
       "count                 3818                          3818   \n",
       "unique                   3                             2   \n",
       "top                 strict                             f   \n",
       "freq                  1417                          3497   \n",
       "\n",
       "       require_guest_phone_verification  \n",
       "count                              3818  \n",
       "unique                                2  \n",
       "top                                   f  \n",
       "freq                               3443  "
      ]
     },
     "execution_count": 173,
     "metadata": {},
     "output_type": "execute_result"
    }
   ],
   "source": [
    "category = ['object']\n",
    "catlist = listings.select_dtypes(include=category)\n",
    "catlist.describe()"
   ]
  },
  {
   "cell_type": "code",
   "execution_count": 174,
   "metadata": {},
   "outputs": [
    {
     "name": "stderr",
     "output_type": "stream",
     "text": [
      "D:\\ProgramData\\Anaconda3\\lib\\site-packages\\ipykernel_launcher.py:4: SettingWithCopyWarning: \n",
      "A value is trying to be set on a copy of a slice from a DataFrame.\n",
      "Try using .loc[row_indexer,col_indexer] = value instead\n",
      "\n",
      "See the caveats in the documentation: http://pandas.pydata.org/pandas-docs/stable/user_guide/indexing.html#returning-a-view-versus-a-copy\n",
      "  after removing the cwd from sys.path.\n"
     ]
    }
   ],
   "source": [
    "#encode categorical variables\n",
    "binary_cols = ['host_is_superhost','host_has_profile_pic','host_identity_verified','is_location_exact',\n",
    "             'instant_bookable', 'require_guest_profile_picture','require_guest_phone_verification']\n",
    "catlist[binary_cols] = np.where(catlist[binary_cols]=='t', 1, 0)\n",
    "\n",
    "encode_cols = ['host_response_time','neighbourhood_group_cleansed',\n",
    "             'property_type','room_type','bed_type','cancellation_policy']\n",
    "\n",
    "catlist = pd.get_dummies(data=catlist, columns=encode_cols,drop_first=True)"
   ]
  },
  {
   "cell_type": "markdown",
   "metadata": {},
   "source": [
    " 2.2.2 about amenities\n",
    "\n",
    "split all the amenites into key words, and remove the punctuation;\n",
    "create key words columns list;"
   ]
  },
  {
   "cell_type": "code",
   "execution_count": 223,
   "metadata": {},
   "outputs": [
    {
     "name": "stdout",
     "output_type": "stream",
     "text": [
      "41 ['TV', '\"Cable TV\"', 'Internet', '\"Wireless Internet\"', '\"Air Conditioning\"', 'Kitchen', 'Heating', '\"Family/Kid Friendly\"', 'Washer', 'Dryer', '\"Free Parking on Premises\"', '\"Buzzer/Wireless Intercom\"', '\"Smoke Detector\"', '\"Carbon Monoxide Detector\"', '\"First Aid Kit\"', '\"Safety Card\"', '\"Fire Extinguisher\"', 'Essentials', '\"Pets Allowed\"', '\"Pets live on this property\"', 'Dog(s)', 'Cat(s)', '\"Hot Tub\"', '\"Indoor Fireplace\"', 'Shampoo', 'Breakfast', '\"24-Hour Check-in\"', 'Hangers', '\"Hair Dryer\"', 'Iron', '\"Laptop Friendly Workspace\"', '\"Suitable for Events\"', '\"Elevator in Building\"', '\"Lock on Bedroom Door\"', '\"Wheelchair Accessible\"', 'Gym', 'Pool', '\"Smoking Allowed\"', '\"Other pet(s)\"', 'Doorman', '\"Washer / Dryer\"']\n"
     ]
    }
   ],
   "source": [
    "def str_to_key_words( str_obj):\n",
    "    result = str(str_obj).replace(\"{\", '')\n",
    "    result = str(result ).replace(\"}\", '')\n",
    "    result = result.split(',')\n",
    "    return result\n",
    "\n",
    "amenities_df = catlist['amenities']\n",
    "\n",
    "amenities_array=catlist['amenities'].apply(str_to_key_words)\n",
    "amenities_df.head()\n",
    "\n",
    "amenities_key_words = []\n",
    "for i in range(0, len(amenities_array)):\n",
    "    for j in range(len(amenities_array[i])):\n",
    "        if amenities_array[i][j] not in amenities_key_words:\n",
    "            amenities_key_words.append(amenities_array[i][j])\n",
    "            \n",
    "\n",
    "amenities_key_words.remove('')\n",
    "print(len(amenities_key_words),amenities_key_words)\n"
   ]
  },
  {
   "cell_type": "code",
   "execution_count": 220,
   "metadata": {
    "scrolled": true
   },
   "outputs": [
    {
     "name": "stdout",
     "output_type": "stream",
     "text": [
      "TV 2741\n",
      "\"Cable TV\" 1446\n",
      "Internet 3692\n",
      "\"Wireless Internet\" 3667\n",
      "\"Air Conditioning\" 677\n",
      "Kitchen 3423\n",
      "Heating 3627\n",
      "\"Family/Kid Friendly\" 1963\n",
      "Washer 2992\n",
      "Dryer 3114\n",
      "\"Free Parking on Premises\" 2167\n",
      "\"Buzzer/Wireless Intercom\" 538\n",
      "\"Smoke Detector\" 3281\n",
      "\"Carbon Monoxide Detector\" 2485\n",
      "\"First Aid Kit\" 1680\n",
      "\"Safety Card\" 727\n",
      "\"Fire Extinguisher\" 2196\n",
      "Essentials 3237\n",
      "\"Pets Allowed\" 472\n",
      "\"Pets live on this property\" 883\n",
      "Dog(s) 509\n",
      "Cat(s) 382\n",
      "\"Hot Tub\" 303\n",
      "\"Indoor Fireplace\" 886\n",
      "Shampoo 2670\n",
      "Breakfast 291\n",
      "\"24-Hour Check-in\" 616\n",
      "Hangers 846\n",
      "\"Hair Dryer\" 774\n",
      "Iron 742\n",
      "\"Laptop Friendly Workspace\" 745\n",
      "\"Suitable for Events\" 209\n",
      "\"Elevator in Building\" 785\n",
      "\"Lock on Bedroom Door\" 100\n",
      "\"Wheelchair Accessible\" 300\n",
      "Gym 442\n",
      "Pool 159\n",
      "\"Smoking Allowed\" 82\n",
      "\"Other pet(s)\" 51\n",
      "Doorman 85\n",
      "\"Washer / Dryer\" 2\n"
     ]
    }
   ],
   "source": [
    "amenities_dic = {}\n",
    "for i in range(len(amenities_key_words)):\n",
    "    amenities_dic[amenities_key_words[i]] = []\n",
    "    for j in range(len(amenities_df)):\n",
    "        if amenities_key_words[i] in amenities_df[j]:\n",
    "            amenities_dic[amenities_key_words[i]] .append(1)\n",
    "        else:\n",
    "            amenities_dic[amenities_key_words[i]] .append(0)\n",
    "    print(amenities_key_words[i],sum(amenities_dic[amenities_key_words[i]]))\n",
    "    "
   ]
  },
  {
   "cell_type": "code",
   "execution_count": 224,
   "metadata": {},
   "outputs": [
    {
     "data": {
      "text/html": [
       "<div>\n",
       "<style scoped>\n",
       "    .dataframe tbody tr th:only-of-type {\n",
       "        vertical-align: middle;\n",
       "    }\n",
       "\n",
       "    .dataframe tbody tr th {\n",
       "        vertical-align: top;\n",
       "    }\n",
       "\n",
       "    .dataframe thead th {\n",
       "        text-align: right;\n",
       "    }\n",
       "</style>\n",
       "<table border=\"1\" class=\"dataframe\">\n",
       "  <thead>\n",
       "    <tr style=\"text-align: right;\">\n",
       "      <th></th>\n",
       "      <th>TV</th>\n",
       "      <th>\"Cable TV\"</th>\n",
       "      <th>Internet</th>\n",
       "      <th>\"Wireless Internet\"</th>\n",
       "      <th>\"Air Conditioning\"</th>\n",
       "      <th>Kitchen</th>\n",
       "      <th>Heating</th>\n",
       "      <th>\"Family/Kid Friendly\"</th>\n",
       "      <th>Washer</th>\n",
       "      <th>Dryer</th>\n",
       "      <th>...</th>\n",
       "      <th>\"Suitable for Events\"</th>\n",
       "      <th>\"Elevator in Building\"</th>\n",
       "      <th>\"Lock on Bedroom Door\"</th>\n",
       "      <th>\"Wheelchair Accessible\"</th>\n",
       "      <th>Gym</th>\n",
       "      <th>Pool</th>\n",
       "      <th>\"Smoking Allowed\"</th>\n",
       "      <th>\"Other pet(s)\"</th>\n",
       "      <th>Doorman</th>\n",
       "      <th>\"Washer / Dryer\"</th>\n",
       "    </tr>\n",
       "  </thead>\n",
       "  <tbody>\n",
       "    <tr>\n",
       "      <td>0</td>\n",
       "      <td>1</td>\n",
       "      <td>1</td>\n",
       "      <td>1</td>\n",
       "      <td>1</td>\n",
       "      <td>1</td>\n",
       "      <td>1</td>\n",
       "      <td>1</td>\n",
       "      <td>1</td>\n",
       "      <td>1</td>\n",
       "      <td>1</td>\n",
       "      <td>...</td>\n",
       "      <td>0</td>\n",
       "      <td>0</td>\n",
       "      <td>0</td>\n",
       "      <td>0</td>\n",
       "      <td>0</td>\n",
       "      <td>0</td>\n",
       "      <td>0</td>\n",
       "      <td>0</td>\n",
       "      <td>0</td>\n",
       "      <td>0</td>\n",
       "    </tr>\n",
       "    <tr>\n",
       "      <td>1</td>\n",
       "      <td>1</td>\n",
       "      <td>0</td>\n",
       "      <td>1</td>\n",
       "      <td>1</td>\n",
       "      <td>0</td>\n",
       "      <td>1</td>\n",
       "      <td>1</td>\n",
       "      <td>1</td>\n",
       "      <td>1</td>\n",
       "      <td>1</td>\n",
       "      <td>...</td>\n",
       "      <td>0</td>\n",
       "      <td>0</td>\n",
       "      <td>0</td>\n",
       "      <td>0</td>\n",
       "      <td>0</td>\n",
       "      <td>0</td>\n",
       "      <td>0</td>\n",
       "      <td>0</td>\n",
       "      <td>0</td>\n",
       "      <td>0</td>\n",
       "    </tr>\n",
       "    <tr>\n",
       "      <td>2</td>\n",
       "      <td>1</td>\n",
       "      <td>1</td>\n",
       "      <td>1</td>\n",
       "      <td>1</td>\n",
       "      <td>1</td>\n",
       "      <td>1</td>\n",
       "      <td>1</td>\n",
       "      <td>1</td>\n",
       "      <td>1</td>\n",
       "      <td>1</td>\n",
       "      <td>...</td>\n",
       "      <td>0</td>\n",
       "      <td>0</td>\n",
       "      <td>0</td>\n",
       "      <td>0</td>\n",
       "      <td>0</td>\n",
       "      <td>0</td>\n",
       "      <td>0</td>\n",
       "      <td>0</td>\n",
       "      <td>0</td>\n",
       "      <td>0</td>\n",
       "    </tr>\n",
       "    <tr>\n",
       "      <td>3</td>\n",
       "      <td>0</td>\n",
       "      <td>0</td>\n",
       "      <td>1</td>\n",
       "      <td>1</td>\n",
       "      <td>0</td>\n",
       "      <td>1</td>\n",
       "      <td>1</td>\n",
       "      <td>1</td>\n",
       "      <td>1</td>\n",
       "      <td>1</td>\n",
       "      <td>...</td>\n",
       "      <td>0</td>\n",
       "      <td>0</td>\n",
       "      <td>0</td>\n",
       "      <td>0</td>\n",
       "      <td>0</td>\n",
       "      <td>0</td>\n",
       "      <td>0</td>\n",
       "      <td>0</td>\n",
       "      <td>0</td>\n",
       "      <td>0</td>\n",
       "    </tr>\n",
       "    <tr>\n",
       "      <td>4</td>\n",
       "      <td>1</td>\n",
       "      <td>1</td>\n",
       "      <td>1</td>\n",
       "      <td>1</td>\n",
       "      <td>0</td>\n",
       "      <td>1</td>\n",
       "      <td>1</td>\n",
       "      <td>1</td>\n",
       "      <td>0</td>\n",
       "      <td>0</td>\n",
       "      <td>...</td>\n",
       "      <td>0</td>\n",
       "      <td>0</td>\n",
       "      <td>0</td>\n",
       "      <td>0</td>\n",
       "      <td>0</td>\n",
       "      <td>0</td>\n",
       "      <td>0</td>\n",
       "      <td>0</td>\n",
       "      <td>0</td>\n",
       "      <td>0</td>\n",
       "    </tr>\n",
       "  </tbody>\n",
       "</table>\n",
       "<p>5 rows × 41 columns</p>\n",
       "</div>"
      ],
      "text/plain": [
       "   TV  \"Cable TV\"  Internet  \"Wireless Internet\"  \"Air Conditioning\"  Kitchen  \\\n",
       "0   1           1         1                    1                   1        1   \n",
       "1   1           0         1                    1                   0        1   \n",
       "2   1           1         1                    1                   1        1   \n",
       "3   0           0         1                    1                   0        1   \n",
       "4   1           1         1                    1                   0        1   \n",
       "\n",
       "   Heating  \"Family/Kid Friendly\"  Washer  Dryer  ...  \"Suitable for Events\"  \\\n",
       "0        1                      1       1      1  ...                      0   \n",
       "1        1                      1       1      1  ...                      0   \n",
       "2        1                      1       1      1  ...                      0   \n",
       "3        1                      1       1      1  ...                      0   \n",
       "4        1                      1       0      0  ...                      0   \n",
       "\n",
       "   \"Elevator in Building\"  \"Lock on Bedroom Door\"  \"Wheelchair Accessible\"  \\\n",
       "0                       0                       0                        0   \n",
       "1                       0                       0                        0   \n",
       "2                       0                       0                        0   \n",
       "3                       0                       0                        0   \n",
       "4                       0                       0                        0   \n",
       "\n",
       "   Gym  Pool  \"Smoking Allowed\"  \"Other pet(s)\"  Doorman  \"Washer / Dryer\"  \n",
       "0    0     0                  0               0        0                 0  \n",
       "1    0     0                  0               0        0                 0  \n",
       "2    0     0                  0               0        0                 0  \n",
       "3    0     0                  0               0        0                 0  \n",
       "4    0     0                  0               0        0                 0  \n",
       "\n",
       "[5 rows x 41 columns]"
      ]
     },
     "execution_count": 224,
     "metadata": {},
     "output_type": "execute_result"
    }
   ],
   "source": [
    "amenities_dummies = pd.DataFrame(amenities_dic)\n",
    "amenities_dummies.head()"
   ]
  },
  {
   "cell_type": "code",
   "execution_count": 225,
   "metadata": {},
   "outputs": [
    {
     "ename": "ValueError",
     "evalue": "columns overlap but no suffix specified: Index(['TV', '\"Cable TV\"', 'Internet', '\"Wireless Internet\"',\n       '\"Air Conditioning\"', 'Kitchen', 'Heating', '\"Family/Kid Friendly\"',\n       'Washer', 'Dryer', '\"Free Parking on Premises\"',\n       '\"Buzzer/Wireless Intercom\"', '\"Smoke Detector\"',\n       '\"Carbon Monoxide Detector\"', '\"First Aid Kit\"', '\"Safety Card\"',\n       '\"Fire Extinguisher\"', 'Essentials', '\"Pets Allowed\"',\n       '\"Pets live on this property\"', 'Dog(s)', 'Cat(s)', '\"Hot Tub\"',\n       '\"Indoor Fireplace\"', 'Shampoo', 'Breakfast', '\"24-Hour Check-in\"',\n       'Hangers', '\"Hair Dryer\"', 'Iron', '\"Laptop Friendly Workspace\"',\n       '\"Suitable for Events\"', '\"Elevator in Building\"',\n       '\"Lock on Bedroom Door\"', '\"Wheelchair Accessible\"', 'Gym', 'Pool',\n       '\"Smoking Allowed\"', '\"Other pet(s)\"', 'Doorman', '\"Washer / Dryer\"'],\n      dtype='object')",
     "output_type": "error",
     "traceback": [
      "\u001b[1;31m---------------------------------------------------------------------------\u001b[0m",
      "\u001b[1;31mValueError\u001b[0m                                Traceback (most recent call last)",
      "\u001b[1;32m<ipython-input-225-92f113cc0334>\u001b[0m in \u001b[0;36m<module>\u001b[1;34m\u001b[0m\n\u001b[1;32m----> 1\u001b[1;33m \u001b[0mcatlist\u001b[0m \u001b[1;33m=\u001b[0m \u001b[0mcatlist\u001b[0m\u001b[1;33m.\u001b[0m\u001b[0mjoin\u001b[0m\u001b[1;33m(\u001b[0m\u001b[0mamenities_dummies\u001b[0m\u001b[1;33m,\u001b[0m \u001b[0mhow\u001b[0m\u001b[1;33m=\u001b[0m\u001b[1;34m'left'\u001b[0m\u001b[1;33m)\u001b[0m\u001b[1;33m\u001b[0m\u001b[1;33m\u001b[0m\u001b[0m\n\u001b[0m\u001b[0;32m      2\u001b[0m \u001b[0mlistings_clean\u001b[0m \u001b[1;33m=\u001b[0m \u001b[0mpd\u001b[0m\u001b[1;33m.\u001b[0m\u001b[0mconcat\u001b[0m\u001b[1;33m(\u001b[0m\u001b[1;33m[\u001b[0m\u001b[0mnumlist_\u001b[0m\u001b[1;33m,\u001b[0m \u001b[0mcatlist\u001b[0m\u001b[1;33m]\u001b[0m\u001b[1;33m,\u001b[0m \u001b[0maxis\u001b[0m\u001b[1;33m=\u001b[0m\u001b[1;36m1\u001b[0m\u001b[1;33m)\u001b[0m\u001b[1;33m\u001b[0m\u001b[1;33m\u001b[0m\u001b[0m\n\u001b[0;32m      3\u001b[0m \u001b[0mlistings_clean\u001b[0m\u001b[1;33m.\u001b[0m\u001b[0mcolumns\u001b[0m\u001b[1;33m\u001b[0m\u001b[1;33m\u001b[0m\u001b[0m\n",
      "\u001b[1;32mD:\\ProgramData\\Anaconda3\\lib\\site-packages\\pandas\\core\\frame.py\u001b[0m in \u001b[0;36mjoin\u001b[1;34m(self, other, on, how, lsuffix, rsuffix, sort)\u001b[0m\n\u001b[0;32m   7244\u001b[0m         \u001b[1;31m# For SparseDataFrame's benefit\u001b[0m\u001b[1;33m\u001b[0m\u001b[1;33m\u001b[0m\u001b[1;33m\u001b[0m\u001b[0m\n\u001b[0;32m   7245\u001b[0m         return self._join_compat(\n\u001b[1;32m-> 7246\u001b[1;33m             \u001b[0mother\u001b[0m\u001b[1;33m,\u001b[0m \u001b[0mon\u001b[0m\u001b[1;33m=\u001b[0m\u001b[0mon\u001b[0m\u001b[1;33m,\u001b[0m \u001b[0mhow\u001b[0m\u001b[1;33m=\u001b[0m\u001b[0mhow\u001b[0m\u001b[1;33m,\u001b[0m \u001b[0mlsuffix\u001b[0m\u001b[1;33m=\u001b[0m\u001b[0mlsuffix\u001b[0m\u001b[1;33m,\u001b[0m \u001b[0mrsuffix\u001b[0m\u001b[1;33m=\u001b[0m\u001b[0mrsuffix\u001b[0m\u001b[1;33m,\u001b[0m \u001b[0msort\u001b[0m\u001b[1;33m=\u001b[0m\u001b[0msort\u001b[0m\u001b[1;33m\u001b[0m\u001b[1;33m\u001b[0m\u001b[0m\n\u001b[0m\u001b[0;32m   7247\u001b[0m         )\n\u001b[0;32m   7248\u001b[0m \u001b[1;33m\u001b[0m\u001b[0m\n",
      "\u001b[1;32mD:\\ProgramData\\Anaconda3\\lib\\site-packages\\pandas\\core\\frame.py\u001b[0m in \u001b[0;36m_join_compat\u001b[1;34m(self, other, on, how, lsuffix, rsuffix, sort)\u001b[0m\n\u001b[0;32m   7267\u001b[0m                 \u001b[0mright_index\u001b[0m\u001b[1;33m=\u001b[0m\u001b[1;32mTrue\u001b[0m\u001b[1;33m,\u001b[0m\u001b[1;33m\u001b[0m\u001b[1;33m\u001b[0m\u001b[0m\n\u001b[0;32m   7268\u001b[0m                 \u001b[0msuffixes\u001b[0m\u001b[1;33m=\u001b[0m\u001b[1;33m(\u001b[0m\u001b[0mlsuffix\u001b[0m\u001b[1;33m,\u001b[0m \u001b[0mrsuffix\u001b[0m\u001b[1;33m)\u001b[0m\u001b[1;33m,\u001b[0m\u001b[1;33m\u001b[0m\u001b[1;33m\u001b[0m\u001b[0m\n\u001b[1;32m-> 7269\u001b[1;33m                 \u001b[0msort\u001b[0m\u001b[1;33m=\u001b[0m\u001b[0msort\u001b[0m\u001b[1;33m,\u001b[0m\u001b[1;33m\u001b[0m\u001b[1;33m\u001b[0m\u001b[0m\n\u001b[0m\u001b[0;32m   7270\u001b[0m             )\n\u001b[0;32m   7271\u001b[0m         \u001b[1;32melse\u001b[0m\u001b[1;33m:\u001b[0m\u001b[1;33m\u001b[0m\u001b[1;33m\u001b[0m\u001b[0m\n",
      "\u001b[1;32mD:\\ProgramData\\Anaconda3\\lib\\site-packages\\pandas\\core\\reshape\\merge.py\u001b[0m in \u001b[0;36mmerge\u001b[1;34m(left, right, how, on, left_on, right_on, left_index, right_index, sort, suffixes, copy, indicator, validate)\u001b[0m\n\u001b[0;32m     81\u001b[0m         \u001b[0mvalidate\u001b[0m\u001b[1;33m=\u001b[0m\u001b[0mvalidate\u001b[0m\u001b[1;33m,\u001b[0m\u001b[1;33m\u001b[0m\u001b[1;33m\u001b[0m\u001b[0m\n\u001b[0;32m     82\u001b[0m     )\n\u001b[1;32m---> 83\u001b[1;33m     \u001b[1;32mreturn\u001b[0m \u001b[0mop\u001b[0m\u001b[1;33m.\u001b[0m\u001b[0mget_result\u001b[0m\u001b[1;33m(\u001b[0m\u001b[1;33m)\u001b[0m\u001b[1;33m\u001b[0m\u001b[1;33m\u001b[0m\u001b[0m\n\u001b[0m\u001b[0;32m     84\u001b[0m \u001b[1;33m\u001b[0m\u001b[0m\n\u001b[0;32m     85\u001b[0m \u001b[1;33m\u001b[0m\u001b[0m\n",
      "\u001b[1;32mD:\\ProgramData\\Anaconda3\\lib\\site-packages\\pandas\\core\\reshape\\merge.py\u001b[0m in \u001b[0;36mget_result\u001b[1;34m(self)\u001b[0m\n\u001b[0;32m    646\u001b[0m \u001b[1;33m\u001b[0m\u001b[0m\n\u001b[0;32m    647\u001b[0m         llabels, rlabels = _items_overlap_with_suffix(\n\u001b[1;32m--> 648\u001b[1;33m             \u001b[0mldata\u001b[0m\u001b[1;33m.\u001b[0m\u001b[0mitems\u001b[0m\u001b[1;33m,\u001b[0m \u001b[0mlsuf\u001b[0m\u001b[1;33m,\u001b[0m \u001b[0mrdata\u001b[0m\u001b[1;33m.\u001b[0m\u001b[0mitems\u001b[0m\u001b[1;33m,\u001b[0m \u001b[0mrsuf\u001b[0m\u001b[1;33m\u001b[0m\u001b[1;33m\u001b[0m\u001b[0m\n\u001b[0m\u001b[0;32m    649\u001b[0m         )\n\u001b[0;32m    650\u001b[0m \u001b[1;33m\u001b[0m\u001b[0m\n",
      "\u001b[1;32mD:\\ProgramData\\Anaconda3\\lib\\site-packages\\pandas\\core\\reshape\\merge.py\u001b[0m in \u001b[0;36m_items_overlap_with_suffix\u001b[1;34m(left, lsuffix, right, rsuffix)\u001b[0m\n\u001b[0;32m   2009\u001b[0m         raise ValueError(\n\u001b[0;32m   2010\u001b[0m             \u001b[1;34m\"columns overlap but no suffix specified: \"\u001b[0m\u001b[1;33m\u001b[0m\u001b[1;33m\u001b[0m\u001b[0m\n\u001b[1;32m-> 2011\u001b[1;33m             \u001b[1;34m\"{rename}\"\u001b[0m\u001b[1;33m.\u001b[0m\u001b[0mformat\u001b[0m\u001b[1;33m(\u001b[0m\u001b[0mrename\u001b[0m\u001b[1;33m=\u001b[0m\u001b[0mto_rename\u001b[0m\u001b[1;33m)\u001b[0m\u001b[1;33m\u001b[0m\u001b[1;33m\u001b[0m\u001b[0m\n\u001b[0m\u001b[0;32m   2012\u001b[0m         )\n\u001b[0;32m   2013\u001b[0m \u001b[1;33m\u001b[0m\u001b[0m\n",
      "\u001b[1;31mValueError\u001b[0m: columns overlap but no suffix specified: Index(['TV', '\"Cable TV\"', 'Internet', '\"Wireless Internet\"',\n       '\"Air Conditioning\"', 'Kitchen', 'Heating', '\"Family/Kid Friendly\"',\n       'Washer', 'Dryer', '\"Free Parking on Premises\"',\n       '\"Buzzer/Wireless Intercom\"', '\"Smoke Detector\"',\n       '\"Carbon Monoxide Detector\"', '\"First Aid Kit\"', '\"Safety Card\"',\n       '\"Fire Extinguisher\"', 'Essentials', '\"Pets Allowed\"',\n       '\"Pets live on this property\"', 'Dog(s)', 'Cat(s)', '\"Hot Tub\"',\n       '\"Indoor Fireplace\"', 'Shampoo', 'Breakfast', '\"24-Hour Check-in\"',\n       'Hangers', '\"Hair Dryer\"', 'Iron', '\"Laptop Friendly Workspace\"',\n       '\"Suitable for Events\"', '\"Elevator in Building\"',\n       '\"Lock on Bedroom Door\"', '\"Wheelchair Accessible\"', 'Gym', 'Pool',\n       '\"Smoking Allowed\"', '\"Other pet(s)\"', 'Doorman', '\"Washer / Dryer\"'],\n      dtype='object')"
     ]
    }
   ],
   "source": [
    "catlist = catlist.join(amenities_dummies, how='left')\n",
    "listings_clean = pd.concat([numlist_, catlist], axis=1)\n",
    "listings_clean.columns"
   ]
  },
  {
   "cell_type": "code",
   "execution_count": 226,
   "metadata": {},
   "outputs": [
    {
     "data": {
      "text/plain": [
       "<matplotlib.axes._subplots.AxesSubplot at 0x280758f0508>"
      ]
     },
     "execution_count": 226,
     "metadata": {},
     "output_type": "execute_result"
    },
    {
     "data": {
      "image/png": "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\n",
      "text/plain": [
       "<Figure size 432x288 with 1 Axes>"
      ]
     },
     "metadata": {
      "needs_background": "light"
     },
     "output_type": "display_data"
    }
   ],
   "source": [
    "listdata_clean['price'].hist(bins=100)"
   ]
  },
  {
   "cell_type": "code",
   "execution_count": 149,
   "metadata": {},
   "outputs": [],
   "source": [
    "from sklearn.linear_model import LinearRegression\n",
    "from sklearn.model_selection import train_test_split\n",
    "from sklearn.preprocessing import StandardScaler\n",
    "from sklearn.ensemble import RandomForestRegressor\n",
    "from sklearn.ensemble import AdaBoostRegressor\n",
    "from sklearn import linear_model\n",
    "from sklearn.metrics import mean_squared_error\n",
    "from sklearn.metrics import r2_score\n",
    "import seaborn as sns\n",
    "\n",
    "\n",
    "X = listdata3.drop( ['price','id'] ,axis=1)\n",
    "y = listdata3['price']\n",
    "scaler = StandardScaler().fit(X)\n",
    "rescaledX = scaler.transform(X)"
   ]
  },
  {
   "cell_type": "code",
   "execution_count": 150,
   "metadata": {},
   "outputs": [
    {
     "data": {
      "text/plain": [
       "[<matplotlib.lines.Line2D at 0x14abfc04240>]"
      ]
     },
     "execution_count": 150,
     "metadata": {},
     "output_type": "execute_result"
    },
    {
     "data": {
      "image/png": "iVBORw0KGgoAAAANSUhEUgAAAXcAAAD8CAYAAACMwORRAAAABHNCSVQICAgIfAhkiAAAAAlwSFlz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\ndxERH/r/6/ys74L3HTEAAAAASUVORK5CYII=\n",
      "text/plain": [
       "<matplotlib.figure.Figure at 0x14ac2d5c898>"
      ]
     },
     "metadata": {},
     "output_type": "display_data"
    }
   ],
   "source": [
    "from sklearn.decomposition import PCA\n",
    "explained_var = list()\n",
    "for i in range(1,90):\n",
    "    pca = PCA(n_components=i)\n",
    "    pca.fit(rescaledX)\n",
    "    explained_var.append(pca.explained_variance_ratio_.sum())\n",
    "x = np.arange(1, 90)\n",
    "expained_var = np.array(explained_var)\n",
    "plt.plot(x,explained_var)"
   ]
  },
  {
   "cell_type": "code",
   "execution_count": 151,
   "metadata": {},
   "outputs": [
    {
     "data": {
      "text/plain": [
       "0.76731759880860007"
      ]
     },
     "execution_count": 151,
     "metadata": {},
     "output_type": "execute_result"
    }
   ],
   "source": [
    "pca = PCA(n_components=42) \n",
    "pca.fit(rescaledX)\n",
    "pcadata = pca.fit_transform(rescaledX)\n",
    "pca.explained_variance_ratio_.sum()"
   ]
  },
  {
   "cell_type": "code",
   "execution_count": 152,
   "metadata": {},
   "outputs": [
    {
     "data": {
      "text/plain": [
       "LinearRegression(copy_X=True, fit_intercept=True, n_jobs=1, normalize=True)"
      ]
     },
     "execution_count": 152,
     "metadata": {},
     "output_type": "execute_result"
    }
   ],
   "source": [
    "X_train, X_test, y_train, y_test = train_test_split(pcadata, y, test_size=0.25, random_state=42)\n",
    "lnmodel = LinearRegression(normalize=True)\n",
    "lnmodel.fit(X_train,y_train)"
   ]
  },
  {
   "cell_type": "code",
   "execution_count": 153,
   "metadata": {},
   "outputs": [
    {
     "name": "stdout",
     "output_type": "stream",
     "text": [
      "MSE train: 3565.882, test: 3521.115\n",
      "R^2 train: 0.558, test: 0.578\n"
     ]
    }
   ],
   "source": [
    "y_test_pred = lnmodel.predict(X_test)\n",
    "y_train_pred = lnmodel.predict(X_train)\n",
    "print('MSE train: %.3f, test: %.3f' % (\n",
    "        mean_squared_error(y_train, y_train_pred),\n",
    "        mean_squared_error(y_test, y_test_pred)))\n",
    "print('R^2 train: %.3f, test: %.3f' % (\n",
    "        r2_score(y_train, y_train_pred),\n",
    "        r2_score(y_test, y_test_pred)))"
   ]
  },
  {
   "cell_type": "code",
   "execution_count": 154,
   "metadata": {
    "collapsed": true
   },
   "outputs": [],
   "source": [
    "#Write a function to report performance of the model\n",
    "def model_perf(Xdata,component_low,component_high,model):\n",
    "    mse_train = list()\n",
    "    mse_test = list()\n",
    "    r2_train = list()\n",
    "    r2_test = list()\n",
    "    for i in range(component_low,component_high):\n",
    "        pca = PCA(n_components=i) \n",
    "        pca.fit(Xdata)\n",
    "        pcadata = pca.fit_transform(Xdata)\n",
    "        X_train, X_test, y_train, y_test = train_test_split(pcadata, y, test_size=0.25, random_state=42)\n",
    "        model.fit(X_train,y_train)\n",
    "        y_test_pred = model.predict(X_test)\n",
    "        y_train_pred = model.predict(X_train)\n",
    "        mse_train.append(mean_squared_error(y_train, y_train_pred))\n",
    "        mse_test.append(mean_squared_error(y_test, y_test_pred))\n",
    "        r2_train.append(r2_score(y_train, y_train_pred))\n",
    "        r2_test.append(r2_score(y_test, y_test_pred))\n",
    "    x = range(component_low,component_high)\n",
    "    plt.plot(x,mse_train,color='black')\n",
    "    plt.plot(x,mse_test,color='blue')\n",
    "    plt.show()"
   ]
  },
  {
   "cell_type": "code",
   "execution_count": 155,
   "metadata": {},
   "outputs": [
    {
     "data": {
      "image/png": "iVBORw0KGgoAAAANSUhEUgAAAYEAAAD8CAYAAACRkhiPAAAABHNCSVQICAgIfAhkiAAAAAlwSFlz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\nF1YK2d1rAAAAAElFTkSuQmCC\n",
      "text/plain": [
       "<matplotlib.figure.Figure at 0x14ac1e96940>"
      ]
     },
     "metadata": {},
     "output_type": "display_data"
    }
   ],
   "source": [
    "lnmodel = LinearRegression(normalize=True)\n",
    "model_perf(rescaledX,20,55,lnmodel)"
   ]
  },
  {
   "cell_type": "code",
   "execution_count": 156,
   "metadata": {},
   "outputs": [
    {
     "data": {
      "image/png": "iVBORw0KGgoAAAANSUhEUgAAAYEAAAD8CAYAAACRkhiPAAAABHNCSVQICAgIfAhkiAAAAAlwSFlz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\n",
      "text/plain": [
       "<matplotlib.figure.Figure at 0x14abfd11be0>"
      ]
     },
     "metadata": {},
     "output_type": "display_data"
    }
   ],
   "source": [
    "lassomodel = linear_model.Lasso(alpha=0.8)\n",
    "model_perf(rescaledX,20,55,lassomodel)"
   ]
  },
  {
   "cell_type": "code",
   "execution_count": 157,
   "metadata": {},
   "outputs": [
    {
     "name": "stdout",
     "output_type": "stream",
     "text": [
      "MSE train: 3584.311, test: 3505.572\n",
      "R^2 train: 0.556, test: 0.580\n"
     ]
    }
   ],
   "source": [
    "pca = PCA(n_components=46) \n",
    "pca.fit(rescaledX)\n",
    "pcadata = pca.fit_transform(rescaledX)\n",
    "pca.explained_variance_ratio_.sum()\n",
    "lassomodel = linear_model.Lasso(alpha=0.8)\n",
    "lassomodel.fit(X_train, y_train)\n",
    "y_train_pred = lassomodel.predict(X_train)\n",
    "y_test_pred = lassomodel.predict(X_test)\n",
    "print('MSE train: %.3f, test: %.3f' % (\n",
    "        mean_squared_error(y_train, y_train_pred),\n",
    "        mean_squared_error(y_test, y_test_pred)))\n",
    "print('R^2 train: %.3f, test: %.3f' % (\n",
    "        r2_score(y_train, y_train_pred),\n",
    "        r2_score(y_test, y_test_pred)))"
   ]
  },
  {
   "cell_type": "code",
   "execution_count": null,
   "metadata": {
    "collapsed": true
   },
   "outputs": [],
   "source": []
  },
  {
   "cell_type": "code",
=======
>>>>>>> c1795c19fc1ac214015ba52bab0b4ed6dcf53448
   "execution_count": null,
   "metadata": {
    "collapsed": true
   },
   "outputs": [],
   "source": []
<<<<<<< HEAD
  },
  {
   "cell_type": "code",
   "execution_count": 89,
   "metadata": {
    "scrolled": true
   },
   "outputs": [
    {
     "data": {
      "text/html": [
       "<div>\n",
       "<style>\n",
       "    .dataframe thead tr:only-child th {\n",
       "        text-align: right;\n",
       "    }\n",
       "\n",
       "    .dataframe thead th {\n",
       "        text-align: left;\n",
       "    }\n",
       "\n",
       "    .dataframe tbody tr th {\n",
       "        vertical-align: top;\n",
       "    }\n",
       "</style>\n",
       "<table border=\"1\" class=\"dataframe\">\n",
       "  <thead>\n",
       "    <tr style=\"text-align: right;\">\n",
       "      <th></th>\n",
       "      <th>listing_id</th>\n",
       "      <th>date</th>\n",
       "      <th>available</th>\n",
       "      <th>price</th>\n",
       "    </tr>\n",
       "  </thead>\n",
       "  <tbody>\n",
       "    <tr>\n",
       "      <th>0</th>\n",
       "      <td>241032</td>\n",
       "      <td>2016-01-04</td>\n",
       "      <td>1</td>\n",
       "      <td>85.0</td>\n",
       "    </tr>\n",
       "    <tr>\n",
       "      <th>1</th>\n",
       "      <td>241032</td>\n",
       "      <td>2016-01-05</td>\n",
       "      <td>1</td>\n",
       "      <td>85.0</td>\n",
       "    </tr>\n",
       "    <tr>\n",
       "      <th>9</th>\n",
       "      <td>241032</td>\n",
       "      <td>2016-01-13</td>\n",
       "      <td>1</td>\n",
       "      <td>85.0</td>\n",
       "    </tr>\n",
       "    <tr>\n",
       "      <th>10</th>\n",
       "      <td>241032</td>\n",
       "      <td>2016-01-14</td>\n",
       "      <td>1</td>\n",
       "      <td>85.0</td>\n",
       "    </tr>\n",
       "    <tr>\n",
       "      <th>14</th>\n",
       "      <td>241032</td>\n",
       "      <td>2016-01-18</td>\n",
       "      <td>1</td>\n",
       "      <td>85.0</td>\n",
       "    </tr>\n",
       "  </tbody>\n",
       "</table>\n",
       "</div>"
      ],
      "text/plain": [
       "    listing_id       date  available  price\n",
       "0       241032 2016-01-04          1   85.0\n",
       "1       241032 2016-01-05          1   85.0\n",
       "9       241032 2016-01-13          1   85.0\n",
       "10      241032 2016-01-14          1   85.0\n",
       "14      241032 2016-01-18          1   85.0"
      ]
     },
     "execution_count": 89,
     "metadata": {},
     "output_type": "execute_result"
    }
   ],
   "source": [
    "\n",
    "calendar['date'] = pd.to_datetime(calendar['date'])\n",
    "calendar[['price']] = calendar[['price']].replace('[\\$,]','',regex=True).astype(float)\n",
    "calendar = calendar.dropna()\n",
    "calendar.head()"
   ]
  },
  {
   "cell_type": "code",
   "execution_count": 113,
   "metadata": {},
   "outputs": [
    {
     "name": "stdout",
     "output_type": "stream",
     "text": [
      "date\n",
      "2016-01-31    121.692505\n",
      "2016-02-29    124.315614\n",
      "2016-03-31    128.640797\n",
      "2016-04-30    135.109460\n",
      "2016-05-31    139.539566\n",
      "2016-06-30    147.469191\n",
      "2016-07-31    152.102977\n",
      "2016-08-31    150.657032\n",
      "2016-09-30    143.277182\n",
      "2016-10-31    137.033871\n",
      "2016-11-30    135.687825\n",
      "2016-12-31    137.238611\n",
      "2017-01-31    136.849867\n",
      "Freq: M, Name: price, dtype: float64\n",
      "increase percentage:0.24899334374229598\n"
     ]
    }
   ],
   "source": [
    "pricedf = calendar.groupby(['date'])['price'].mean()\n",
    "print(pricedf.resample('M').mean())\n",
    "print(\"increase percentage:{}\".format((152.0-121.7)/121.69))\n",
    "\n",
    "# pricedf = calendar.groupby(['date'])['price'].median()\n",
    "# print(pricedf.resample('M').median())\n",
    "# print(\"increase percentage:{}\".format((110.0-99)/99))"
   ]
  },
  {
   "cell_type": "code",
   "execution_count": 114,
   "metadata": {},
   "outputs": [
    {
     "data": {
      "text/plain": [
       "<matplotlib.axes._subplots.AxesSubplot at 0x14ac2ddf160>"
      ]
     },
     "execution_count": 114,
     "metadata": {},
     "output_type": "execute_result"
    },
    {
     "data": {
      "image/png": "iVBORw0KGgoAAAANSUhEUgAAAYMAAAEVCAYAAAACW4lMAAAABHNCSVQICAgIfAhkiAAAAAlwSFlz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\n",
      "text/plain": [
       "<matplotlib.figure.Figure at 0x14ac2b22e10>"
      ]
     },
     "metadata": {},
     "output_type": "display_data"
    }
   ],
   "source": [
    "pricedf = calendar.groupby(['date'])['price'].mean()\n",
    "plt.subplot(211)\n",
    "pricedf.resample('D').mean().plot()\n",
    "plt.subplot(212)\n",
    "pricedf.resample('W').mean().plot()"
   ]
  },
  {
   "cell_type": "markdown",
   "metadata": {
    "collapsed": true,
    "scrolled": true
   },
   "source": [
    "###### Conclusion\n",
    "\n",
    "From the above mean price line graphs, we can see the busiest season of Seattle in a year is around summer\n",
    "\n",
    "the price keeps going from January(average price:122) reached to the peak on July (average price:152). \n",
    "\n",
    "The mean of the listing price increased by 24.9% compared the start of the year."
   ]
=======
>>>>>>> c1795c19fc1ac214015ba52bab0b4ed6dcf53448
  },
  {
   "cell_type": "code",
   "execution_count": 89,
   "metadata": {
    "collapsed": false,
    "scrolled": true
   },
   "outputs": [
    {
     "data": {
      "text/html": [
       "<div>\n",
       "<style>\n",
       "    .dataframe thead tr:only-child th {\n",
       "        text-align: right;\n",
       "    }\n",
       "\n",
       "    .dataframe thead th {\n",
       "        text-align: left;\n",
       "    }\n",
       "\n",
       "    .dataframe tbody tr th {\n",
       "        vertical-align: top;\n",
       "    }\n",
       "</style>\n",
       "<table border=\"1\" class=\"dataframe\">\n",
       "  <thead>\n",
       "    <tr style=\"text-align: right;\">\n",
       "      <th></th>\n",
       "      <th>listing_id</th>\n",
       "      <th>date</th>\n",
       "      <th>available</th>\n",
       "      <th>price</th>\n",
       "    </tr>\n",
       "  </thead>\n",
       "  <tbody>\n",
       "    <tr>\n",
       "      <th>0</th>\n",
       "      <td>241032</td>\n",
       "      <td>2016-01-04</td>\n",
       "      <td>1</td>\n",
       "      <td>85.0</td>\n",
       "    </tr>\n",
       "    <tr>\n",
       "      <th>1</th>\n",
       "      <td>241032</td>\n",
       "      <td>2016-01-05</td>\n",
       "      <td>1</td>\n",
       "      <td>85.0</td>\n",
       "    </tr>\n",
       "    <tr>\n",
       "      <th>9</th>\n",
       "      <td>241032</td>\n",
       "      <td>2016-01-13</td>\n",
       "      <td>1</td>\n",
       "      <td>85.0</td>\n",
       "    </tr>\n",
       "    <tr>\n",
       "      <th>10</th>\n",
       "      <td>241032</td>\n",
       "      <td>2016-01-14</td>\n",
       "      <td>1</td>\n",
       "      <td>85.0</td>\n",
       "    </tr>\n",
       "    <tr>\n",
       "      <th>14</th>\n",
       "      <td>241032</td>\n",
       "      <td>2016-01-18</td>\n",
       "      <td>1</td>\n",
       "      <td>85.0</td>\n",
       "    </tr>\n",
       "  </tbody>\n",
       "</table>\n",
       "</div>"
      ],
      "text/plain": [
       "    listing_id       date  available  price\n",
       "0       241032 2016-01-04          1   85.0\n",
       "1       241032 2016-01-05          1   85.0\n",
       "9       241032 2016-01-13          1   85.0\n",
       "10      241032 2016-01-14          1   85.0\n",
       "14      241032 2016-01-18          1   85.0"
      ]
     },
     "execution_count": 89,
     "metadata": {},
     "output_type": "execute_result"
    }
   ],
   "source": [
    "\n",
    "calendar['date'] = pd.to_datetime(calendar['date'])\n",
    "calendar[['price']] = calendar[['price']].replace('[\\$,]','',regex=True).astype(float)\n",
    "calendar = calendar.dropna()\n",
    "calendar.head()"
   ]
  },
  {
   "cell_type": "code",
   "execution_count": 113,
   "metadata": {
    "collapsed": false
   },
   "outputs": [
    {
     "name": "stdout",
     "output_type": "stream",
     "text": [
      "date\n",
      "2016-01-31    121.692505\n",
      "2016-02-29    124.315614\n",
      "2016-03-31    128.640797\n",
      "2016-04-30    135.109460\n",
      "2016-05-31    139.539566\n",
      "2016-06-30    147.469191\n",
      "2016-07-31    152.102977\n",
      "2016-08-31    150.657032\n",
      "2016-09-30    143.277182\n",
      "2016-10-31    137.033871\n",
      "2016-11-30    135.687825\n",
      "2016-12-31    137.238611\n",
      "2017-01-31    136.849867\n",
      "Freq: M, Name: price, dtype: float64\n",
      "increase percentage:0.24899334374229598\n"
     ]
    }
   ],
   "source": [
    "pricedf = calendar.groupby(['date'])['price'].mean()\n",
    "print(pricedf.resample('M').mean())\n",
    "print(\"increase percentage:{}\".format((152.0-121.7)/121.69))\n",
    "\n",
    "# pricedf = calendar.groupby(['date'])['price'].median()\n",
    "# print(pricedf.resample('M').median())\n",
    "# print(\"increase percentage:{}\".format((110.0-99)/99))"
   ]
  },
  {
   "cell_type": "code",
   "execution_count": 114,
   "metadata": {
    "collapsed": false
   },
   "outputs": [
    {
     "data": {
      "text/plain": [
       "<matplotlib.axes._subplots.AxesSubplot at 0x14ac2ddf160>"
      ]
     },
     "execution_count": 114,
     "metadata": {},
     "output_type": "execute_result"
    },
    {
     "data": {
      "image/png": "iVBORw0KGgoAAAANSUhEUgAAAYMAAAEVCAYAAAACW4lMAAAABHNCSVQICAgIfAhkiAAAAAlwSFlz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\n",
      "text/plain": [
       "<matplotlib.figure.Figure at 0x14ac2b22e10>"
      ]
     },
     "metadata": {},
     "output_type": "display_data"
    }
   ],
   "source": [
    "pricedf = calendar.groupby(['date'])['price'].mean()\n",
    "plt.subplot(211)\n",
    "pricedf.resample('D').mean().plot()\n",
    "plt.subplot(212)\n",
    "pricedf.resample('W').mean().plot()"
   ]
  },
  {
   "cell_type": "markdown",
   "metadata": {
    "collapsed": true,
    "scrolled": true
   },
   "source": [
    "###### Conclusion\n",
    "\n",
    "From the above mean price line graphs, we can see the busiest season of Seattle in a year is around summer\n",
    "\n",
    "the price keeps going from January(average price:122) reached to the peak on July (average price:152). \n",
    "\n",
    "The mean of the listing price increased by 24.9% compared the start of the year."
   ]
  },
  {
   "cell_type": "code",
   "execution_count": null,
   "metadata": {
    "collapsed": true,
    "scrolled": true
   },
   "outputs": [],
   "source": []
  },
  {
   "cell_type": "code",
   "execution_count": null,
   "metadata": {
    "collapsed": true,
    "scrolled": true
   },
   "outputs": [],
   "source": []
  },
  {
   "cell_type": "code",
   "execution_count": null,
   "metadata": {
    "collapsed": true,
    "scrolled": true
   },
   "outputs": [],
   "source": []
  }
 ],
 "metadata": {
  "anaconda-cloud": {},
  "kernelspec": {
   "display_name": "Python [default]",
   "language": "python",
   "name": "python3"
  },
  "language_info": {
   "codemirror_mode": {
    "name": "ipython",
    "version": 3
   },
   "file_extension": ".py",
   "mimetype": "text/x-python",
   "name": "python",
   "nbconvert_exporter": "python",
   "pygments_lexer": "ipython3",
   "version": "3.5.2"
  }
 },
 "nbformat": 4,
 "nbformat_minor": 2
}
